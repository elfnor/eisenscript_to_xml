{
 "cells": [
  {
   "cell_type": "markdown",
   "metadata": {},
   "source": [
    "# test pyparsing diagrams"
   ]
  },
  {
   "cell_type": "code",
   "execution_count": 1,
   "metadata": {},
   "outputs": [],
   "source": [
    "from pyparsing import *"
   ]
  },
  {
   "cell_type": "code",
   "execution_count": 2,
   "metadata": {},
   "outputs": [],
   "source": [
    "street_address = Word(nums).set_name(\"house_number\") + Word(alphas)[1, ...].set_name(\"street_name\")\n",
    "street_address.set_name(\"street_address\")\n",
    "street_address.create_diagram(\"street_address_diagram.html\")"
   ]
  },
  {
   "cell_type": "code",
   "execution_count": 87,
   "metadata": {},
   "outputs": [],
   "source": [
    "color = one_of(\"RED ORANGE YELLOW GREEN BLUE PURPLE BLACK WHITE BROWN\")\n",
    "shape_type = one_of(\"SQUARE CIRCLE TRIANGLE STAR HEXAGON OCTAGON\")\n",
    "integer = Word(nums)\n",
    "shape_attr = Suppress(\"shape:\") + shape_type(\"s\")\n",
    "posn_attr = Suppress(\"posn:\")  + integer(\"x\") + Suppress(',') + integer(\"y\")\n",
    "color_attr = Suppress(\"color:\")  + color(\"c\")\n",
    "\n",
    "shape_spec = OneOrMore(Group(shape_attr + color_attr + posn_attr))"
   ]
  },
  {
   "cell_type": "code",
   "execution_count": 88,
   "metadata": {},
   "outputs": [],
   "source": [
    "tstr = '''\n",
    "    shape: SQUARE color: BLACK posn: 100, 120\n",
    "    shape: CIRCLE color: BLUE posn: 50,80\n",
    "    shape:TRIANGLE color:GREEN posn: 20,40 \n",
    "    '''"
   ]
  },
  {
   "cell_type": "code",
   "execution_count": 89,
   "metadata": {},
   "outputs": [
    {
     "data": {
      "text/plain": [
       "ParseResults([ParseResults(['SQUARE', 'BLACK', '100', '120'], {'s': 'SQUARE', 'c': 'BLACK', 'x': '100', 'y': '120'}), ParseResults(['CIRCLE', 'BLUE', '50', '80'], {'s': 'CIRCLE', 'c': 'BLUE', 'x': '50', 'y': '80'}), ParseResults(['TRIANGLE', 'GREEN', '20', '40'], {'s': 'TRIANGLE', 'c': 'GREEN', 'x': '20', 'y': '40'})], {})"
      ]
     },
     "execution_count": 89,
     "metadata": {},
     "output_type": "execute_result"
    }
   ],
   "source": [
    "r  = shape_spec.parse_string(tstr)\n",
    "r"
   ]
  },
  {
   "cell_type": "code",
   "execution_count": 90,
   "metadata": {},
   "outputs": [
    {
     "data": {
      "text/plain": [
       "3"
      ]
     },
     "execution_count": 90,
     "metadata": {},
     "output_type": "execute_result"
    }
   ],
   "source": [
    "len(r)"
   ]
  },
  {
   "cell_type": "code",
   "execution_count": 91,
   "metadata": {},
   "outputs": [
    {
     "name": "stdout",
     "output_type": "stream",
     "text": [
      "{'s': 'SQUARE', 'c': 'BLACK', 'x': '100', 'y': '120'}\n",
      "{'s': 'CIRCLE', 'c': 'BLUE', 'x': '50', 'y': '80'}\n",
      "{'s': 'TRIANGLE', 'c': 'GREEN', 'x': '20', 'y': '40'}\n"
     ]
    }
   ],
   "source": [
    "for i in r:\n",
    "    print(i.as_dict())"
   ]
  },
  {
   "cell_type": "code",
   "execution_count": 92,
   "metadata": {},
   "outputs": [
    {
     "name": "stdout",
     "output_type": "stream",
     "text": [
      "SQUARE BLACK 100 120\n",
      "CIRCLE BLUE 50 80\n",
      "TRIANGLE GREEN 20 40\n"
     ]
    }
   ],
   "source": [
    "for  i  in r:\n",
    "    print(i['s'], i['c'], i['x'], i['y'])"
   ]
  },
  {
   "cell_type": "code",
   "execution_count": 78,
   "metadata": {},
   "outputs": [
    {
     "data": {
      "text/plain": [
       "[['SQUARE', 'BLACK', '100', '120'],\n",
       " ['CIRCLE', 'BLUE', '50', '80'],\n",
       " ['TRIANGLE', 'GREEN', '20', '40']]"
      ]
     },
     "execution_count": 78,
     "metadata": {},
     "output_type": "execute_result"
    }
   ],
   "source": [
    "r.as_list()"
   ]
  },
  {
   "cell_type": "code",
   "execution_count": 79,
   "metadata": {},
   "outputs": [
    {
     "name": "stdout",
     "output_type": "stream",
     "text": [
      "[['SQUARE', 'BLACK', '100', '120'],\n",
      " ['CIRCLE', 'BLUE', '50', '80'],\n",
      " ['TRIANGLE', 'GREEN', '20', '40']]\n"
     ]
    }
   ],
   "source": [
    "r.pprint()"
   ]
  },
  {
   "cell_type": "code",
   "execution_count": 93,
   "metadata": {},
   "outputs": [],
   "source": [
    "r1_rule=\"\"\"\n",
    "{ x 1  rz 3 ry 5  } R1\n",
    "{ s 1 1 0.1 sat 0.9 } box\n",
    "\"\"\""
   ]
  },
  {
   "cell_type": "code",
   "execution_count": 95,
   "metadata": {},
   "outputs": [],
   "source": [
    "import eisenscript_to_xml as ex"
   ]
  },
  {
   "cell_type": "code",
   "execution_count": 96,
   "metadata": {},
   "outputs": [
    {
     "ename": "AttributeError",
     "evalue": "module 'eisenscript_to_xml' has no attribute 'call_grammar'",
     "output_type": "error",
     "traceback": [
      "\u001b[0;31m---------------------------------------------------------------------------\u001b[0m",
      "\u001b[0;31mAttributeError\u001b[0m                            Traceback (most recent call last)",
      "\u001b[1;32m/media/elfnor/BeastHoard/gits/eisenscript_to_xml/notebooks/scraps.ipynb Cell 14'\u001b[0m in \u001b[0;36m<cell line: 1>\u001b[0;34m()\u001b[0m\n\u001b[0;32m----> <a href='vscode-notebook-cell:/media/elfnor/BeastHoard/gits/eisenscript_to_xml/notebooks/scraps.ipynb#ch0000013?line=0'>1</a>\u001b[0m call \u001b[39m=\u001b[39m ex\u001b[39m.\u001b[39;49mcall_grammar()\n",
      "\u001b[0;31mAttributeError\u001b[0m: module 'eisenscript_to_xml' has no attribute 'call_grammar'"
     ]
    }
   ],
   "source": [
    "call = ex.call_grammar()"
   ]
  },
  {
   "cell_type": "code",
   "execution_count": 11,
   "metadata": {},
   "outputs": [
    {
     "name": "stdout",
     "output_type": "stream",
     "text": [
      "call 10 tx 1 r1_00\n",
      "rule r1_00\n",
      "   call 20 ty 2 r1_01\n",
      "rule r1_01\n",
      "   call 5 tz 3 r1\n"
     ]
    }
   ],
   "source": [
    "# test logic of nested loops\n",
    "data = [[10, 'tx 1'], [20, 'ty 2'], 'r1']\n",
    "\n",
    "# want something like (this is without the xml)\n",
    "s = \"\"\"call 10 tx 1 r1_00\n",
    "       rule r1_00\n",
    "          call 20 ty 2 r1_01\n",
    "       rule r1_01\n",
    "        call 5  ty z r1\"\"\"\n",
    "\n",
    "# write it long winded then refine\n",
    "\n",
    "\n",
    "\n",
    "# is it easier to turn data into a dict? or get it backa as dict\n",
    "# what would this look like\n",
    "\n",
    "data = [{'count': '10', 'tgroup': 'tx 1', 'rname': 'r1'}, \n",
    "        {'count': '20', 'tgroup': 'ty 2', 'rname': 'r1'},\n",
    "        {'count': '5', 'tgroup': 'tz 3', 'rname': 'r1'}]\n",
    "\n",
    "\n",
    "base_rname = data[-1]['rname']\n",
    "if len(data) > 1:\n",
    "    # replace all but last rule name with new one in chain\n",
    "    for i, loop in enumerate(data[:-1]):\n",
    "        loop['rname'] = f'{base_rname}_{i:02}'\n",
    "\n",
    "    # write data[0] as call rest as calls within new rules\n",
    "    print('call ' + data[0]['count'] + ' ' + data[0]['tgroup'] + ' ' + data[0]['rname'])\n",
    "    for i, loop in enumerate(data[1:]):\n",
    "        print('rule ' + data[i]['rname'])\n",
    "        print('   call ' + loop['count'] + ' ' + loop['tgroup'] + ' ' + loop['rname'])\n"
   ]
  },
  {
   "cell_type": "code",
   "execution_count": 12,
   "metadata": {},
   "outputs": [
    {
     "data": {
      "text/plain": [
       "[{'count': '10', 'tgroup': 'tx 1', 'rname': 'r1_00'},\n",
       " {'count': '20', 'tgroup': 'ty 2', 'rname': 'r1_01'},\n",
       " {'count': '5', 'tgroup': 'tz 3', 'rname': 'r1'}]"
      ]
     },
     "execution_count": 12,
     "metadata": {},
     "output_type": "execute_result"
    }
   ],
   "source": [
    "# what if count is missing? can force it to be 1 somewhere - wouldn't matter\n",
    "data"
   ]
  }
 ],
 "metadata": {
  "interpreter": {
   "hash": "1e1bbae3ba3d2e4c66a80b70820b105edcd72f39a4efc614088476d9a3b19e8d"
  },
  "kernelspec": {
   "display_name": "Python 3.8.10 ('eisenscript-to-xml-kiBzd_1a-py3.8')",
   "language": "python",
   "name": "python3"
  },
  "language_info": {
   "codemirror_mode": {
    "name": "ipython",
    "version": 3
   },
   "file_extension": ".py",
   "mimetype": "text/x-python",
   "name": "python",
   "nbconvert_exporter": "python",
   "pygments_lexer": "ipython3",
   "version": "3.8.10"
  },
  "orig_nbformat": 4
 },
 "nbformat": 4,
 "nbformat_minor": 2
}
