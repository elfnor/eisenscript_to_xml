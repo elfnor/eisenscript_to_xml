{
 "cells": [
  {
   "cell_type": "code",
   "execution_count": 5,
   "metadata": {},
   "outputs": [],
   "source": [
    "import pyparsing as pp\n",
    "from eisenscript_to_xml import eisenscript_to_xml as ex"
   ]
  },
  {
   "cell_type": "code",
   "execution_count": 17,
   "metadata": {},
   "outputs": [],
   "source": [
    "fg = ex.eisen_grammar()"
   ]
  },
  {
   "cell_type": "code",
   "execution_count": 9,
   "metadata": {},
   "outputs": [],
   "source": [
    "from pathlib import Path"
   ]
  },
  {
   "cell_type": "code",
   "execution_count": 10,
   "metadata": {},
   "outputs": [],
   "source": [
    "fn = Path(\"/media/elfnor/BeastHoard/gits/eisenscript_to_xml/tests/test_es/Examples/Ball.es\")"
   ]
  },
  {
   "cell_type": "code",
   "execution_count": 18,
   "metadata": {},
   "outputs": [],
   "source": [
    "results = fg.parse_file(fn)"
   ]
  },
  {
   "cell_type": "code",
   "execution_count": 19,
   "metadata": {},
   "outputs": [
    {
     "data": {
      "text/plain": [
       "'2000'"
      ]
     },
     "execution_count": 19,
     "metadata": {},
     "output_type": "execute_result"
    }
   ],
   "source": [
    "results['global_md']"
   ]
  },
  {
   "cell_type": "code",
   "execution_count": 23,
   "metadata": {},
   "outputs": [
    {
     "name": "stdout",
     "output_type": "stream",
     "text": [
      "['2000', ['R1'], ['R1', 'w', '10', [['x', '1'], ['rz', '3'], ['ry', '5'], 'R1'], [['s', '1', '1', '0.1'], 'box']], ['R1', 'w', '10', [['x', '1'], ['rz', '-3'], ['ry', '5'], 'R1'], [['s', '1', '1', '0.1'], 'box']]]\n",
      "- entry_calls: [['R1']]\n",
      "  [0]:\n",
      "    ['R1']\n",
      "    - rule_call: ['R1']\n",
      "    - trans: []\n",
      "- global_md: '2000'\n",
      "[0]:\n",
      "  2000\n",
      "[1]:\n",
      "  ['R1']\n",
      "  - rule_call: ['R1']\n",
      "  - trans: []\n",
      "[2]:\n",
      "  ['R1', 'w', '10', [['x', '1'], ['rz', '3'], ['ry', '5'], 'R1'], [['s', '1', '1', '0.1'], 'box']]\n",
      "  - rule_name: ['R1']\n",
      "  - wm: '10'\n",
      "  [0]:\n",
      "    R1\n",
      "  [1]:\n",
      "    w\n",
      "  [2]:\n",
      "    10\n",
      "  [3]:\n",
      "    [['x', '1'], ['rz', '3'], ['ry', '5'], 'R1']\n",
      "    - rule_call: ['R1']\n",
      "    - trans: [['x', '1'], ['rz', '3'], ['ry', '5']]\n",
      "      [0]:\n",
      "        ['x', '1']\n",
      "        - tid: 'x'\n",
      "        - tvalues: ['1']\n",
      "      [1]:\n",
      "        ['rz', '3']\n",
      "        - tid: 'rz'\n",
      "        - tvalues: ['3']\n",
      "      [2]:\n",
      "        ['ry', '5']\n",
      "        - tid: 'ry'\n",
      "        - tvalues: ['5']\n",
      "    [0]:\n",
      "      ['x', '1']\n",
      "      - tid: 'x'\n",
      "      - tvalues: ['1']\n",
      "    [1]:\n",
      "      ['rz', '3']\n",
      "      - tid: 'rz'\n",
      "      - tvalues: ['3']\n",
      "    [2]:\n",
      "      ['ry', '5']\n",
      "      - tid: 'ry'\n",
      "      - tvalues: ['5']\n",
      "    [3]:\n",
      "      R1\n",
      "  [4]:\n",
      "    [['s', '1', '1', '0.1'], 'box']\n",
      "    - shape_call: 'box'\n",
      "    - trans: [['s', '1', '1', '0.1']]\n",
      "      [0]:\n",
      "        ['s', '1', '1', '0.1']\n",
      "        - tid: 's'\n",
      "        - tvalues: ['1', '1', '0.1']\n",
      "    [0]:\n",
      "      ['s', '1', '1', '0.1']\n",
      "      - tid: 's'\n",
      "      - tvalues: ['1', '1', '0.1']\n",
      "    [1]:\n",
      "      box\n",
      "[3]:\n",
      "  ['R1', 'w', '10', [['x', '1'], ['rz', '-3'], ['ry', '5'], 'R1'], [['s', '1', '1', '0.1'], 'box']]\n",
      "  - rule_name: ['R1']\n",
      "  - wm: '10'\n",
      "  [0]:\n",
      "    R1\n",
      "  [1]:\n",
      "    w\n",
      "  [2]:\n",
      "    10\n",
      "  [3]:\n",
      "    [['x', '1'], ['rz', '-3'], ['ry', '5'], 'R1']\n",
      "    - rule_call: ['R1']\n",
      "    - trans: [['x', '1'], ['rz', '-3'], ['ry', '5']]\n",
      "      [0]:\n",
      "        ['x', '1']\n",
      "        - tid: 'x'\n",
      "        - tvalues: ['1']\n",
      "      [1]:\n",
      "        ['rz', '-3']\n",
      "        - tid: 'rz'\n",
      "        - tvalues: ['-3']\n",
      "      [2]:\n",
      "        ['ry', '5']\n",
      "        - tid: 'ry'\n",
      "        - tvalues: ['5']\n",
      "    [0]:\n",
      "      ['x', '1']\n",
      "      - tid: 'x'\n",
      "      - tvalues: ['1']\n",
      "    [1]:\n",
      "      ['rz', '-3']\n",
      "      - tid: 'rz'\n",
      "      - tvalues: ['-3']\n",
      "    [2]:\n",
      "      ['ry', '5']\n",
      "      - tid: 'ry'\n",
      "      - tvalues: ['5']\n",
      "    [3]:\n",
      "      R1\n",
      "  [4]:\n",
      "    [['s', '1', '1', '0.1'], 'box']\n",
      "    - shape_call: 'box'\n",
      "    - trans: [['s', '1', '1', '0.1']]\n",
      "      [0]:\n",
      "        ['s', '1', '1', '0.1']\n",
      "        - tid: 's'\n",
      "        - tvalues: ['1', '1', '0.1']\n",
      "    [0]:\n",
      "      ['s', '1', '1', '0.1']\n",
      "      - tid: 's'\n",
      "      - tvalues: ['1', '1', '0.1']\n",
      "    [1]:\n",
      "      box\n"
     ]
    }
   ],
   "source": [
    "print(results.dump())"
   ]
  },
  {
   "cell_type": "code",
   "execution_count": 21,
   "metadata": {},
   "outputs": [
    {
     "data": {
      "text/plain": [
       "ParseResults([ParseResults(['R1'], {'trans': [], 'rule_call': ['R1']})], {})"
      ]
     },
     "execution_count": 21,
     "metadata": {},
     "output_type": "execute_result"
    }
   ],
   "source": [
    "results['entry_calls']"
   ]
  }
 ],
 "metadata": {
  "interpreter": {
   "hash": "1e1bbae3ba3d2e4c66a80b70820b105edcd72f39a4efc614088476d9a3b19e8d"
  },
  "kernelspec": {
   "display_name": "Python 3.8.10 ('eisenscript-to-xml-kiBzd_1a-py3.8')",
   "language": "python",
   "name": "python3"
  },
  "language_info": {
   "codemirror_mode": {
    "name": "ipython",
    "version": 3
   },
   "file_extension": ".py",
   "mimetype": "text/x-python",
   "name": "python",
   "nbconvert_exporter": "python",
   "pygments_lexer": "ipython3",
   "version": "3.8.10"
  },
  "orig_nbformat": 4
 },
 "nbformat": 4,
 "nbformat_minor": 2
}
