{
 "cells": [
  {
   "cell_type": "markdown",
   "metadata": {},
   "source": [
    "# Translate eisenscript to eisenxml using lark"
   ]
  },
  {
   "cell_type": "code",
   "execution_count": 1,
   "metadata": {},
   "outputs": [],
   "source": [
    "from pathlib import Path\n",
    "from lark import Lark\n",
    "from lark.visitors import Interpreter, Transformer, v_args\n",
    "parser = Lark.open('eisenscript.lark')"
   ]
  },
  {
   "cell_type": "markdown",
   "metadata": {},
   "source": [
    "In eisen tree structure I have nodes for\n",
    " - main\n",
    " - global_md\n",
    " - entry\n",
    " - call\n",
    " - loop\n",
    " - trans \n",
    " - w_mod\n",
    " - md_mod\n",
    "\n",
    " will need an Interpreter method for each which adds something to the xml tree  \n",
    " how do I get token values?\n",
    " look   @visit_children_decor"
   ]
  },
  {
   "cell_type": "code",
   "execution_count": 2,
   "metadata": {},
   "outputs": [],
   "source": [
    "# minimal example\n",
    "test = \"\"\" 2 * { x 1 y 2} seed\n",
    "{ rx 1 ry 2} seed\n",
    "rule seed  { \n",
    "  box \n",
    "}\n",
    "\"\"\""
   ]
  },
  {
   "cell_type": "code",
   "execution_count": 3,
   "metadata": {},
   "outputs": [],
   "source": [
    "ball = \"\"\"set maxdepth 2000\n",
    "R1 \n",
    "\n",
    "rule R1 w 10 { \n",
    "{ x 1  rz 3 ry 5  } R1\n",
    "{ s 1 1 0.1 sat 0.9 } box\n",
    "} \n",
    "\"\"\""
   ]
  },
  {
   "cell_type": "code",
   "execution_count": 4,
   "metadata": {},
   "outputs": [
    {
     "data": {
      "text/plain": [
       "Tree(Token('RULE', 'main'), [Tree(Token('RULE', 'entry'), [Tree(Token('RULE', 'call'), [Tree('repeat', [Token('NUMBER', '2')]), Tree(Token('RULE', 'loop'), [Tree(Token('RULE', 'trans'), [Token('TID', 'x'), Token('VALUE', '1')]), Tree(Token('RULE', 'trans'), [Token('TID', 'y'), Token('VALUE', '2')])]), Tree('rulename', [Token('RULENAME', 'seed')])]), Tree(Token('RULE', 'call'), [Tree(Token('RULE', 'loop'), [Tree(Token('RULE', 'trans'), [Token('TID', 'rx'), Token('VALUE', '1')]), Tree(Token('RULE', 'trans'), [Token('TID', 'ry'), Token('VALUE', '2')])]), Tree('rulename', [Token('RULENAME', 'seed')])])]), Tree(Token('RULE', 'ruledef'), [Tree('rulename', [Token('RULENAME', 'seed')]), Tree(Token('RULE', 'call'), [Tree('rulename', [Token('RULENAME', 'box')])])])])"
      ]
     },
     "execution_count": 4,
     "metadata": {},
     "output_type": "execute_result"
    }
   ],
   "source": [
    "small = parser.parse(test)\n",
    "small"
   ]
  },
  {
   "cell_type": "code",
   "execution_count": 5,
   "metadata": {},
   "outputs": [
    {
     "name": "stdout",
     "output_type": "stream",
     "text": [
      "main\n",
      "  entry\n",
      "    call\n",
      "      repeat\t2\n",
      "      loop\n",
      "        trans\n",
      "          x\n",
      "          1\n",
      "        trans\n",
      "          y\n",
      "          2\n",
      "      rulename\tseed\n",
      "    call\n",
      "      loop\n",
      "        trans\n",
      "          rx\n",
      "          1\n",
      "        trans\n",
      "          ry\n",
      "          2\n",
      "      rulename\tseed\n",
      "  ruledef\n",
      "    rulename\tseed\n",
      "    call\n",
      "      rulename\tbox\n",
      "\n"
     ]
    }
   ],
   "source": [
    "print(small.pretty())"
   ]
  },
  {
   "cell_type": "code",
   "execution_count": 6,
   "metadata": {},
   "outputs": [],
   "source": [
    "from xml.etree import ElementTree as et\n",
    "from xml.dom import minidom\n"
   ]
  },
  {
   "cell_type": "code",
   "execution_count": 7,
   "metadata": {},
   "outputs": [],
   "source": [
    "def prettify(elem):\n",
    "    \"\"\"Return a pretty-printed XML string for the Element.\"\"\"\n",
    "    rough_string = et.tostring(elem, \"utf-8\")\n",
    "    reparsed = minidom.parseString(rough_string)\n",
    "    return reparsed.toprettyxml(indent=\"  \")\n",
    "\n",
    "class Itest(Interpreter):\n",
    "    \n",
    "    def convert(self, tree):\n",
    "        self.xmltree = et.Element('rules')\n",
    "        self.active = self.xmltree\n",
    "        self._visit_tree(tree)\n",
    "        return prettify(self.xmltree)\n",
    "    \n",
    "    def main(self, tree):\n",
    "        self.visit_children(tree)\n",
    "\n",
    "    def entry(self, tree):\n",
    "        self.active = et.SubElement(self.xmltree, \"rule\")\n",
    "        self.active.set(\"name\", \"entry\")\n",
    "        self.visit_children(tree)\n",
    "        self.active = self.xmltree\n",
    "        \n",
    "    def call(self, tree):   \n",
    "        # the tag is set in rulename method depending if call to rule or instance of shape\n",
    "        call = et.SubElement(self.active, \"dummy tag\")\n",
    "        current = self.active\n",
    "        self.active = call\n",
    "        print('len(call kids)', len(tree.children))\n",
    "        self.visit_children(tree)\n",
    "        self.active = current\n",
    "\n",
    "    @v_args(meta=True)\n",
    "    def trans(self, kids, meta):\n",
    "        tid = meta[0]\n",
    "        values = meta[1:]\n",
    "        \n",
    "        if tid == \"s\" and len(values) == 1:\n",
    "            tid = \"sa\"\n",
    "        if tid in (\"x\", \"y\", \"z\"):\n",
    "            tid = \"t\" + tid\n",
    "        if tid in ('tx', 'ty', 'tz', 'rx', 'ry', 'rz', 'sa', 's'):\n",
    "            tstr = tid + \" \" + \" \".join(values) \n",
    "        else:\n",
    "            tstr = ''\n",
    "        return tstr\n",
    "\n",
    "\n",
    "    def loop(self, tree):\n",
    "        # the list of transforms in {} brackets\n",
    "        tstr = ' '.join(self.visit_children(tree))\n",
    "        print(tstr)\n",
    "        self.active.set(\"transforms\", tstr.strip())\n",
    "\n",
    "    def ruledef(self, tree):\n",
    "        self.active = et.SubElement(self.xmltree, \"rule\")\n",
    "        self.visit_children(tree)\n",
    "        self.active = self.xmltree\n",
    "\n",
    "            \n",
    "    @v_args(inline=True)\n",
    "    def rulename(self, rname):\n",
    "        # can get here from ruledef or call or mmod\n",
    "        \n",
    "        if self.active.tag == \"dummy tag\":\n",
    "            # parent is call\n",
    "            if rname in [\"box\", \"grid\", \"sphere\", \"line\"]:\n",
    "                self.active.tag = \"instance\"\n",
    "                self.active.set(\"shape\", rname)\n",
    "            else: \n",
    "                self.active.tag = \"call\"\n",
    "                self.active.set(\"rule\", rname)\n",
    "        else:\n",
    "            # parent is ruledef\n",
    "            self.active.set(\"name\", rname)\n",
    "        \n",
    "\n",
    "    @v_args(inline=True)\n",
    "    def repeat(self, c):\n",
    "        self.active.set(\"count\", c)\n",
    "\n",
    "    @v_args(inline=True)\n",
    "    def wmod(self, weight):\n",
    "        self.active.set(\"weight\", weight)\n",
    "\n",
    "    @v_args(meta=True)\n",
    "    def mmod(self, kids, meta):\n",
    "        self.active.set(\"max_depth\", meta[0])\n",
    "        if len(meta) > 1:\n",
    "            self.active.set(\"successor\", meta[1])\n",
    "      "
   ]
  },
  {
   "cell_type": "code",
   "execution_count": 8,
   "metadata": {},
   "outputs": [
    {
     "name": "stdout",
     "output_type": "stream",
     "text": [
      "len(call kids) 3\n",
      "tx 1 ty 2\n",
      "len(call kids) 2\n",
      "rx 1 ry 2\n",
      "len(call kids) 1\n",
      "<?xml version=\"1.0\" ?>\n",
      "<rules>\n",
      "  <rule name=\"entry\">\n",
      "    <call count=\"2\" transforms=\"tx 1 ty 2\" rule=\"seed\"/>\n",
      "    <call transforms=\"rx 1 ry 2\" rule=\"seed\"/>\n",
      "  </rule>\n",
      "  <rule name=\"seed\">\n",
      "    <instance shape=\"box\"/>\n",
      "  </rule>\n",
      "</rules>\n",
      "\n"
     ]
    }
   ],
   "source": [
    "it = Itest().convert(small)\n",
    "print(it)"
   ]
  },
  {
   "cell_type": "markdown",
   "metadata": {},
   "source": [
    "Ok we have the the right xml structure for a simple case, now need to get the actual values for rulename, transform string, count attributes into the correct places.\n",
    "\n",
    "main -> entry -> call -> loop - > trans  \n",
    "     -> ruledef -> call -> loop -> trans \n",
    "\n",
    "transforms - DONE  \n",
    "count  - DONE  \n",
    "rulename - DONE  \n",
    "\n",
    "maybe do need a different grammar for a rule call and a shape instance?  \n",
    "Or could retag rule from rulename method? - DONE\n",
    "\n",
    "I think this works!\n",
    "\n",
    "then rule mods md_mod, w_mod and sucessor rule  - DONE  \n",
    "\n",
    "FIX grammar to include all set statements but only action set maxdepth\n",
    "ON principle, grammar should define everything in file, but Interprter only processes what's needed for eisenxml. This would make repurposing grammar parser for some other type of output possible.\n",
    "\n",
    "FIX multiple (nested) loops per call"
   ]
  },
  {
   "cell_type": "code",
   "execution_count": 9,
   "metadata": {},
   "outputs": [
    {
     "name": "stdout",
     "output_type": "stream",
     "text": [
      "len(call kids) 1\n",
      "len(call kids) 2\n",
      "tx 1 rz 3 ry 5\n",
      "len(call kids) 2\n",
      "s 1 1 0.1 \n",
      "<?xml version=\"1.0\" ?>\n",
      "<rules>\n",
      "  <rule name=\"entry\">\n",
      "    <call rule=\"R1\"/>\n",
      "  </rule>\n",
      "  <rule name=\"R1\" weight=\"10\" max_depth=\"20\">\n",
      "    <call transforms=\"tx 1 rz 3 ry 5\" rule=\"R1\"/>\n",
      "    <instance transforms=\"s 1 1 0.1\" shape=\"box\"/>\n",
      "  </rule>\n",
      "</rules>\n",
      "\n"
     ]
    }
   ],
   "source": [
    "ball = \"\"\"set maxdepth 2000\n",
    "R1 \n",
    "\n",
    "rule R1 w 10 md 20  { \n",
    "{ x 1  rz 3 ry 5  } R1\n",
    "{ s 1 1 0.1 sat 0.9 } box\n",
    "} \n",
    "\"\"\"\n",
    "balltree = parser.parse(ball)\n",
    "print(Itest().convert(balltree))"
   ]
  },
  {
   "cell_type": "markdown",
   "metadata": {},
   "source": [
    "can we make colour a generic string  \n",
    "\"red\" \n",
    "           | \"black\"\n",
    "           | \"white\"\n",
    "           | \"blue\"\n",
    "           | \"green\"\n",
    "\n",
    "oct below has nested rules and currently fails to parse\n",
    "change   \n",
    "`call: count* loop* rn`  \n",
    "to  \n",
    "`call: (count* loop*)* rn`  \n",
    "\n",
    "This only gets the last count * loop.  \n",
    "\n",
    "My old code did this:\n",
    "\n",
    "```xml\n",
    "<?xml version=\"1.0\" ?>\n",
    "<rules max_depth=\"100\">\n",
    "  <rule name=\"entry\">\n",
    "    <call transforms=\"ry 36\" count=\"10\" rule=\"r1_00\"/>\n",
    "  </rule>\n",
    "  <rule name=\"r1_00\">\n",
    "    <call transforms=\"ry 10\" count=\"30\" rule=\"r1\"/>\n",
    "  </rule>\n",
    "  <rule name=\"r1\" weight=\"20\">\n",
    "    <instance transforms=\"s 1 0.2 0.5\" shape=\"box\"/>\n",
    "    <call transforms=\"sa 0.9 rz 5 rx 5 tx 1\" rule=\"r1\"/>\n",
    "  </rule>\n",
    "  <rule name=\"r1\" weight=\"20\">\n",
    "    <instance transforms=\"s 1 0.2 0.5\" shape=\"box\"/>\n",
    "    <call transforms=\"sa 0.99 rz -5 rx -5 tx 1\" rule=\"r1\"/>\n",
    "  </rule>\n",
    "</rules>\n",
    "```\n",
    "\n",
    "It's created an extra rule \"r1_00\" and dropped the third nested rule. The code does say it only deals with two loops per call.\n",
    "\n",
    "Lark version visits all the loops but keeps overriding the atrributes\n",
    "Creating the extra rules here could be done by adding to the tree?\n",
    "\n",
    "Logic:  \n",
    "if more than one loop per call:\n",
    "  \n",
    "\n",
    "item? - Zero or one instances of item (”maybe”)\n",
    "item* - Zero or more instances of item\n",
    "item+ - One or more instances of item\n",
    "item ~ n - Exactly n instances of item\n",
    "item ~ n..m - Between n to m instances of item (not recommended for wide ranges, due to performance issues)\n"
   ]
  },
  {
   "cell_type": "code",
   "execution_count": 10,
   "metadata": {},
   "outputs": [
    {
     "name": "stdout",
     "output_type": "stream",
     "text": [
      "len(call kids) 7\n",
      "ry 36 \n",
      "ry 10\n",
      "   \n",
      "len(call kids) 2\n",
      "sa 0.9 rz 5  rx 5 tx 1\n",
      "len(call kids) 2\n",
      "s 1 0.2 0.5\n",
      "len(call kids) 2\n",
      "sa 0.99 rz -5  rx -5 tx 1\n",
      "len(call kids) 2\n",
      "s 1 0.2 0.5\n",
      "<?xml version=\"1.0\" ?>\n",
      "<rules>\n",
      "  <rule name=\"entry\">\n",
      "    <call count=\"1\" transforms=\"\" rule=\"r1\"/>\n",
      "  </rule>\n",
      "  <rule name=\"r1\" weight=\"20\">\n",
      "    <call transforms=\"sa 0.9 rz 5  rx 5 tx 1\" rule=\"r1\"/>\n",
      "    <instance transforms=\"s 1 0.2 0.5\" shape=\"box\"/>\n",
      "  </rule>\n",
      "  <rule name=\"r1\" weight=\"20\">\n",
      "    <call transforms=\"sa 0.99 rz -5  rx -5 tx 1\" rule=\"r1\"/>\n",
      "    <instance transforms=\"s 1 0.2 0.5\" shape=\"box\"/>\n",
      "  </rule>\n",
      "  <rule name=\"r1\"/>\n",
      "</rules>\n",
      "\n"
     ]
    }
   ],
   "source": [
    "oct = \"\"\"set maxdepth 100\n",
    "\n",
    "10 * { ry 36 sat 0.9 } 30 * { ry 10 } 1 * { h 30 b 0.8 sat 0.8 a 0.3  } r1\n",
    "\n",
    "rule r1 w 20 {\n",
    "   { s 0.9 rz 5 h 5 rx 5 x 1 }  r1\n",
    "   { s 1 0.2 0.5 } box\n",
    "}\n",
    "\n",
    "rule r1 w 20 {\n",
    "   {  s 0.99 rz -5 h 5 rx -5 x 1 }   r1\n",
    "   { s 1 0.2 0.5 } box\n",
    "}\n",
    "\n",
    "rule r1  {\n",
    "}\"\"\"\n",
    "\n",
    "print(Itest().convert(parser.parse(oct)))"
   ]
  },
  {
   "cell_type": "code",
   "execution_count": 11,
   "metadata": {},
   "outputs": [
    {
     "name": "stdout",
     "output_type": "stream",
     "text": [
      "len(call kids) 5\n",
      "tx 1\n",
      "ty 2\n",
      "len(call kids) 1\n",
      "<?xml version=\"1.0\" ?>\n",
      "<rules>\n",
      "  <rule name=\"entry\">\n",
      "    <call count=\"20\" transforms=\"ty 2\" rule=\"r1\"/>\n",
      "  </rule>\n",
      "  <rule name=\"r1\">\n",
      "    <instance shape=\"box\"/>\n",
      "  </rule>\n",
      "</rules>\n",
      "\n"
     ]
    },
    {
     "data": {
      "text/plain": [
       "'\\n<?xml version=\"1.0\" ?>\\n<rules max_depth=\"100\">\\n  <rule name=\"entry\">\\n    <call transforms=\"tx 1\" count=\"10\" rule=\"r1_00\"/>\\n  </rule>\\n  <rule name=\"r1_00\">\\n    <call transforms=\"ty 2\" count=\"20\" rule=\"r1\"/>\\n  </rule>\\n  <rule name=\"r1\">\\n    <instance transforms=\"\" shape=\"box\"/>\\n  </rule>\\n</rules>\\n'"
      ]
     },
     "execution_count": 11,
     "metadata": {},
     "output_type": "execute_result"
    }
   ],
   "source": [
    "oct2 = \"\"\"set maxdepth 100\n",
    "\n",
    "10 * { x 1} 20 * { y 2 }  r1\n",
    "\n",
    "rule r1  {\n",
    "    box\n",
    "}\"\"\"\n",
    "\n",
    "t = parser.parse(oct2)\n",
    "print(Itest().convert(t))\n",
    "\n",
    "\"\"\"\n",
    "<?xml version=\"1.0\" ?>\n",
    "<rules max_depth=\"100\">\n",
    "  <rule name=\"entry\">\n",
    "    <call transforms=\"tx 1\" count=\"10\" rule=\"r1_00\"/>\n",
    "  </rule>\n",
    "  <rule name=\"r1_00\">\n",
    "    <call transforms=\"ty 2\" count=\"20\" rule=\"r1\"/>\n",
    "  </rule>\n",
    "  <rule name=\"r1\">\n",
    "    <instance transforms=\"\" shape=\"box\"/>\n",
    "  </rule>\n",
    "</rules>\n",
    "\"\"\""
   ]
  },
  {
   "cell_type": "code",
   "execution_count": 12,
   "metadata": {},
   "outputs": [
    {
     "name": "stdout",
     "output_type": "stream",
     "text": [
      "main\n",
      "  global_md\t100\n",
      "  entry\n",
      "    call\n",
      "      repeat\t10\n",
      "      loop\n",
      "        trans\n",
      "          x\n",
      "          1\n",
      "      repeat\t20\n",
      "      loop\n",
      "        trans\n",
      "          y\n",
      "          2\n",
      "      rulename\tr1\n",
      "  ruledef\n",
      "    rulename\tr1\n",
      "    call\n",
      "      rulename\tbox\n",
      "\n"
     ]
    }
   ],
   "source": [
    "print(t.pretty())"
   ]
  },
  {
   "cell_type": "markdown",
   "metadata": {},
   "source": [
    "Logic for two loops:  \n",
    "if 2 loops on call:  \n",
    "    make another rule from 2nd loop  \n",
    "    and call it from 1st loop  \n",
    "\n",
    "logic for more loops  \n",
    "    make a rule for each extra loop  \n",
    "    call them in  a chain  \n",
    "\n",
    "can we push the repeat down to the loop level like this\n",
    "\n",
    "```\n",
    "main\n",
    "  global_md\t100\n",
    "  entry\n",
    "    call     \n",
    "      loop\n",
    "        repeat\t10\n",
    "        trans\n",
    "          x\n",
    "          1     \n",
    "      loop\n",
    "        repeat\t20\n",
    "        trans\n",
    "          y\n",
    "          2\n",
    "      rulename\tr1\n",
    "  ruledef\n",
    "    rulename\tr1\n",
    "    call\n",
    "      rulename\tbox\n",
    "```\n",
    "This would mean we had all the bits for a new rule in one place."
   ]
  },
  {
   "cell_type": "code",
   "execution_count": 13,
   "metadata": {},
   "outputs": [
    {
     "name": "stdout",
     "output_type": "stream",
     "text": [
      "main\n",
      "  global_md\t100\n",
      "  entry\n",
      "    call\n",
      "      repeat\t10\n",
      "      loop\n",
      "        trans\n",
      "          x\n",
      "          1\n",
      "      repeat\t20\n",
      "      loop\n",
      "        trans\n",
      "          y\n",
      "          2\n",
      "      rulename\tr1\n",
      "  ruledef\n",
      "    rulename\tr1\n",
      "    call\n",
      "      rulename\tbox\n",
      "\n"
     ]
    }
   ],
   "source": [
    "print(t.pretty())"
   ]
  }
 ],
 "metadata": {
  "interpreter": {
   "hash": "1e1bbae3ba3d2e4c66a80b70820b105edcd72f39a4efc614088476d9a3b19e8d"
  },
  "kernelspec": {
   "display_name": "Python 3.8.10 ('eisenscript-to-xml-kiBzd_1a-py3.8')",
   "language": "python",
   "name": "python3"
  },
  "language_info": {
   "codemirror_mode": {
    "name": "ipython",
    "version": 3
   },
   "file_extension": ".py",
   "mimetype": "text/x-python",
   "name": "python",
   "nbconvert_exporter": "python",
   "pygments_lexer": "ipython3",
   "version": "3.9.5"
  },
  "orig_nbformat": 4
 },
 "nbformat": 4,
 "nbformat_minor": 2
}
