{
 "cells": [
  {
   "cell_type": "code",
   "execution_count": 1,
   "metadata": {},
   "outputs": [],
   "source": [
    "from pathlib import Path\n",
    "\n",
    "from xml.etree import ElementTree as et\n",
    "from eisenscript_to_xml.lark_inter import Iesxml, parser\n"
   ]
  },
  {
   "cell_type": "code",
   "execution_count": 2,
   "metadata": {},
   "outputs": [
    {
     "name": "stdout",
     "output_type": "stream",
     "text": [
      "<?xml version=\"1.0\" ?>\n",
      "<rules max_depth=\"20\">\n",
      "  <rule name=\"entry\">\n",
      "    <call rule=\"dbox\" count=\"10\" transforms=\"rz 36\"/>\n",
      "  </rule>\n",
      "  <rule name=\"dbox\" weight=\"10\">\n",
      "    <instance shape=\"box\" count=\"1\" transforms=\"tx 9.999\"/>\n",
      "  </rule>\n",
      "  <rule name=\"dbox\" weight=\"5\">\n",
      "    <instance shape=\"box\" count=\"1\" transforms=\"tx 10.001\"/>\n",
      "  </rule>\n",
      "</rules>\n",
      "\n"
     ]
    }
   ],
   "source": [
    "test = \"\"\"set maxdepth 20\n",
    "10 * { rz 36 }  dbox\n",
    "\n",
    "rule dbox w 10{\n",
    " {x 9.999} box\n",
    "}\n",
    "\n",
    "rule dbox w 5{\n",
    "{ x 10.001  } box\n",
    "}\"\"\"\n",
    "test = parser.parse(test)\n",
    "xmlstr = Iesxml().convert(test)\n",
    "print(xmlstr)"
   ]
  },
  {
   "cell_type": "markdown",
   "metadata": {},
   "source": [
    "\n",
    "Still to do\n",
    "color stings, adapt parser to allow almost any string - DONE I think\n",
    "set directives, get parser to read all - Interpreter only understands set maxdepth  - DONE  I think\n",
    "transforms should be empty on loops with only color transforms\n",
    "if there's no transforms but still a call count should be 1  DONE\n",
    "\n",
    "\n",
    "examples of set attributes and camera\n",
    "set maxobjects  10400\n",
    "set background #454\n",
    "\n",
    "set translation [-3.33009 0.0259899 -20]\n",
    "set rotation [0.147791 -0.237766 -0.960012 -0.822766 -0.568209 0.014066 -0.548833 0.787786 -0.279602]\n",
    "set pivot [0 0 0]\n",
    "set scale 0.18957\n",
    "\n",
    "\n",
    "These seem to go either at the top or between the entry calls and the first rule definition, and to be one per line\n",
    "\n",
    "TESTS\n",
    "\n",
    "\n",
    "not implemented but on  \n",
    "http://structuresynth.sourceforge.net/reference.php\n",
    " m  matrix\n",
    " fx, fy, fz mirror\n",
    " \n",
    "Use LSystem from Sverchok to test. Strip out all sverchok/blender stuff \n",
    "Needs a matrix multiplication currently uses blender mathutils.\n",
    "there is the standalone version\n",
    "https://gitlab.com/ideasman42/blender-mathutils\n",
    "\n",
    "poetry add mathutils\n",
    "gives lots of errors at fundamental gcc level\n",
    "\n",
    "The version here\n",
    "https://github.com/prideout/lsystem/blob/master/Python/LSystem.py\n",
    "uses euclid!!\n",
    "\n",
    "make a mash up,\n",
    "poetry add git+https://github.com/r1chardj0n3s/euclid.git\n",
    "\n",
    "functions needed are \n",
    "\n",
    "mu.Matrix.Identity(4)\n",
    "mu.Matrix(m) @ mu.Vector(v)\n",
    "matrix @= mu.Matrix.Translation(mu.Vector((x, 0, 0)))\n",
    "matrix @= mu.Matrix.Rotation(theta, 4, \"X\")\n",
    "matrix @= mu.Matrix.Scale(x, 4, mu.Vector((1.0, 0.0, 0.0)))\n",
    "\n"
   ]
  },
  {
   "cell_type": "code",
   "execution_count": 3,
   "metadata": {},
   "outputs": [],
   "source": [
    "from eisenscript_to_xml.generative_art import LSystem"
   ]
  },
  {
   "cell_type": "code",
   "execution_count": 4,
   "metadata": {},
   "outputs": [],
   "source": [
    "lsys = LSystem(xmlstr, 100)\n",
    "shapes = lsys.evaluate(0)"
   ]
  },
  {
   "cell_type": "code",
   "execution_count": 5,
   "metadata": {},
   "outputs": [
    {
     "data": {
      "text/plain": [
       "11"
      ]
     },
     "execution_count": 5,
     "metadata": {},
     "output_type": "execute_result"
    }
   ],
   "source": [
    "len(shapes)"
   ]
  },
  {
   "cell_type": "markdown",
   "metadata": {},
   "source": [
    "Have a working copy of original Structure Synth installed for comparison. Can I get simple stats like number of objects? The obj export doesn't come as objects. just v e f.  \n",
    "There are other template exports.\n",
    "the gss file format \n",
    "is b followed by 19 numbers = 4 x 4 transform matrix , 3 vector for rgb.\n",
    "This would be pretty easy to compare with shapes output.\n",
    "Could also just count rows.\n",
    "Or get LSystem to have a .gss output.\n",
    "\n",
    "I'm going to find the output is different - do I care?\n",
    "Do the structures look the same? Yes.\n",
    "\n",
    "How would I look at how they differ?\n",
    "use or rewrite simple importer for gss files into Blender, use sverchok scripted node -DONE\n",
    "\n",
    "visually the the two gss files do the same thing as the xml generatve art, but the numbers look different\n",
    "how to determine equivalent mathematically?\n",
    "Playing in Sverchok  \n",
    "Matrices are in opposite order, and centered around a different point  \n",
    "\n",
    "![](\"Screenshot from 2022-05-01 16-17-32.png\")\n",
    "\n",
    "Just compare list lengths for testing, as I think GA LSystem is correct.\n",
    "The GA version is centered on the origin with radius 10 and the boxes centered on the matrix points.\n",
    "The SS version is offset oddly.\n",
    "If I export obj from SS and import into Blender one corner of the obj cubes matches the centre of the GA version.\n",
    "But I can't do a simple overlay of the obj over the gss from SS version???\n",
    "The gss exporter is odd? The same numbers get sent to the povray file.\n",
    "I don't get it.\n",
    "\n",
    "Interstng things happen if you simplify the es as below. The obj's are the same, but the gss are different.\n",
    "\n"
   ]
  },
  {
   "cell_type": "code",
   "execution_count": 6,
   "metadata": {},
   "outputs": [
    {
     "name": "stdout",
     "output_type": "stream",
     "text": [
      "0.999999,-0.001185,0.000000,0.000000,0.001185,0.999999,0.000000,0.000000,0.000000,0.000000,1.000000,0.000000,10.000993,-0.011854,0.000000,1.000000\n",
      "0.808389,-0.588648,0.000000,0.000000,0.588648,0.808389,0.000000,0.000000,0.000000,0.000000,1.000000,0.000000,8.084703,-5.887068,0.000000,1.000000\n",
      "0.308115,-0.951349,0.000000,0.000000,0.951349,0.308115,0.000000,0.000000,0.000000,0.000000,1.000000,0.000000,3.080842,-9.512540,0.000000,1.000000\n",
      "-0.309806,-0.950800,0.000000,0.000000,0.950800,-0.309806,0.000000,0.000000,0.000000,0.000000,1.000000,0.000000,-3.097750,-9.507047,0.000000,1.000000\n",
      "-0.809435,-0.587210,0.000000,0.000000,0.587210,-0.809435,0.000000,0.000000,0.000000,0.000000,1.000000,0.000000,-8.093539,-5.871510,0.000000,1.000000\n",
      "-1.000000,0.000593,0.000000,0.000000,-0.000593,-1.000000,0.000000,0.000000,0.000000,0.000000,1.000000,0.000000,-9.998998,0.005926,0.000000,1.000000\n",
      "-0.808738,0.588169,0.000000,0.000000,-0.588169,-0.808738,0.000000,0.000000,0.000000,0.000000,1.000000,0.000000,-8.086573,5.881099,0.000000,1.000000\n",
      "-0.308679,0.951166,0.000000,0.000000,-0.951166,-0.308679,0.000000,0.000000,0.000000,0.000000,1.000000,0.000000,-3.086479,9.510712,0.000000,1.000000\n",
      "0.309242,0.950983,0.000000,0.000000,-0.950983,0.309242,0.000000,0.000000,0.000000,0.000000,1.000000,0.000000,3.092734,9.510783,0.000000,1.000000\n",
      "0.809087,0.587689,0.000000,0.000000,-0.587689,0.809087,0.000000,0.000000,0.000000,0.000000,1.000000,0.000000,8.091676,5.877481,0.000000,1.000000\n",
      "\n"
     ]
    }
   ],
   "source": [
    "s = ''\n",
    "for shape, m in shapes[1:]:\n",
    "    s += ','.join([f'{i:.6f}' for i in m]) + '\\n'\n",
    "print(s)"
   ]
  },
  {
   "cell_type": "code",
   "execution_count": 7,
   "metadata": {},
   "outputs": [],
   "source": [
    "fn = 'ring_xml3.gss'\n",
    "with open(fn, 'w') as f:\n",
    "    f.write(s)"
   ]
  },
  {
   "cell_type": "markdown",
   "metadata": {},
   "source": [
    "``` python\n",
    "# gss_matrices.py scripted node lite\n",
    "\"\"\"\n",
    "in dummy  s\n",
    "out matrices      m\n",
    "out test1          s\n",
    "\"\"\"\n",
    "\n",
    "from mathutils import Matrix\n",
    "\n",
    "fn = '/home/elfnor/beasthoard/gits/eisenscript_to_xml/notebooks/ring_es.gss'\n",
    "\n",
    "with open(fn, 'r') as f:\n",
    "    data = f.readlines()\n",
    "\n",
    "mats= []\n",
    "for d in data:\n",
    "    m = d.strip().split(' ')\n",
    "    m = [float(n) for n in m[1:]]\n",
    "    m = [m[n:n+4] for n in range(0, len(m), 4) ]\n",
    "    mats.append(Matrix(m).transposed())\n",
    "\n",
    "matrices = mats\n",
    "test1 = [len(data)]\n",
    "```"
   ]
  },
  {
   "cell_type": "code",
   "execution_count": 8,
   "metadata": {},
   "outputs": [
    {
     "name": "stdout",
     "output_type": "stream",
     "text": [
      "<?xml version=\"1.0\" ?>\n",
      "<rules max_depth=\"10\">\n",
      "  <rule name=\"entry\">\n",
      "    <call rule=\"dbox\" count=\"10\" transforms=\"rz 36\"/>\n",
      "  </rule>\n",
      "  <rule name=\"dbox\">\n",
      "    <instance shape=\"box\" count=\"1\" transforms=\"tx 10\"/>\n",
      "  </rule>\n",
      "</rules>\n",
      "\n"
     ]
    }
   ],
   "source": [
    "test = \"\"\"set maxdepth 10\n",
    "10 * { rz 36 }  dbox\n",
    "rule dbox {\n",
    " {x 10 }  box\n",
    "}\n",
    "\"\"\"\n",
    "test = parser.parse(test)\n",
    "xmlstr = Iesxml().convert(test)\n",
    "print(xmlstr)"
   ]
  },
  {
   "cell_type": "markdown",
   "metadata": {},
   "source": [
    "\\#define commands \n",
    "\n",
    "#define angle 36\n",
    "\n",
    "`<constants  angle=\"36\" />`\n",
    "\n",
    "and \n",
    "`<call rule=\"dbox\" count=\"10\" transforms=\"rz {angle}\"/>`\n",
    "\n",
    "need to redefine VALUE in grammar to include names\n",
    "\n",
    "does svechok version handle constants? Can't see it in code?\n",
    "There was a preprocessr that substitued?\n",
    "Happens in  `xml_text_format(self)` which I've not included here!\n",
    "\n",
    "\n"
   ]
  },
  {
   "cell_type": "code",
   "execution_count": 9,
   "metadata": {},
   "outputs": [
    {
     "ename": "UnexpectedCharacters",
     "evalue": "No terminal matches '#' in the current parser context, at line 1 col 1\n\n#define angle 36\n^\nExpected one of: \n\t* NUMBER\n\t* NAME\n\t* SET\n\t* LBRACE\n",
     "output_type": "error",
     "traceback": [
      "\u001b[0;31m---------------------------------------------------------------------------\u001b[0m",
      "\u001b[0;31mUnexpectedCharacters\u001b[0m                      Traceback (most recent call last)",
      "\u001b[1;32m/media/elfnor/BeastHoard/gits/eisenscript_to_xml/notebooks/08-lark-module.ipynb Cell 13'\u001b[0m in \u001b[0;36m<cell line: 8>\u001b[0;34m()\u001b[0m\n\u001b[1;32m      <a href='vscode-notebook-cell:/media/elfnor/BeastHoard/gits/eisenscript_to_xml/notebooks/08-lark-module.ipynb#ch0000012?line=0'>1</a>\u001b[0m test \u001b[39m=\u001b[39m \u001b[39m\"\"\"\u001b[39m\u001b[39m#define angle 36\u001b[39m\n\u001b[1;32m      <a href='vscode-notebook-cell:/media/elfnor/BeastHoard/gits/eisenscript_to_xml/notebooks/08-lark-module.ipynb#ch0000012?line=1'>2</a>\u001b[0m \u001b[39mset maxdepth 20\u001b[39m\n\u001b[1;32m      <a href='vscode-notebook-cell:/media/elfnor/BeastHoard/gits/eisenscript_to_xml/notebooks/08-lark-module.ipynb#ch0000012?line=2'>3</a>\u001b[0m \u001b[39m10 * \u001b[39m\u001b[39m{\u001b[39m\u001b[39m rz angle}  dbox\u001b[39m\n\u001b[0;32m   (...)\u001b[0m\n\u001b[1;32m      <a href='vscode-notebook-cell:/media/elfnor/BeastHoard/gits/eisenscript_to_xml/notebooks/08-lark-module.ipynb#ch0000012?line=5'>6</a>\u001b[0m \u001b[39m}\u001b[39m\n\u001b[1;32m      <a href='vscode-notebook-cell:/media/elfnor/BeastHoard/gits/eisenscript_to_xml/notebooks/08-lark-module.ipynb#ch0000012?line=6'>7</a>\u001b[0m \u001b[39m\"\"\"\u001b[39m\n\u001b[0;32m----> <a href='vscode-notebook-cell:/media/elfnor/BeastHoard/gits/eisenscript_to_xml/notebooks/08-lark-module.ipynb#ch0000012?line=7'>8</a>\u001b[0m test \u001b[39m=\u001b[39m parser\u001b[39m.\u001b[39;49mparse(test)\n\u001b[1;32m      <a href='vscode-notebook-cell:/media/elfnor/BeastHoard/gits/eisenscript_to_xml/notebooks/08-lark-module.ipynb#ch0000012?line=8'>9</a>\u001b[0m xmlstr \u001b[39m=\u001b[39m Iesxml()\u001b[39m.\u001b[39mconvert(test)\n\u001b[1;32m     <a href='vscode-notebook-cell:/media/elfnor/BeastHoard/gits/eisenscript_to_xml/notebooks/08-lark-module.ipynb#ch0000012?line=9'>10</a>\u001b[0m \u001b[39mprint\u001b[39m(xmlstr)\n",
      "File \u001b[0;32m~/.cache/pypoetry/virtualenvs/eisenscript-to-xml-kiBzd_1a-py3.9/lib/python3.9/site-packages/lark/lark.py:625\u001b[0m, in \u001b[0;36mLark.parse\u001b[0;34m(self, text, start, on_error)\u001b[0m\n\u001b[1;32m    <a href='file:///home/elfnor/.cache/pypoetry/virtualenvs/eisenscript-to-xml-kiBzd_1a-py3.9/lib/python3.9/site-packages/lark/lark.py?line=606'>607</a>\u001b[0m \u001b[39mdef\u001b[39;00m \u001b[39mparse\u001b[39m(\u001b[39mself\u001b[39m, text: \u001b[39mstr\u001b[39m, start: Optional[\u001b[39mstr\u001b[39m]\u001b[39m=\u001b[39m\u001b[39mNone\u001b[39;00m, on_error: \u001b[39m'\u001b[39m\u001b[39mOptional[Callable[[UnexpectedInput], bool]]\u001b[39m\u001b[39m'\u001b[39m\u001b[39m=\u001b[39m\u001b[39mNone\u001b[39;00m) \u001b[39m-\u001b[39m\u001b[39m>\u001b[39m \u001b[39m'\u001b[39m\u001b[39mParseTree\u001b[39m\u001b[39m'\u001b[39m:\n\u001b[1;32m    <a href='file:///home/elfnor/.cache/pypoetry/virtualenvs/eisenscript-to-xml-kiBzd_1a-py3.9/lib/python3.9/site-packages/lark/lark.py?line=607'>608</a>\u001b[0m     \u001b[39m\"\"\"Parse the given text, according to the options provided.\u001b[39;00m\n\u001b[1;32m    <a href='file:///home/elfnor/.cache/pypoetry/virtualenvs/eisenscript-to-xml-kiBzd_1a-py3.9/lib/python3.9/site-packages/lark/lark.py?line=608'>609</a>\u001b[0m \n\u001b[1;32m    <a href='file:///home/elfnor/.cache/pypoetry/virtualenvs/eisenscript-to-xml-kiBzd_1a-py3.9/lib/python3.9/site-packages/lark/lark.py?line=609'>610</a>\u001b[0m \u001b[39m    Parameters:\u001b[39;00m\n\u001b[0;32m   (...)\u001b[0m\n\u001b[1;32m    <a href='file:///home/elfnor/.cache/pypoetry/virtualenvs/eisenscript-to-xml-kiBzd_1a-py3.9/lib/python3.9/site-packages/lark/lark.py?line=622'>623</a>\u001b[0m \n\u001b[1;32m    <a href='file:///home/elfnor/.cache/pypoetry/virtualenvs/eisenscript-to-xml-kiBzd_1a-py3.9/lib/python3.9/site-packages/lark/lark.py?line=623'>624</a>\u001b[0m \u001b[39m    \"\"\"\u001b[39;00m\n\u001b[0;32m--> <a href='file:///home/elfnor/.cache/pypoetry/virtualenvs/eisenscript-to-xml-kiBzd_1a-py3.9/lib/python3.9/site-packages/lark/lark.py?line=624'>625</a>\u001b[0m     \u001b[39mreturn\u001b[39;00m \u001b[39mself\u001b[39;49m\u001b[39m.\u001b[39;49mparser\u001b[39m.\u001b[39;49mparse(text, start\u001b[39m=\u001b[39;49mstart, on_error\u001b[39m=\u001b[39;49mon_error)\n",
      "File \u001b[0;32m~/.cache/pypoetry/virtualenvs/eisenscript-to-xml-kiBzd_1a-py3.9/lib/python3.9/site-packages/lark/parser_frontends.py:96\u001b[0m, in \u001b[0;36mParsingFrontend.parse\u001b[0;34m(self, text, start, on_error)\u001b[0m\n\u001b[1;32m     <a href='file:///home/elfnor/.cache/pypoetry/virtualenvs/eisenscript-to-xml-kiBzd_1a-py3.9/lib/python3.9/site-packages/lark/parser_frontends.py?line=93'>94</a>\u001b[0m kw \u001b[39m=\u001b[39m {} \u001b[39mif\u001b[39;00m on_error \u001b[39mis\u001b[39;00m \u001b[39mNone\u001b[39;00m \u001b[39melse\u001b[39;00m {\u001b[39m'\u001b[39m\u001b[39mon_error\u001b[39m\u001b[39m'\u001b[39m: on_error}\n\u001b[1;32m     <a href='file:///home/elfnor/.cache/pypoetry/virtualenvs/eisenscript-to-xml-kiBzd_1a-py3.9/lib/python3.9/site-packages/lark/parser_frontends.py?line=94'>95</a>\u001b[0m stream \u001b[39m=\u001b[39m \u001b[39mself\u001b[39m\u001b[39m.\u001b[39m_make_lexer_thread(text)\n\u001b[0;32m---> <a href='file:///home/elfnor/.cache/pypoetry/virtualenvs/eisenscript-to-xml-kiBzd_1a-py3.9/lib/python3.9/site-packages/lark/parser_frontends.py?line=95'>96</a>\u001b[0m \u001b[39mreturn\u001b[39;00m \u001b[39mself\u001b[39;49m\u001b[39m.\u001b[39;49mparser\u001b[39m.\u001b[39;49mparse(stream, chosen_start, \u001b[39m*\u001b[39;49m\u001b[39m*\u001b[39;49mkw)\n",
      "File \u001b[0;32m~/.cache/pypoetry/virtualenvs/eisenscript-to-xml-kiBzd_1a-py3.9/lib/python3.9/site-packages/lark/parsers/earley.py:266\u001b[0m, in \u001b[0;36mParser.parse\u001b[0;34m(self, lexer, start)\u001b[0m\n\u001b[1;32m    <a href='file:///home/elfnor/.cache/pypoetry/virtualenvs/eisenscript-to-xml-kiBzd_1a-py3.9/lib/python3.9/site-packages/lark/parsers/earley.py?line=262'>263</a>\u001b[0m     \u001b[39melse\u001b[39;00m:\n\u001b[1;32m    <a href='file:///home/elfnor/.cache/pypoetry/virtualenvs/eisenscript-to-xml-kiBzd_1a-py3.9/lib/python3.9/site-packages/lark/parsers/earley.py?line=263'>264</a>\u001b[0m         columns[\u001b[39m0\u001b[39m]\u001b[39m.\u001b[39madd(item)\n\u001b[0;32m--> <a href='file:///home/elfnor/.cache/pypoetry/virtualenvs/eisenscript-to-xml-kiBzd_1a-py3.9/lib/python3.9/site-packages/lark/parsers/earley.py?line=265'>266</a>\u001b[0m to_scan \u001b[39m=\u001b[39m \u001b[39mself\u001b[39;49m\u001b[39m.\u001b[39;49m_parse(lexer, columns, to_scan, start_symbol)\n\u001b[1;32m    <a href='file:///home/elfnor/.cache/pypoetry/virtualenvs/eisenscript-to-xml-kiBzd_1a-py3.9/lib/python3.9/site-packages/lark/parsers/earley.py?line=267'>268</a>\u001b[0m \u001b[39m# If the parse was successful, the start\u001b[39;00m\n\u001b[1;32m    <a href='file:///home/elfnor/.cache/pypoetry/virtualenvs/eisenscript-to-xml-kiBzd_1a-py3.9/lib/python3.9/site-packages/lark/parsers/earley.py?line=268'>269</a>\u001b[0m \u001b[39m# symbol should have been completed in the last step of the Earley cycle, and will be in\u001b[39;00m\n\u001b[1;32m    <a href='file:///home/elfnor/.cache/pypoetry/virtualenvs/eisenscript-to-xml-kiBzd_1a-py3.9/lib/python3.9/site-packages/lark/parsers/earley.py?line=269'>270</a>\u001b[0m \u001b[39m# this column. Find the item for the start_symbol, which is the root of the SPPF tree.\u001b[39;00m\n\u001b[1;32m    <a href='file:///home/elfnor/.cache/pypoetry/virtualenvs/eisenscript-to-xml-kiBzd_1a-py3.9/lib/python3.9/site-packages/lark/parsers/earley.py?line=270'>271</a>\u001b[0m solutions \u001b[39m=\u001b[39m [n\u001b[39m.\u001b[39mnode \u001b[39mfor\u001b[39;00m n \u001b[39min\u001b[39;00m columns[\u001b[39m-\u001b[39m\u001b[39m1\u001b[39m] \u001b[39mif\u001b[39;00m n\u001b[39m.\u001b[39mis_complete \u001b[39mand\u001b[39;00m n\u001b[39m.\u001b[39mnode \u001b[39mis\u001b[39;00m \u001b[39mnot\u001b[39;00m \u001b[39mNone\u001b[39;00m \u001b[39mand\u001b[39;00m n\u001b[39m.\u001b[39ms \u001b[39m==\u001b[39m start_symbol \u001b[39mand\u001b[39;00m n\u001b[39m.\u001b[39mstart \u001b[39m==\u001b[39m \u001b[39m0\u001b[39m]\n",
      "File \u001b[0;32m~/.cache/pypoetry/virtualenvs/eisenscript-to-xml-kiBzd_1a-py3.9/lib/python3.9/site-packages/lark/parsers/xearley.py:146\u001b[0m, in \u001b[0;36mParser._parse\u001b[0;34m(self, stream, columns, to_scan, start_symbol)\u001b[0m\n\u001b[1;32m    <a href='file:///home/elfnor/.cache/pypoetry/virtualenvs/eisenscript-to-xml-kiBzd_1a-py3.9/lib/python3.9/site-packages/lark/parsers/xearley.py?line=142'>143</a>\u001b[0m \u001b[39mfor\u001b[39;00m token \u001b[39min\u001b[39;00m stream:\n\u001b[1;32m    <a href='file:///home/elfnor/.cache/pypoetry/virtualenvs/eisenscript-to-xml-kiBzd_1a-py3.9/lib/python3.9/site-packages/lark/parsers/xearley.py?line=143'>144</a>\u001b[0m     \u001b[39mself\u001b[39m\u001b[39m.\u001b[39mpredict_and_complete(i, to_scan, columns, transitives)\n\u001b[0;32m--> <a href='file:///home/elfnor/.cache/pypoetry/virtualenvs/eisenscript-to-xml-kiBzd_1a-py3.9/lib/python3.9/site-packages/lark/parsers/xearley.py?line=145'>146</a>\u001b[0m     to_scan \u001b[39m=\u001b[39m scan(i, to_scan)\n\u001b[1;32m    <a href='file:///home/elfnor/.cache/pypoetry/virtualenvs/eisenscript-to-xml-kiBzd_1a-py3.9/lib/python3.9/site-packages/lark/parsers/xearley.py?line=147'>148</a>\u001b[0m     \u001b[39mif\u001b[39;00m token \u001b[39m==\u001b[39m \u001b[39m'\u001b[39m\u001b[39m\\n\u001b[39;00m\u001b[39m'\u001b[39m:\n\u001b[1;32m    <a href='file:///home/elfnor/.cache/pypoetry/virtualenvs/eisenscript-to-xml-kiBzd_1a-py3.9/lib/python3.9/site-packages/lark/parsers/xearley.py?line=148'>149</a>\u001b[0m         text_line \u001b[39m+\u001b[39m\u001b[39m=\u001b[39m \u001b[39m1\u001b[39m\n",
      "File \u001b[0;32m~/.cache/pypoetry/virtualenvs/eisenscript-to-xml-kiBzd_1a-py3.9/lib/python3.9/site-packages/lark/parsers/xearley.py:119\u001b[0m, in \u001b[0;36mParser._parse.<locals>.scan\u001b[0;34m(i, to_scan)\u001b[0m\n\u001b[1;32m    <a href='file:///home/elfnor/.cache/pypoetry/virtualenvs/eisenscript-to-xml-kiBzd_1a-py3.9/lib/python3.9/site-packages/lark/parsers/xearley.py?line=116'>117</a>\u001b[0m \u001b[39mif\u001b[39;00m \u001b[39mnot\u001b[39;00m next_set \u001b[39mand\u001b[39;00m \u001b[39mnot\u001b[39;00m delayed_matches \u001b[39mand\u001b[39;00m \u001b[39mnot\u001b[39;00m next_to_scan:\n\u001b[1;32m    <a href='file:///home/elfnor/.cache/pypoetry/virtualenvs/eisenscript-to-xml-kiBzd_1a-py3.9/lib/python3.9/site-packages/lark/parsers/xearley.py?line=117'>118</a>\u001b[0m     considered_rules \u001b[39m=\u001b[39m \u001b[39mlist\u001b[39m(\u001b[39msorted\u001b[39m(to_scan, key\u001b[39m=\u001b[39m\u001b[39mlambda\u001b[39;00m key: key\u001b[39m.\u001b[39mrule\u001b[39m.\u001b[39morigin\u001b[39m.\u001b[39mname))\n\u001b[0;32m--> <a href='file:///home/elfnor/.cache/pypoetry/virtualenvs/eisenscript-to-xml-kiBzd_1a-py3.9/lib/python3.9/site-packages/lark/parsers/xearley.py?line=118'>119</a>\u001b[0m     \u001b[39mraise\u001b[39;00m UnexpectedCharacters(stream, i, text_line, text_column, {item\u001b[39m.\u001b[39mexpect\u001b[39m.\u001b[39mname \u001b[39mfor\u001b[39;00m item \u001b[39min\u001b[39;00m to_scan},\n\u001b[1;32m    <a href='file:///home/elfnor/.cache/pypoetry/virtualenvs/eisenscript-to-xml-kiBzd_1a-py3.9/lib/python3.9/site-packages/lark/parsers/xearley.py?line=119'>120</a>\u001b[0m                                \u001b[39mset\u001b[39m(to_scan), state\u001b[39m=\u001b[39m\u001b[39mfrozenset\u001b[39m(i\u001b[39m.\u001b[39ms \u001b[39mfor\u001b[39;00m i \u001b[39min\u001b[39;00m to_scan),\n\u001b[1;32m    <a href='file:///home/elfnor/.cache/pypoetry/virtualenvs/eisenscript-to-xml-kiBzd_1a-py3.9/lib/python3.9/site-packages/lark/parsers/xearley.py?line=120'>121</a>\u001b[0m                                considered_rules\u001b[39m=\u001b[39mconsidered_rules\n\u001b[1;32m    <a href='file:///home/elfnor/.cache/pypoetry/virtualenvs/eisenscript-to-xml-kiBzd_1a-py3.9/lib/python3.9/site-packages/lark/parsers/xearley.py?line=121'>122</a>\u001b[0m                                )\n\u001b[1;32m    <a href='file:///home/elfnor/.cache/pypoetry/virtualenvs/eisenscript-to-xml-kiBzd_1a-py3.9/lib/python3.9/site-packages/lark/parsers/xearley.py?line=123'>124</a>\u001b[0m \u001b[39mreturn\u001b[39;00m next_to_scan\n",
      "\u001b[0;31mUnexpectedCharacters\u001b[0m: No terminal matches '#' in the current parser context, at line 1 col 1\n\n#define angle 36\n^\nExpected one of: \n\t* NUMBER\n\t* NAME\n\t* SET\n\t* LBRACE\n"
     ]
    }
   ],
   "source": [
    "test = \"\"\"#define angle 36\n",
    "set maxdepth 20\n",
    "10 * { rz angle}  dbox\n",
    "rule dbox {\n",
    " {x +10.0 }  box\n",
    "}\n",
    "\"\"\"\n",
    "test = parser.parse(test)\n",
    "xmlstr = Iesxml().convert(test)\n",
    "print(xmlstr)"
   ]
  },
  {
   "cell_type": "code",
   "execution_count": null,
   "metadata": {},
   "outputs": [],
   "source": [
    "lsys = LSystem(xmlstr, 100)\n",
    "shapes = lsys.evaluate(0)\n",
    "len(shapes)"
   ]
  },
  {
   "cell_type": "code",
   "execution_count": null,
   "metadata": {},
   "outputs": [],
   "source": [
    "xml_tree = et.fromstring(xmlstr)\n",
    "type(xml_tree)"
   ]
  },
  {
   "cell_type": "code",
   "execution_count": null,
   "metadata": {},
   "outputs": [],
   "source": [
    "import xml\n",
    "isinstance(xml_tree, et.Element)"
   ]
  },
  {
   "cell_type": "code",
   "execution_count": null,
   "metadata": {},
   "outputs": [],
   "source": [
    "fn = Path('/media/elfnor/BeastHoard/gits/eisenscript_to_xml/tests/test_es/Examples/Torus2.es')\n",
    "with open(fn, 'r') as f:\n",
    "    es_text = f.read()\n",
    "test = parser.parse(es_text)\n",
    "xmlstr = Iesxml().convert(test)\n",
    "lsys = LSystem(xmlstr, 5000)\n",
    "shapes = lsys.evaluate(0)\n",
    "\n"
   ]
  },
  {
   "cell_type": "code",
   "execution_count": null,
   "metadata": {},
   "outputs": [],
   "source": [
    "print(xmlstr)"
   ]
  },
  {
   "cell_type": "code",
   "execution_count": null,
   "metadata": {},
   "outputs": [],
   "source": [
    "es_files = Path('/media/elfnor/BeastHoard/gits/eisenscript_to_xml/tests/test_es').rglob('*.es')\n",
    "for fn in es_files:\n",
    "    print(str(fn), end='')\n",
    "    with open(fn, 'r') as f:\n",
    "        xml_text = f.read()\n",
    "    try:\n",
    "        test = parser.parse(xml_text)\n",
    "    except: \n",
    "        print(' parser error ', end='')\n",
    "    try:\n",
    "        xmlstr = Iesxml().convert(test)\n",
    "    except:\n",
    "        print(' interprter error ', end='')\n",
    "    try:\n",
    "        lsys = LSystem(xmlstr, 100)\n",
    "        shapes = lsys.evaluate(0)\n",
    "    except:\n",
    "        print(' xml lsystem error ', end='')\n",
    "    print()\n",
    "    print()\n",
    "\n",
    "        "
   ]
  },
  {
   "cell_type": "code",
   "execution_count": null,
   "metadata": {},
   "outputs": [],
   "source": [
    "es_text = \"\"\"#define angle 36\n",
    "set maxdepth 20\n",
    "10 * { rz angle}  dbox\n",
    "#define _radius 10\n",
    "rule dbox {\n",
    " {x _radius }  box\n",
    "}\n",
    "\"\"\"\n",
    "\n",
    "# rough go at #define preprocessor without grammar\n",
    "# assume #define happens before use\n",
    "# is naive about replacement\n",
    "es_lines  = es_text.splitlines()\n",
    "# print(es_text)\n",
    "format_dict = {}\n",
    "new_lines = []\n",
    "for line in es_lines:\n",
    "    if line.startswith('#define'):\n",
    "        print(line)\n",
    "        parts = line.split()\n",
    "        if len(parts)  == 3:\n",
    "            format_dict[parts[1]] = parts[2]\n",
    "    else:\n",
    "        print('old ', line)\n",
    "        for key, item in format_dict.items():\n",
    "            line = line.replace(key, item)\n",
    "        new_lines.append(line)\n",
    "        print('new ',line)\n",
    "        print()\n",
    "print('\\n'.join(new_lines))\n",
    "\n"
   ]
  },
  {
   "cell_type": "code",
   "execution_count": null,
   "metadata": {},
   "outputs": [
    {
     "name": "stdout",
     "output_type": "stream",
     "text": [
      "<?xml version=\"1.0\" ?>\n",
      "<rules max_depth=\"20\">\n",
      "  <rule name=\"entry\">\n",
      "    <call rule=\"dbox\" count=\"10\" transforms=\"rz 36\"/>\n",
      "  </rule>\n",
      "  <rule name=\"dbox\" weight=\"0.1\">\n",
      "    <instance shape=\"box\" count=\"1\" transforms=\"tx 9.999\"/>\n",
      "  </rule>\n",
      "  <rule name=\"dbox\">\n",
      "    <instance shape=\"box\" count=\"1\" transforms=\"tx 9.999\"/>\n",
      "  </rule>\n",
      "  <rule name=\"dbox\" weight=\"0.5\">\n",
      "    <instance shape=\"box\" count=\"1\" transforms=\"tx 10.001\"/>\n",
      "  </rule>\n",
      "</rules>\n",
      "\n"
     ]
    }
   ],
   "source": [
    "test = \"\"\"set maxdepth 20\n",
    "10 * { rz 36 }  dbox\n",
    "\n",
    "rule dbox w 0.1{\n",
    " {x 9.999} box\n",
    "}\n",
    "\n",
    "rule dbox {\n",
    " {x 9.999} box\n",
    "}\n",
    "rule dbox w 0.5 {\n",
    "{ x 10.001  } box\n",
    "}\"\"\"\n",
    "test = parser.parse(test)\n",
    "xml_text = Iesxml().convert(test)\n",
    "print(xml_text)"
   ]
  },
  {
   "cell_type": "code",
   "execution_count": null,
   "metadata": {},
   "outputs": [
    {
     "data": {
      "text/plain": [
       "[0.1, 1.0, 0.5]"
      ]
     },
     "execution_count": 62,
     "metadata": {},
     "output_type": "execute_result"
    }
   ],
   "source": [
    "# rough go at a postprocessor to convert float weights to integer\n",
    "xml_tree = et.fromstring(xml_text)\n",
    "rules = xml_tree.findall(\"rule\")\n",
    "weights = []\n",
    "for rule in rules[1:]:\n",
    "    w = float(rule.get('weight', 1))\n",
    "    weights.append(w)\n",
    "weights"
   ]
  },
  {
   "cell_type": "code",
   "execution_count": null,
   "metadata": {},
   "outputs": [],
   "source": [
    "wscale = int(1 / min(weights))\n",
    "new_weights = [int(wscale * w) for w in weights]"
   ]
  },
  {
   "cell_type": "code",
   "execution_count": null,
   "metadata": {},
   "outputs": [],
   "source": [
    "for w, rule in zip(new_weights, rules[1:]):\n",
    "    rule.set('weight', f'{w}')"
   ]
  },
  {
   "cell_type": "code",
   "execution_count": null,
   "metadata": {},
   "outputs": [],
   "source": [
    "import xml.etree.ElementTree as et\n",
    "from xml.dom import minidom\n",
    "\n",
    "def prettify(elem):\n",
    "    \"\"\"Return a pretty-printed XML string for the Element.\"\"\"\n",
    "    rough_string = et.tostring(elem, \"utf-8\")\n",
    "    reparsed = minidom.parseString(rough_string)\n",
    "    return reparsed.toprettyxml(indent=\"  \")"
   ]
  },
  {
   "cell_type": "code",
   "execution_count": null,
   "metadata": {},
   "outputs": [
    {
     "name": "stdout",
     "output_type": "stream",
     "text": [
      "<?xml version=\"1.0\" ?>\n",
      "<rules max_depth=\"20\">\n",
      "  \n",
      "  \n",
      "  <rule name=\"entry\">\n",
      "    \n",
      "    \n",
      "    <call rule=\"dbox\" count=\"10\" transforms=\"rz 36\"/>\n",
      "    \n",
      "  \n",
      "  </rule>\n",
      "  \n",
      "  \n",
      "  <rule name=\"dbox\" weight=\"1\">\n",
      "    \n",
      "    \n",
      "    <instance shape=\"box\" count=\"1\" transforms=\"tx 9.999\"/>\n",
      "    \n",
      "  \n",
      "  </rule>\n",
      "  \n",
      "  \n",
      "  <rule name=\"dbox\" weight=\"10\">\n",
      "    \n",
      "    \n",
      "    <instance shape=\"box\" count=\"1\" transforms=\"tx 9.999\"/>\n",
      "    \n",
      "  \n",
      "  </rule>\n",
      "  \n",
      "  \n",
      "  <rule name=\"dbox\" weight=\"5\">\n",
      "    \n",
      "    \n",
      "    <instance shape=\"box\" count=\"1\" transforms=\"tx 10.001\"/>\n",
      "    \n",
      "  \n",
      "  </rule>\n",
      "  \n",
      "\n",
      "</rules>\n",
      "\n"
     ]
    }
   ],
   "source": [
    "print(prettify(xml_tree))"
   ]
  }
 ],
 "metadata": {
  "interpreter": {
   "hash": "24ab9ebbf2cd930873385d6b22c6d802942b7e309b1c419f7424e6afecce521a"
  },
  "kernelspec": {
   "display_name": "Python 3.9.5 ('eisenscript-to-xml-kiBzd_1a-py3.9')",
   "language": "python",
   "name": "python3"
  },
  "language_info": {
   "codemirror_mode": {
    "name": "ipython",
    "version": 3
   },
   "file_extension": ".py",
   "mimetype": "text/x-python",
   "name": "python",
   "nbconvert_exporter": "python",
   "pygments_lexer": "ipython3",
   "version": "3.9.5"
  },
  "orig_nbformat": 4
 },
 "nbformat": 4,
 "nbformat_minor": 2
}
