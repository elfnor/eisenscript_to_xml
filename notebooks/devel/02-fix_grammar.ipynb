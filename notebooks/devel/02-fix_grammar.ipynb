{
 "cells": [
  {
   "cell_type": "markdown",
   "metadata": {},
   "source": [
    "# Fix grammar 2"
   ]
  },
  {
   "cell_type": "code",
   "execution_count": 4,
   "metadata": {},
   "outputs": [],
   "source": [
    "import pyparsing as pp\n",
    "from eisenscript_to_xml import eisenscript_to_xml as ex"
   ]
  },
  {
   "cell_type": "code",
   "execution_count": 12,
   "metadata": {},
   "outputs": [
    {
     "data": {
      "text/plain": [
       "{'trans': [{'tid': 'x', 'tvalues': ['1']},\n",
       "  {'tid': 'rz', 'tvalues': ['3']},\n",
       "  {'tid': 'ry', 'tvalues': ['5']}],\n",
       " 'rule_call': 'R1'}"
      ]
     },
     "execution_count": 12,
     "metadata": {},
     "output_type": "execute_result"
    }
   ],
   "source": [
    "\n",
    "call = ex.call_grammar()\n",
    "call.parse_string('{ x 1  rz 3 ry 5  } R1').as_dict()\n"
   ]
  },
  {
   "cell_type": "code",
   "execution_count": 13,
   "metadata": {},
   "outputs": [
    {
     "data": {
      "text/plain": [
       "{'count': '36',\n",
       " 'trans': [{'tid': 'ry', 'tvalues': ['10']}, {'tid': 'z', 'tvalues': ['1.2']}],\n",
       " 'rule_call': 'arm'}"
      ]
     },
     "execution_count": 13,
     "metadata": {},
     "output_type": "execute_result"
    }
   ],
   "source": [
    "call.parse_string('36 * { ry 10 z 1.2 b 0.99 h 2  } arm').as_dict()"
   ]
  },
  {
   "cell_type": "code",
   "execution_count": 14,
   "metadata": {},
   "outputs": [],
   "source": [
    "r1_rule=\"\"\"rule R1 w 10 { \n",
    "{ x 1  rz 3 ry 5  } R1\n",
    "{ s 1 1 0.1 sat 0.9 } box\n",
    "}\"\"\"\n"
   ]
  },
  {
   "cell_type": "code",
   "execution_count": 51,
   "metadata": {},
   "outputs": [
    {
     "data": {
      "text/plain": [
       "ParseResults([ParseResults(['R1', 'w', '10', ParseResults([ParseResults(['x', '1'], {'tid': 'x', 'tvalues': ['1']}), ParseResults(['rz', '3'], {'tid': 'rz', 'tvalues': ['3']}), ParseResults(['ry', '5'], {'tid': 'ry', 'tvalues': ['5']}), 'R1'], {'trans': [{'tid': 'x', 'tvalues': ['1']}, {'tid': 'rz', 'tvalues': ['3']}, {'tid': 'ry', 'tvalues': ['5']}], 'rule_call': 'R1'}), ParseResults([ParseResults(['s', '1', '1', '0.1'], {'tid': 's', 'tvalues': ['1', '1', '0.1']}), 'box'], {'trans': [{'tid': 's', 'tvalues': ['1', '1', '0.1']}], 'shape_call': 'box'})], {'rule_name': 'R1', 'wm': '10'})], {})"
      ]
     },
     "execution_count": 51,
     "metadata": {},
     "output_type": "execute_result"
    }
   ],
   "source": [
    "fnum = pp.Word(\".+-*/()\" + pp.nums)\n",
    "rule_name = pp.Word(pp.alphas, pp.alphanums + \"_\")\n",
    "call = ex.call_grammar()\n",
    "md = pp.oneOf(\"md maxdepth\", caseless=True)\n",
    "md_mod = md + fnum(\"md\") + pp.Optional(\">\" + rule_name(\"successor_rule\"))\n",
    "\n",
    "weight = pp.oneOf(\"w weight\", caseless=True)\n",
    "w_mod = weight + fnum(\"wm\")\n",
    "\n",
    "rules = pp.OneOrMore(pp.Group(\n",
    "    pp.Suppress(pp.CaselessKeyword(\"rule\"))\n",
    "    + rule_name(\"rule_name\")\n",
    "    + (pp.Optional(md_mod) & pp.Optional(w_mod))\n",
    "    + pp.Suppress(\"{\")\n",
    "    + pp.OneOrMore(pp.Group(call))\n",
    "    + pp.Suppress(\"}\")\n",
    "))\n",
    "t = rules.parse_string(r1_rule)\n",
    "t"
   ]
  },
  {
   "cell_type": "code",
   "execution_count": 16,
   "metadata": {},
   "outputs": [
    {
     "name": "stdout",
     "output_type": "stream",
     "text": [
      "<class 'str'>\n",
      "R1\n",
      "<class 'str'>\n",
      "w\n",
      "<class 'str'>\n",
      "10\n",
      "<class 'pyparsing.results.ParseResults'>\n",
      "{'trans': [{'tid': 'x', 'tvalues': ['1']}, {'tid': 'rz', 'tvalues': ['3']}, {'tid': 'ry', 'tvalues': ['5']}], 'rule_call': 'R1'}\n",
      "<class 'pyparsing.results.ParseResults'>\n",
      "{'trans': [{'tid': 's', 'tvalues': ['1', '1', '0.1']}], 'shape_call': 'box'}\n"
     ]
    }
   ],
   "source": [
    "for a in t:\n",
    "\n",
    "            \n",
    "        for b in a:\n",
    "            print(type(b))\n",
    "            try:\n",
    "                print(b.as_dict())\n",
    "            except:\n",
    "                print(b)"
   ]
  },
  {
   "cell_type": "code",
   "execution_count": 17,
   "metadata": {},
   "outputs": [
    {
     "data": {
      "text/plain": [
       "('R1', '10')"
      ]
     },
     "execution_count": 17,
     "metadata": {},
     "output_type": "execute_result"
    }
   ],
   "source": [
    "t[0]['rule_name'], t[0]['wm']"
   ]
  },
  {
   "cell_type": "code",
   "execution_count": 9,
   "metadata": {},
   "outputs": [],
   "source": [
    "many_rules=\"\"\"rule grinder { \n",
    "  36 * { ry 10 z 1.2 b 0.99 h 2  } arm \n",
    "} \n",
    "\n",
    "rule arm {\n",
    " xbox\n",
    " {  rz -1 rx 3 z 0.22 x 0.3 ry 10 s 0.998  x 0.5 sat 0.9995 hue 0.05 }  arm\n",
    "}\n",
    "\n",
    "rule arm {\n",
    "   xbox\n",
    "  {  rz 1 rx 3 z 0.22 x 0.3 ry 10 s 0.99  x -0.5 sat 0.9995 hue 0.15 }  arm\n",
    "}\n",
    "\n",
    "rule xbox {\n",
    "  box\n",
    "}\n",
    "\n",
    "rule xbox {\n",
    " { s 0.9 } grid\n",
    " { b 0.7   } box\n",
    "}\"\"\""
   ]
  },
  {
   "cell_type": "code",
   "execution_count": 23,
   "metadata": {},
   "outputs": [
    {
     "data": {
      "text/plain": [
       "ParseResults([ParseResults(['grinder', ParseResults(['36', ParseResults(['ry', '10'], {'tid': 'ry', 'tvalues': ['10']}), ParseResults(['z', '1.2'], {'tid': 'z', 'tvalues': ['1.2']}), 'arm'], {'count': '36', 'trans': [{'tid': 'ry', 'tvalues': ['10']}, {'tid': 'z', 'tvalues': ['1.2']}], 'rule_call': 'arm'})], {'rule_name': 'grinder'}), ParseResults(['arm', ParseResults(['xbox'], {'rule_call': 'xbox'}), ParseResults([ParseResults(['rz', '-1'], {'tid': 'rz', 'tvalues': ['-1']}), ParseResults(['rx', '3'], {'tid': 'rx', 'tvalues': ['3']}), ParseResults(['z', '0.22'], {'tid': 'z', 'tvalues': ['0.22']}), ParseResults(['x', '0.3'], {'tid': 'x', 'tvalues': ['0.3']}), ParseResults(['ry', '10'], {'tid': 'ry', 'tvalues': ['10']}), ParseResults(['s', '0.998'], {'tid': 's', 'tvalues': ['0.998']}), ParseResults(['x', '0.5'], {'tid': 'x', 'tvalues': ['0.5']}), 'arm'], {'trans': [{'tid': 'rz', 'tvalues': ['-1']}, {'tid': 'rx', 'tvalues': ['3']}, {'tid': 'z', 'tvalues': ['0.22']}, {'tid': 'x', 'tvalues': ['0.3']}, {'tid': 'ry', 'tvalues': ['10']}, {'tid': 's', 'tvalues': ['0.998']}, {'tid': 'x', 'tvalues': ['0.5']}], 'rule_call': 'arm'})], {'rule_name': 'arm'}), ParseResults(['arm', ParseResults(['xbox'], {'rule_call': 'xbox'}), ParseResults([ParseResults(['rz', '1'], {'tid': 'rz', 'tvalues': ['1']}), ParseResults(['rx', '3'], {'tid': 'rx', 'tvalues': ['3']}), ParseResults(['z', '0.22'], {'tid': 'z', 'tvalues': ['0.22']}), ParseResults(['x', '0.3'], {'tid': 'x', 'tvalues': ['0.3']}), ParseResults(['ry', '10'], {'tid': 'ry', 'tvalues': ['10']}), ParseResults(['s', '0.99'], {'tid': 's', 'tvalues': ['0.99']}), ParseResults(['x', '-0.5'], {'tid': 'x', 'tvalues': ['-0.5']}), 'arm'], {'trans': [{'tid': 'rz', 'tvalues': ['1']}, {'tid': 'rx', 'tvalues': ['3']}, {'tid': 'z', 'tvalues': ['0.22']}, {'tid': 'x', 'tvalues': ['0.3']}, {'tid': 'ry', 'tvalues': ['10']}, {'tid': 's', 'tvalues': ['0.99']}, {'tid': 'x', 'tvalues': ['-0.5']}], 'rule_call': 'arm'})], {'rule_name': 'arm'}), ParseResults(['xbox', ParseResults(['box'], {'shape_call': 'box'})], {'rule_name': 'xbox'}), ParseResults(['xbox', ParseResults([ParseResults(['s', '0.9'], {'tid': 's', 'tvalues': ['0.9']}), 'grid'], {'trans': [{'tid': 's', 'tvalues': ['0.9']}], 'shape_call': 'grid'}), ParseResults(['box'], {'trans': [], 'shape_call': 'box'})], {'rule_name': 'xbox'})], {})"
      ]
     },
     "execution_count": 23,
     "metadata": {},
     "output_type": "execute_result"
    }
   ],
   "source": [
    "t = rules.parse_string(many_rules)\n",
    "t"
   ]
  },
  {
   "cell_type": "code",
   "execution_count": 21,
   "metadata": {},
   "outputs": [
    {
     "name": "stdout",
     "output_type": "stream",
     "text": [
      "DEFINE grinder\n",
      "{'count': '36', 'trans': [{'tid': 'ry', 'tvalues': ['10']}, {'tid': 'z', 'tvalues': ['1.2']}], 'rule_call': 'arm'}\n",
      "\n",
      "DEFINE arm\n",
      "{'rule_call': 'xbox'}\n",
      "\n",
      "{'trans': [{'tid': 'rz', 'tvalues': ['-1']}, {'tid': 'rx', 'tvalues': ['3']}, {'tid': 'z', 'tvalues': ['0.22']}, {'tid': 'x', 'tvalues': ['0.3']}, {'tid': 'ry', 'tvalues': ['10']}, {'tid': 's', 'tvalues': ['0.998']}, {'tid': 'x', 'tvalues': ['0.5']}], 'rule_call': 'arm'}\n",
      "\n",
      "DEFINE arm\n",
      "{'rule_call': 'xbox'}\n",
      "\n",
      "{'trans': [{'tid': 'rz', 'tvalues': ['1']}, {'tid': 'rx', 'tvalues': ['3']}, {'tid': 'z', 'tvalues': ['0.22']}, {'tid': 'x', 'tvalues': ['0.3']}, {'tid': 'ry', 'tvalues': ['10']}, {'tid': 's', 'tvalues': ['0.99']}, {'tid': 'x', 'tvalues': ['-0.5']}], 'rule_call': 'arm'}\n",
      "\n",
      "DEFINE xbox\n",
      "{'shape_call': 'box'}\n",
      "\n",
      "DEFINE xbox\n",
      "{'trans': [{'tid': 's', 'tvalues': ['0.9']}], 'shape_call': 'grid'}\n",
      "\n",
      "{'trans': [], 'shape_call': 'box'}\n",
      "\n"
     ]
    }
   ],
   "source": [
    "for a in t:\n",
    "    print('DEFINE ' + a['rule_name'])\n",
    "    for b in a:\n",
    "        # print(type(b))\n",
    "        try:\n",
    "            print(b.as_dict())\n",
    "            print()\n",
    "        except:\n",
    "            pass"
   ]
  },
  {
   "cell_type": "markdown",
   "metadata": {},
   "source": [
    "\n",
    "results has entry_calls and rule_defs\n",
    "\n",
    "entry_calls is a list of calls\n",
    "\n",
    "rule_defs is a list of rules\n",
    "\n",
    "a rule has a name, optional weight, optional maxdepth, optional successor rule and a list of calls \n",
    "\n",
    "a call has an optional transform and either a call to another rule or to a shape\n",
    "defined in `call_grammar`\n",
    "\n",
    "a transform is a list of identifiers (tid) and values (tvalues)\n",
    "it can also have a loop multiplier\n",
    "\n",
    "the parse results structure should be close to this."
   ]
  },
  {
   "cell_type": "code",
   "execution_count": 32,
   "metadata": {},
   "outputs": [],
   "source": [
    "weight_rules=\"\"\"rule R1 maxdepth 30 > endrule {\n",
    "  { z 1 ry 6   s 0.91  hue 5  y 0.01 } R1\n",
    " box\n",
    "}\n",
    "\n",
    "rule R1 w 0.2 {\n",
    "{ z 1 ry 6   s 0.99  hue 1 } R1\n",
    "{ rz 90  } R1\n",
    "box\n",
    "}\n",
    "\n",
    "rule endrule {\n",
    "{ s 3 } sphere\n",
    "}\"\"\""
   ]
  },
  {
   "cell_type": "code",
   "execution_count": 33,
   "metadata": {},
   "outputs": [
    {
     "name": "stdout",
     "output_type": "stream",
     "text": [
      "DEFINE R1\n",
      "{'trans': [{'tid': 'z', 'tvalues': ['1']}, {'tid': 'ry', 'tvalues': ['6']}, {'tid': 's', 'tvalues': ['0.91']}, {'tid': 'y', 'tvalues': ['0.01']}], 'rule_call': 'R1'}\n",
      "\n",
      "{'shape_call': 'box'}\n",
      "\n",
      "DEFINE R1\n",
      "{'trans': [{'tid': 'z', 'tvalues': ['1']}, {'tid': 'ry', 'tvalues': ['6']}, {'tid': 's', 'tvalues': ['0.99']}], 'rule_call': 'R1'}\n",
      "\n",
      "{'trans': [{'tid': 'rz', 'tvalues': ['90']}], 'rule_call': 'R1'}\n",
      "\n",
      "{'shape_call': 'box'}\n",
      "\n",
      "DEFINE endrule\n",
      "{'trans': [{'tid': 's', 'tvalues': ['3']}], 'shape_call': 'sphere'}\n",
      "\n"
     ]
    }
   ],
   "source": [
    "t = rules.parse_string(weight_rules)\n",
    "for a in t:\n",
    "    print('DEFINE ' + a['rule_name'])\n",
    "    for b in a:\n",
    "        # print(type(b))\n",
    "        try:\n",
    "            print(b.as_dict())\n",
    "            print()\n",
    "        except:\n",
    "            pass"
   ]
  },
  {
   "cell_type": "code",
   "execution_count": 36,
   "metadata": {},
   "outputs": [
    {
     "data": {
      "text/plain": [
       "{'rule_name': 'R1', 'md': '30', 'successor_rule': 'endrule'}"
      ]
     },
     "execution_count": 36,
     "metadata": {},
     "output_type": "execute_result"
    }
   ],
   "source": [
    "t[0].as_dict()"
   ]
  },
  {
   "cell_type": "code",
   "execution_count": 38,
   "metadata": {},
   "outputs": [
    {
     "data": {
      "text/plain": [
       "{'rule_name': 'R1', 'wm': '0.2'}"
      ]
     },
     "execution_count": 38,
     "metadata": {},
     "output_type": "execute_result"
    }
   ],
   "source": [
    "t[1].as_dict()"
   ]
  },
  {
   "cell_type": "code",
   "execution_count": 49,
   "metadata": {},
   "outputs": [
    {
     "data": {
      "text/plain": [
       "{{[{'set' md | maxdepth} W:((-+--9)] Group:({{{[[W:((-+--9) Suppress:('*')] Suppress:('{') [{Group:({x | y | z | s | rx | ry | rz {W:((-+--9)}...}) | Suppress:({hue | h | sat | brightness | b | alpha | a | m {W:((-+--9)}...}) | Suppress:({'color' W:(#0-9A-Za-z)}) | Suppress:({'blend' W:(#0-9A-Za-z) W:((-+--9)})}]... Suppress:('}')] Combine:({box | grid | sphere | line [W:(:A-Za-z)]})} | {[[W:((-+--9) Suppress:('*')] Suppress:('{') [{Group:({x | y | z | s | rx | ry | rz {W:((-+--9)}...}) | Suppress:({hue | h | sat | brightness | b | alpha | a | m {W:((-+--9)}...}) | Suppress:({'color' W:(#0-9A-Za-z)}) | Suppress:({'blend' W:(#0-9A-Za-z) W:((-+--9)})}]... Suppress:('}')] W:(A-Za-z, 0-9A-Z_a-z)}}}...)} Group:({Group:({{{{Suppress:('rule') W:(A-Za-z, 0-9A-Z_a-z)} {[md | maxdepth W:((-+--9) ['>' W:(A-Za-z, 0-9A-Z_a-z)]] & [weight | w W:((-+--9)]} Suppress:('{')} {{{[[W:((-+--9) Suppress:('*')] Suppress:('{') [{Group:({x | y | z | s | rx | ry | rz {W:((-+--9)}...}) | Suppress:({hue | h | sat | brightness | b | alpha | a | m {W:((-+--9)}...}) | Suppress:({'color' W:(#0-9A-Za-z)}) | Suppress:({'blend' W:(#0-9A-Za-z) W:((-+--9)})}]... Suppress:('}')] Combine:({box | grid | sphere | line [W:(:A-Za-z)]})} | {[[W:((-+--9) Suppress:('*')] Suppress:('{') [{Group:({x | y | z | s | rx | ry | rz {W:((-+--9)}...}) | Suppress:({hue | h | sat | brightness | b | alpha | a | m {W:((-+--9)}...}) | Suppress:({'color' W:(#0-9A-Za-z)}) | Suppress:({'blend' W:(#0-9A-Za-z) W:((-+--9)})}]... Suppress:('}')] W:(A-Za-z, 0-9A-Z_a-z)}}}...} Suppress:('}')})}...)}"
      ]
     },
     "execution_count": 49,
     "metadata": {},
     "output_type": "execute_result"
    }
   ],
   "source": [
    "rule = pp.Group(\n",
    "    pp.Suppress(pp.CaselessKeyword(\"rule\"))\n",
    "    + rule_name(\"name\")\n",
    "    + (pp.Optional(md_mod) & pp.Optional(w_mod))\n",
    "    + pp.Suppress(\"{\")\n",
    "    + pp.OneOrMore(call)\n",
    "    + pp.Suppress(\"}\")\n",
    ")\n",
    "\n",
    "entry = pp.Group(pp.OneOrMore(call)).setResultsName(\n",
    "    \"entry_calls\", listAllMatches=True\n",
    ")\n",
    "\n",
    "global_md = pp.CaselessKeyword(\"set\") + md + fnum(\"global_md\")\n",
    "main = pp.Group(pp.OneOrMore(rule)).setResultsName(\"rule_defs\", listAllMatches=True)\n",
    "file_def = pp.Optional(global_md) + entry + main\n",
    "file_def.ignore(pp.cppStyleComment)\n",
    "# more stuff to ignore\n",
    "set_words = pp.oneOf(\n",
    "    \"seed maxobjects maxsize minsize background \"\n",
    "    + \"colorpool translation rotation pivot scale \"\n",
    "    + \"raytracer syncrandom\",\n",
    "    caseless=True,\n",
    ")\n",
    "set_ignore = pp.CaselessKeyword(\"set\") + set_words + pp.restOfLine\n",
    "file_def.ignore(set_ignore)"
   ]
  },
  {
   "cell_type": "code",
   "execution_count": 33,
   "metadata": {},
   "outputs": [],
   "source": [
    "ball=\"\"\"set maxdepth 2000\n",
    "{ a 0.9 hue 30 } R1 \n",
    "\n",
    "rule R1 w 10 { \n",
    "{ x 1  rz 3 ry 5  } R1\n",
    "{ s 1 1 0.1 sat 0.9 } box\n",
    "} \n",
    "\n",
    "rule R1 w 10 { \n",
    "{ x 1  rz -3 ry 5  } R1\n",
    "{ s 1 1 0.1 } box\n",
    "} \n",
    "\"\"\""
   ]
  },
  {
   "cell_type": "code",
   "execution_count": 50,
   "metadata": {},
   "outputs": [
    {
     "ename": "ParseException",
     "evalue": "Expected CaselessKeyword 'rule', found '10'  (at char 50), (line:4, col:11)",
     "output_type": "error",
     "traceback": [
      "\u001b[0;31m---------------------------------------------------------------------------\u001b[0m",
      "\u001b[0;31mParseException\u001b[0m                            Traceback (most recent call last)",
      "\u001b[1;32m/media/elfnor/BeastHoard/gits/eisenscript_to_xml/notebooks/02-fix_grammar.ipynb Cell 19'\u001b[0m in \u001b[0;36m<cell line: 1>\u001b[0;34m()\u001b[0m\n\u001b[0;32m----> <a href='vscode-notebook-cell:/media/elfnor/BeastHoard/gits/eisenscript_to_xml/notebooks/02-fix_grammar.ipynb#ch0000017?line=0'>1</a>\u001b[0m file_def\u001b[39m.\u001b[39;49mparse_string(ball)\n",
      "File \u001b[0;32m~/.cache/pypoetry/virtualenvs/eisenscript-to-xml-kiBzd_1a-py3.8/lib/python3.8/site-packages/pyparsing/core.py:1134\u001b[0m, in \u001b[0;36mParserElement.parse_string\u001b[0;34m(self, instring, parse_all, parseAll)\u001b[0m\n\u001b[1;32m   <a href='file:///home/elfnor/.cache/pypoetry/virtualenvs/eisenscript-to-xml-kiBzd_1a-py3.8/lib/python3.8/site-packages/pyparsing/core.py?line=1130'>1131</a>\u001b[0m         \u001b[39mraise\u001b[39;00m\n\u001b[1;32m   <a href='file:///home/elfnor/.cache/pypoetry/virtualenvs/eisenscript-to-xml-kiBzd_1a-py3.8/lib/python3.8/site-packages/pyparsing/core.py?line=1131'>1132</a>\u001b[0m     \u001b[39melse\u001b[39;00m:\n\u001b[1;32m   <a href='file:///home/elfnor/.cache/pypoetry/virtualenvs/eisenscript-to-xml-kiBzd_1a-py3.8/lib/python3.8/site-packages/pyparsing/core.py?line=1132'>1133</a>\u001b[0m         \u001b[39m# catch and re-raise exception from here, clearing out pyparsing internal stack trace\u001b[39;00m\n\u001b[0;32m-> <a href='file:///home/elfnor/.cache/pypoetry/virtualenvs/eisenscript-to-xml-kiBzd_1a-py3.8/lib/python3.8/site-packages/pyparsing/core.py?line=1133'>1134</a>\u001b[0m         \u001b[39mraise\u001b[39;00m exc\u001b[39m.\u001b[39mwith_traceback(\u001b[39mNone\u001b[39;00m)\n\u001b[1;32m   <a href='file:///home/elfnor/.cache/pypoetry/virtualenvs/eisenscript-to-xml-kiBzd_1a-py3.8/lib/python3.8/site-packages/pyparsing/core.py?line=1134'>1135</a>\u001b[0m \u001b[39melse\u001b[39;00m:\n\u001b[1;32m   <a href='file:///home/elfnor/.cache/pypoetry/virtualenvs/eisenscript-to-xml-kiBzd_1a-py3.8/lib/python3.8/site-packages/pyparsing/core.py?line=1135'>1136</a>\u001b[0m     \u001b[39mreturn\u001b[39;00m tokens\n",
      "\u001b[0;31mParseException\u001b[0m: Expected CaselessKeyword 'rule', found '10'  (at char 50), (line:4, col:11)"
     ]
    }
   ],
   "source": [
    "file_def.parse_string(ball)"
   ]
  },
  {
   "cell_type": "code",
   "execution_count": 45,
   "metadata": {},
   "outputs": [],
   "source": [
    "old_def = ex.eisen_grammar_old()\n",
    "old_results = old_def.parse_string(ball)\n",
    "old_xml = ex.es_xml2(old_results)"
   ]
  },
  {
   "cell_type": "code",
   "execution_count": 48,
   "metadata": {},
   "outputs": [
    {
     "name": "stdout",
     "output_type": "stream",
     "text": [
      "<?xml version=\"1.0\" ?>\n",
      "<rules max_depth=\"2000\">\n",
      "  <rule name=\"entry\">\n",
      "    <call transforms=\"\" rule=\"['a', '0.9', 'hue', '30']\"/>\n",
      "  </rule>\n",
      "  <rule name=\"R1\" weight=\"10\">\n",
      "    <instance transforms=\"\" shape=\"box\"/>\n",
      "    <call transforms=\"\" rule=\"[['x', '1'], ['rz', '3'], ['ry', '5']]\"/>\n",
      "  </rule>\n",
      "  <rule name=\"R1\" weight=\"10\">\n",
      "    <instance transforms=\"\" shape=\"box\"/>\n",
      "    <call transforms=\"\" rule=\"[['x', '1'], ['rz', '-3'], ['ry', '5']]\"/>\n",
      "  </rule>\n",
      "</rules>\n",
      "\n"
     ]
    }
   ],
   "source": [
    "print(ex.prettify(old_xml))"
   ]
  },
  {
   "cell_type": "markdown",
   "metadata": {},
   "source": [
    "This is correct in structure just the content of transforms and rule is wrong - we've fixed this with call_grammar - so can we merge the two?"
   ]
  },
  {
   "cell_type": "code",
   "execution_count": 52,
   "metadata": {},
   "outputs": [
    {
     "data": {
      "text/plain": [
       "ParseResults([ParseResults(['R1', 'w', '10', ParseResults([ParseResults(['x', '1'], {'tid': 'x', 'tvalues': ['1']}), ParseResults(['rz', '3'], {'tid': 'rz', 'tvalues': ['3']}), ParseResults(['ry', '5'], {'tid': 'ry', 'tvalues': ['5']}), 'R1'], {'trans': [{'tid': 'x', 'tvalues': ['1']}, {'tid': 'rz', 'tvalues': ['3']}, {'tid': 'ry', 'tvalues': ['5']}], 'rule_call': 'R1'}), ParseResults([ParseResults(['s', '1', '1', '0.1'], {'tid': 's', 'tvalues': ['1', '1', '0.1']}), 'box'], {'trans': [{'tid': 's', 'tvalues': ['1', '1', '0.1']}], 'shape_call': 'box'})], {'rule_name': 'R1', 'wm': '10'}), ParseResults(['R1', 'w', '10', ParseResults([ParseResults(['x', '1'], {'tid': 'x', 'tvalues': ['1']}), ParseResults(['rz', '-3'], {'tid': 'rz', 'tvalues': ['-3']}), ParseResults(['ry', '5'], {'tid': 'ry', 'tvalues': ['5']}), 'R1'], {'trans': [{'tid': 'x', 'tvalues': ['1']}, {'tid': 'rz', 'tvalues': ['-3']}, {'tid': 'ry', 'tvalues': ['5']}], 'rule_call': 'R1'}), ParseResults([ParseResults(['s', '1', '1', '0.1'], {'tid': 's', 'tvalues': ['1', '1', '0.1']}), 'box'], {'trans': [{'tid': 's', 'tvalues': ['1', '1', '0.1']}], 'shape_call': 'box'})], {'rule_name': 'R1', 'wm': '10'})], {})"
      ]
     },
     "execution_count": 52,
     "metadata": {},
     "output_type": "execute_result"
    }
   ],
   "source": [
    "tstr = \"\"\"rule R1 w 10 { \n",
    "{ x 1  rz 3 ry 5  } R1\n",
    "{ s 1 1 0.1 sat 0.9 } box\n",
    "} \n",
    "\n",
    "rule R1 w 10 { \n",
    "{ x 1  rz -3 ry 5  } R1\n",
    "{ s 1 1 0.1 } box\n",
    "} \"\"\"\n",
    "rules.parse_string(tstr)"
   ]
  },
  {
   "cell_type": "code",
   "execution_count": 54,
   "metadata": {},
   "outputs": [
    {
     "data": {
      "text/plain": [
       "{{['set' md | maxdepth W:((-+--9)] Group:({{{[[W:((-+--9) Suppress:('*')] Suppress:('{') [{Group:({x | y | z | s | rx | ry | rz {W:((-+--9)}...}) | Suppress:({hue | h | sat | brightness | b | alpha | a | m {W:((-+--9)}...}) | Suppress:({'color' W:(#0-9A-Za-z)}) | Suppress:({'blend' W:(#0-9A-Za-z) W:((-+--9)})}]... Suppress:('}')] Combine:({box | grid | sphere | line [W:(:A-Za-z)]})} | {[[W:((-+--9) Suppress:('*')] Suppress:('{') [{Group:({x | y | z | s | rx | ry | rz {W:((-+--9)}...}) | Suppress:({hue | h | sat | brightness | b | alpha | a | m {W:((-+--9)}...}) | Suppress:({'color' W:(#0-9A-Za-z)}) | Suppress:({'blend' W:(#0-9A-Za-z) W:((-+--9)})}]... Suppress:('}')] W:(A-Za-z, 0-9A-Z_a-z)}}}...)} {Group:({Suppress:('rule') W:(A-Za-z, 0-9A-Z_a-z) {[md | maxdepth W:((-+--9) ['>' W:(A-Za-z, 0-9A-Z_a-z)]] & [weight | w W:((-+--9)]} Suppress:('{') {Group:({{[[W:((-+--9) Suppress:('*')] Suppress:('{') [{Group:({x | y | z | s | rx | ry | rz {W:((-+--9)}...}) | Suppress:({hue | h | sat | brightness | b | alpha | a | m {W:((-+--9)}...}) | Suppress:({'color' W:(#0-9A-Za-z)}) | Suppress:({'blend' W:(#0-9A-Za-z) W:((-+--9)})}]... Suppress:('}')] Combine:({box | grid | sphere | line [W:(:A-Za-z)]})} | {[[W:((-+--9) Suppress:('*')] Suppress:('{') [{Group:({x | y | z | s | rx | ry | rz {W:((-+--9)}...}) | Suppress:({hue | h | sat | brightness | b | alpha | a | m {W:((-+--9)}...}) | Suppress:({'color' W:(#0-9A-Za-z)}) | Suppress:({'blend' W:(#0-9A-Za-z) W:((-+--9)})}]... Suppress:('}')] W:(A-Za-z, 0-9A-Z_a-z)}})}... Suppress:('}')})}...}"
      ]
     },
     "execution_count": 54,
     "metadata": {},
     "output_type": "execute_result"
    }
   ],
   "source": [
    "entry = pp.Group(pp.OneOrMore(call))\n",
    "main = rules(\"rule_defs\")\n",
    "file_def = pp.Optional(global_md) + entry + main\n",
    "file_def.ignore(pp.cppStyleComment)\n",
    "# more stuff to ignore\n",
    "set_words = pp.oneOf(\n",
    "    \"seed maxobjects maxsize minsize background \"\n",
    "    + \"colorpool translation rotation pivot scale \"\n",
    "    + \"raytracer syncrandom\",\n",
    "    caseless=True,\n",
    ")\n",
    "set_ignore = pp.CaselessKeyword(\"set\") + set_words + pp.restOfLine\n",
    "file_def.ignore(set_ignore)\n"
   ]
  },
  {
   "cell_type": "code",
   "execution_count": 55,
   "metadata": {},
   "outputs": [
    {
     "ename": "ParseException",
     "evalue": "Expected CaselessKeyword 'rule', found '10'  (at char 50), (line:4, col:11)",
     "output_type": "error",
     "traceback": [
      "\u001b[0;31m---------------------------------------------------------------------------\u001b[0m",
      "\u001b[0;31mParseException\u001b[0m                            Traceback (most recent call last)",
      "\u001b[1;32m/media/elfnor/BeastHoard/gits/eisenscript_to_xml/notebooks/02-fix_grammar.ipynb Cell 25'\u001b[0m in \u001b[0;36m<cell line: 1>\u001b[0;34m()\u001b[0m\n\u001b[0;32m----> <a href='vscode-notebook-cell:/media/elfnor/BeastHoard/gits/eisenscript_to_xml/notebooks/02-fix_grammar.ipynb#ch0000025?line=0'>1</a>\u001b[0m file_def\u001b[39m.\u001b[39;49mparse_string(ball)\n",
      "File \u001b[0;32m~/.cache/pypoetry/virtualenvs/eisenscript-to-xml-kiBzd_1a-py3.8/lib/python3.8/site-packages/pyparsing/core.py:1134\u001b[0m, in \u001b[0;36mParserElement.parse_string\u001b[0;34m(self, instring, parse_all, parseAll)\u001b[0m\n\u001b[1;32m   <a href='file:///home/elfnor/.cache/pypoetry/virtualenvs/eisenscript-to-xml-kiBzd_1a-py3.8/lib/python3.8/site-packages/pyparsing/core.py?line=1130'>1131</a>\u001b[0m         \u001b[39mraise\u001b[39;00m\n\u001b[1;32m   <a href='file:///home/elfnor/.cache/pypoetry/virtualenvs/eisenscript-to-xml-kiBzd_1a-py3.8/lib/python3.8/site-packages/pyparsing/core.py?line=1131'>1132</a>\u001b[0m     \u001b[39melse\u001b[39;00m:\n\u001b[1;32m   <a href='file:///home/elfnor/.cache/pypoetry/virtualenvs/eisenscript-to-xml-kiBzd_1a-py3.8/lib/python3.8/site-packages/pyparsing/core.py?line=1132'>1133</a>\u001b[0m         \u001b[39m# catch and re-raise exception from here, clearing out pyparsing internal stack trace\u001b[39;00m\n\u001b[0;32m-> <a href='file:///home/elfnor/.cache/pypoetry/virtualenvs/eisenscript-to-xml-kiBzd_1a-py3.8/lib/python3.8/site-packages/pyparsing/core.py?line=1133'>1134</a>\u001b[0m         \u001b[39mraise\u001b[39;00m exc\u001b[39m.\u001b[39mwith_traceback(\u001b[39mNone\u001b[39;00m)\n\u001b[1;32m   <a href='file:///home/elfnor/.cache/pypoetry/virtualenvs/eisenscript-to-xml-kiBzd_1a-py3.8/lib/python3.8/site-packages/pyparsing/core.py?line=1134'>1135</a>\u001b[0m \u001b[39melse\u001b[39;00m:\n\u001b[1;32m   <a href='file:///home/elfnor/.cache/pypoetry/virtualenvs/eisenscript-to-xml-kiBzd_1a-py3.8/lib/python3.8/site-packages/pyparsing/core.py?line=1135'>1136</a>\u001b[0m     \u001b[39mreturn\u001b[39;00m tokens\n",
      "\u001b[0;31mParseException\u001b[0m: Expected CaselessKeyword 'rule', found '10'  (at char 50), (line:4, col:11)"
     ]
    }
   ],
   "source": [
    "file_def.parse_string(ball)"
   ]
  },
  {
   "cell_type": "markdown",
   "metadata": {},
   "source": [
    "Its kind of working for rule and groups of rules,but not for a whole file\n"
   ]
  },
  {
   "cell_type": "code",
   "execution_count": 57,
   "metadata": {},
   "outputs": [
    {
     "data": {
      "text/plain": [
       "{'trans': [{'tid': 'x', 'tvalues': ['1']},\n",
       "  {'tid': 'rz', 'tvalues': ['3']},\n",
       "  {'tid': 'ry', 'tvalues': ['5']}],\n",
       " 'rule_call': 'R1'}"
      ]
     },
     "execution_count": 57,
     "metadata": {},
     "output_type": "execute_result"
    }
   ],
   "source": [
    "call = ex.call_grammar()\n",
    "pp_call = call.parse_string('{ x 1  rz 3 ry 5  } R1').as_dict()\n",
    "pp_call"
   ]
  },
  {
   "cell_type": "code",
   "execution_count": 48,
   "metadata": {},
   "outputs": [],
   "source": [
    "def rules_grammar():\n",
    "    fnum = pp.Word(\".+-*/()\" + pp.nums)\n",
    "    rule_name = pp.Word(pp.alphas, pp.alphanums + \"_\")\n",
    "    call = ex.call_grammar()\n",
    "    md = pp.oneOf(\"md maxdepth\", caseless=True)\n",
    "    md_mod = md + fnum(\"md\") + pp.Optional(\">\" + rule_name(\"successor_rule\"))\n",
    "\n",
    "    weight = pp.oneOf(\"w weight\", caseless=True)\n",
    "    w_mod = weight + fnum(\"wm\")\n",
    "\n",
    "    rules = pp.OneOrMore(pp.Group(\n",
    "        pp.Suppress(pp.CaselessKeyword(\"rule\"))\n",
    "        + rule_name(\"rule_name\")\n",
    "        + (pp.Optional(md_mod) & pp.Optional(w_mod))\n",
    "        + pp.Suppress(\"{\")\n",
    "        + pp.OneOrMore(pp.Group(call))\n",
    "        + pp.Suppress(\"}\")\n",
    "    ))\n",
    "    return rules"
   ]
  },
  {
   "cell_type": "code",
   "execution_count": 49,
   "metadata": {},
   "outputs": [],
   "source": [
    "tstr = \"\"\"rule R1 w 10 { \n",
    "{ x 1  rz 3 ry 5  } R1\n",
    "{ s 1 1 0.1 sat 0.9 } box\n",
    "} \n",
    "\n",
    "rule R1 w 10 { \n",
    "{ x 1  rz -3 ry 5  } R1\n",
    "{ s 1 1 0.1 } box\n",
    "} \"\"\""
   ]
  },
  {
   "cell_type": "code",
   "execution_count": 50,
   "metadata": {},
   "outputs": [
    {
     "data": {
      "text/plain": [
       "ParseResults([ParseResults(['R1', 'w', '10', ParseResults([ParseResults(['x', '1'], {'tid': 'x', 'tvalues': ['1']}), ParseResults(['rz', '3'], {'tid': 'rz', 'tvalues': ['3']}), ParseResults(['ry', '5'], {'tid': 'ry', 'tvalues': ['5']}), 'R1'], {'trans': [{'tid': 'x', 'tvalues': ['1']}, {'tid': 'rz', 'tvalues': ['3']}, {'tid': 'ry', 'tvalues': ['5']}], 'rule_call': ['R1']}), ParseResults([ParseResults(['s', '1', '1', '0.1'], {'tid': 's', 'tvalues': ['1', '1', '0.1']}), 'box'], {'trans': [{'tid': 's', 'tvalues': ['1', '1', '0.1']}], 'shape_call': 'box'})], {'rule_name': 'R1', 'wm': '10'}), ParseResults(['R1', 'w', '10', ParseResults([ParseResults(['x', '1'], {'tid': 'x', 'tvalues': ['1']}), ParseResults(['rz', '-3'], {'tid': 'rz', 'tvalues': ['-3']}), ParseResults(['ry', '5'], {'tid': 'ry', 'tvalues': ['5']}), 'R1'], {'trans': [{'tid': 'x', 'tvalues': ['1']}, {'tid': 'rz', 'tvalues': ['-3']}, {'tid': 'ry', 'tvalues': ['5']}], 'rule_call': ['R1']}), ParseResults([ParseResults(['s', '1', '1', '0.1'], {'tid': 's', 'tvalues': ['1', '1', '0.1']}), 'box'], {'trans': [{'tid': 's', 'tvalues': ['1', '1', '0.1']}], 'shape_call': 'box'})], {'rule_name': 'R1', 'wm': '10'})], {})"
      ]
     },
     "execution_count": 50,
     "metadata": {},
     "output_type": "execute_result"
    }
   ],
   "source": [
    "rules_grammar().parse_string(tstr)"
   ]
  },
  {
   "cell_type": "code",
   "execution_count": 51,
   "metadata": {},
   "outputs": [
    {
     "data": {
      "text/plain": [
       "ParseResults([ParseResults(['grinder', ParseResults(['36', ParseResults(['ry', '10'], {'tid': 'ry', 'tvalues': ['10']}), ParseResults(['z', '1.2'], {'tid': 'z', 'tvalues': ['1.2']}), 'arm'], {'count': '36', 'trans': [{'tid': 'ry', 'tvalues': ['10']}, {'tid': 'z', 'tvalues': ['1.2']}], 'rule_call': ['arm']})], {'rule_name': 'grinder'}), ParseResults(['arm', ParseResults(['xbox'], {'rule_call': ['xbox']}), ParseResults([ParseResults(['rz', '-1'], {'tid': 'rz', 'tvalues': ['-1']}), ParseResults(['rx', '3'], {'tid': 'rx', 'tvalues': ['3']}), ParseResults(['z', '0.22'], {'tid': 'z', 'tvalues': ['0.22']}), ParseResults(['x', '0.3'], {'tid': 'x', 'tvalues': ['0.3']}), ParseResults(['ry', '10'], {'tid': 'ry', 'tvalues': ['10']}), ParseResults(['s', '0.998'], {'tid': 's', 'tvalues': ['0.998']}), ParseResults(['x', '0.5'], {'tid': 'x', 'tvalues': ['0.5']}), 'arm'], {'trans': [{'tid': 'rz', 'tvalues': ['-1']}, {'tid': 'rx', 'tvalues': ['3']}, {'tid': 'z', 'tvalues': ['0.22']}, {'tid': 'x', 'tvalues': ['0.3']}, {'tid': 'ry', 'tvalues': ['10']}, {'tid': 's', 'tvalues': ['0.998']}, {'tid': 'x', 'tvalues': ['0.5']}], 'rule_call': ['arm']})], {'rule_name': 'arm'}), ParseResults(['arm', ParseResults(['xbox'], {'rule_call': ['xbox']}), ParseResults([ParseResults(['rz', '1'], {'tid': 'rz', 'tvalues': ['1']}), ParseResults(['rx', '3'], {'tid': 'rx', 'tvalues': ['3']}), ParseResults(['z', '0.22'], {'tid': 'z', 'tvalues': ['0.22']}), ParseResults(['x', '0.3'], {'tid': 'x', 'tvalues': ['0.3']}), ParseResults(['ry', '10'], {'tid': 'ry', 'tvalues': ['10']}), ParseResults(['s', '0.99'], {'tid': 's', 'tvalues': ['0.99']}), ParseResults(['x', '-0.5'], {'tid': 'x', 'tvalues': ['-0.5']}), 'arm'], {'trans': [{'tid': 'rz', 'tvalues': ['1']}, {'tid': 'rx', 'tvalues': ['3']}, {'tid': 'z', 'tvalues': ['0.22']}, {'tid': 'x', 'tvalues': ['0.3']}, {'tid': 'ry', 'tvalues': ['10']}, {'tid': 's', 'tvalues': ['0.99']}, {'tid': 'x', 'tvalues': ['-0.5']}], 'rule_call': ['arm']})], {'rule_name': 'arm'}), ParseResults(['xbox', ParseResults(['box'], {'shape_call': 'box'})], {'rule_name': 'xbox'}), ParseResults(['xbox', ParseResults([ParseResults(['s', '0.9'], {'tid': 's', 'tvalues': ['0.9']}), 'grid'], {'trans': [{'tid': 's', 'tvalues': ['0.9']}], 'shape_call': 'grid'}), ParseResults(['box'], {'trans': [], 'shape_call': 'box'})], {'rule_name': 'xbox'})], {})"
      ]
     },
     "execution_count": 51,
     "metadata": {},
     "output_type": "execute_result"
    }
   ],
   "source": [
    "rules_grammar().parse_string(many_rules)"
   ]
  },
  {
   "cell_type": "code",
   "execution_count": 53,
   "metadata": {},
   "outputs": [],
   "source": [
    "fnum = pp.Word(\".+-*/()\" + pp.nums)\n",
    "md = pp.oneOf(\"md maxdepth\", caseless=True)\n",
    "global_md = pp.Suppress(pp.CaselessKeyword(\"set\") + md) + fnum(\"global_md\")\n",
    "entry = pp.Optional(global_md) + pp.OneOrMore(pp.Group(ex.call_grammar()))\n",
    "file_grammar = entry + rules_grammar()\n"
   ]
  },
  {
   "cell_type": "code",
   "execution_count": 54,
   "metadata": {},
   "outputs": [
    {
     "data": {
      "text/plain": [
       "ParseResults(['2000', ParseResults(['R1'], {'trans': [], 'rule_call': ['R1']})], {'global_md': '2000'})"
      ]
     },
     "execution_count": 54,
     "metadata": {},
     "output_type": "execute_result"
    }
   ],
   "source": [
    "tstr=\"\"\"set maxdepth 2000\n",
    "{ a 0.9 hue 30 } R1\n",
    "\n",
    "\"\"\"\n",
    "entry.parse_string(tstr)"
   ]
  },
  {
   "cell_type": "code",
   "execution_count": 55,
   "metadata": {},
   "outputs": [
    {
     "ename": "ParseException",
     "evalue": "Expected CaselessKeyword 'rule', found '10'  (at char 50), (line:4, col:11)",
     "output_type": "error",
     "traceback": [
      "\u001b[0;31m---------------------------------------------------------------------------\u001b[0m",
      "\u001b[0;31mParseException\u001b[0m                            Traceback (most recent call last)",
      "\u001b[1;32m/media/elfnor/BeastHoard/gits/eisenscript_to_xml/notebooks/02-fix_grammar.ipynb Cell 34'\u001b[0m in \u001b[0;36m<cell line: 1>\u001b[0;34m()\u001b[0m\n\u001b[0;32m----> <a href='vscode-notebook-cell:/media/elfnor/BeastHoard/gits/eisenscript_to_xml/notebooks/02-fix_grammar.ipynb#ch0000033?line=0'>1</a>\u001b[0m file_def\u001b[39m.\u001b[39;49mparse_string(ball)\n",
      "File \u001b[0;32m~/.cache/pypoetry/virtualenvs/eisenscript-to-xml-kiBzd_1a-py3.8/lib/python3.8/site-packages/pyparsing/core.py:1134\u001b[0m, in \u001b[0;36mParserElement.parse_string\u001b[0;34m(self, instring, parse_all, parseAll)\u001b[0m\n\u001b[1;32m   <a href='file:///home/elfnor/.cache/pypoetry/virtualenvs/eisenscript-to-xml-kiBzd_1a-py3.8/lib/python3.8/site-packages/pyparsing/core.py?line=1130'>1131</a>\u001b[0m         \u001b[39mraise\u001b[39;00m\n\u001b[1;32m   <a href='file:///home/elfnor/.cache/pypoetry/virtualenvs/eisenscript-to-xml-kiBzd_1a-py3.8/lib/python3.8/site-packages/pyparsing/core.py?line=1131'>1132</a>\u001b[0m     \u001b[39melse\u001b[39;00m:\n\u001b[1;32m   <a href='file:///home/elfnor/.cache/pypoetry/virtualenvs/eisenscript-to-xml-kiBzd_1a-py3.8/lib/python3.8/site-packages/pyparsing/core.py?line=1132'>1133</a>\u001b[0m         \u001b[39m# catch and re-raise exception from here, clearing out pyparsing internal stack trace\u001b[39;00m\n\u001b[0;32m-> <a href='file:///home/elfnor/.cache/pypoetry/virtualenvs/eisenscript-to-xml-kiBzd_1a-py3.8/lib/python3.8/site-packages/pyparsing/core.py?line=1133'>1134</a>\u001b[0m         \u001b[39mraise\u001b[39;00m exc\u001b[39m.\u001b[39mwith_traceback(\u001b[39mNone\u001b[39;00m)\n\u001b[1;32m   <a href='file:///home/elfnor/.cache/pypoetry/virtualenvs/eisenscript-to-xml-kiBzd_1a-py3.8/lib/python3.8/site-packages/pyparsing/core.py?line=1134'>1135</a>\u001b[0m \u001b[39melse\u001b[39;00m:\n\u001b[1;32m   <a href='file:///home/elfnor/.cache/pypoetry/virtualenvs/eisenscript-to-xml-kiBzd_1a-py3.8/lib/python3.8/site-packages/pyparsing/core.py?line=1135'>1136</a>\u001b[0m     \u001b[39mreturn\u001b[39;00m tokens\n",
      "\u001b[0;31mParseException\u001b[0m: Expected CaselessKeyword 'rule', found '10'  (at char 50), (line:4, col:11)"
     ]
    }
   ],
   "source": [
    "file_def.parse_string(ball)"
   ]
  },
  {
   "cell_type": "code",
   "execution_count": 56,
   "metadata": {},
   "outputs": [
    {
     "data": {
      "text/plain": [
       "'rule R1 w 10 { \\n{ x '"
      ]
     },
     "execution_count": 56,
     "metadata": {},
     "output_type": "execute_result"
    }
   ],
   "source": [
    "ball[40:60]"
   ]
  },
  {
   "cell_type": "code",
   "execution_count": 57,
   "metadata": {},
   "outputs": [
    {
     "name": "stdout",
     "output_type": "stream",
     "text": [
      "set maxdepth 2000\n",
      "{ a 0.9 hue 30 } R1 \n",
      "\n",
      "rule R1 w 10 { \n",
      "{ x 1  rz 3 ry 5  } R1\n",
      "{ s 1 1 0.1 sat 0.9 } box\n",
      "} \n",
      "\n",
      "rule R1 w 10 { \n",
      "{ x 1  rz -3 ry 5  } R1\n",
      "{ s 1 1 0.1 } box\n",
      "} \n",
      "\n"
     ]
    }
   ],
   "source": [
    "print(ball)\n"
   ]
  },
  {
   "cell_type": "code",
   "execution_count": 58,
   "metadata": {},
   "outputs": [
    {
     "data": {
      "text/plain": [
       "ParseResults(['2000', ParseResults(['R1'], {'trans': [], 'rule_call': ['R1']})], {'global_md': '2000'})"
      ]
     },
     "execution_count": 58,
     "metadata": {},
     "output_type": "execute_result"
    }
   ],
   "source": [
    "entry.parse_string(ball)"
   ]
  },
  {
   "cell_type": "code",
   "execution_count": 59,
   "metadata": {},
   "outputs": [
    {
     "data": {
      "text/plain": [
       "ParseResults([ParseResults(['R1', 'w', '10', ParseResults([ParseResults(['x', '1'], {'tid': 'x', 'tvalues': ['1']}), ParseResults(['rz', '3'], {'tid': 'rz', 'tvalues': ['3']}), ParseResults(['ry', '5'], {'tid': 'ry', 'tvalues': ['5']}), 'R1'], {'trans': [{'tid': 'x', 'tvalues': ['1']}, {'tid': 'rz', 'tvalues': ['3']}, {'tid': 'ry', 'tvalues': ['5']}], 'rule_call': ['R1']}), ParseResults([ParseResults(['s', '1', '1', '0.1'], {'tid': 's', 'tvalues': ['1', '1', '0.1']}), 'box'], {'trans': [{'tid': 's', 'tvalues': ['1', '1', '0.1']}], 'shape_call': 'box'})], {'rule_name': 'R1', 'wm': '10'}), ParseResults(['R1', 'w', '10', ParseResults([ParseResults(['x', '1'], {'tid': 'x', 'tvalues': ['1']}), ParseResults(['rz', '-3'], {'tid': 'rz', 'tvalues': ['-3']}), ParseResults(['ry', '5'], {'tid': 'ry', 'tvalues': ['5']}), 'R1'], {'trans': [{'tid': 'x', 'tvalues': ['1']}, {'tid': 'rz', 'tvalues': ['-3']}, {'tid': 'ry', 'tvalues': ['5']}], 'rule_call': ['R1']}), ParseResults([ParseResults(['s', '1', '1', '0.1'], {'tid': 's', 'tvalues': ['1', '1', '0.1']}), 'box'], {'trans': [{'tid': 's', 'tvalues': ['1', '1', '0.1']}], 'shape_call': 'box'})], {'rule_name': 'R1', 'wm': '10'})], {})"
      ]
     },
     "execution_count": 59,
     "metadata": {},
     "output_type": "execute_result"
    }
   ],
   "source": [
    "rules_grammar().parse_string(ball[40:])"
   ]
  },
  {
   "cell_type": "code",
   "execution_count": 60,
   "metadata": {},
   "outputs": [
    {
     "data": {
      "text/plain": [
       "ParseResults(['2000', ParseResults(['R1'], {'trans': [], 'rule_call': ['R1']}), ParseResults(['R1', 'w', '10', ParseResults([ParseResults(['x', '1'], {'tid': 'x', 'tvalues': ['1']}), ParseResults(['rz', '3'], {'tid': 'rz', 'tvalues': ['3']}), ParseResults(['ry', '5'], {'tid': 'ry', 'tvalues': ['5']}), 'R1'], {'trans': [{'tid': 'x', 'tvalues': ['1']}, {'tid': 'rz', 'tvalues': ['3']}, {'tid': 'ry', 'tvalues': ['5']}], 'rule_call': ['R1']}), ParseResults([ParseResults(['s', '1', '1', '0.1'], {'tid': 's', 'tvalues': ['1', '1', '0.1']}), 'box'], {'trans': [{'tid': 's', 'tvalues': ['1', '1', '0.1']}], 'shape_call': 'box'})], {'rule_name': 'R1', 'wm': '10'}), ParseResults(['R1', 'w', '10', ParseResults([ParseResults(['x', '1'], {'tid': 'x', 'tvalues': ['1']}), ParseResults(['rz', '-3'], {'tid': 'rz', 'tvalues': ['-3']}), ParseResults(['ry', '5'], {'tid': 'ry', 'tvalues': ['5']}), 'R1'], {'trans': [{'tid': 'x', 'tvalues': ['1']}, {'tid': 'rz', 'tvalues': ['-3']}, {'tid': 'ry', 'tvalues': ['5']}], 'rule_call': ['R1']}), ParseResults([ParseResults(['s', '1', '1', '0.1'], {'tid': 's', 'tvalues': ['1', '1', '0.1']}), 'box'], {'trans': [{'tid': 's', 'tvalues': ['1', '1', '0.1']}], 'shape_call': 'box'})], {'rule_name': 'R1', 'wm': '10'})], {'global_md': '2000'})"
      ]
     },
     "execution_count": 60,
     "metadata": {},
     "output_type": "execute_result"
    }
   ],
   "source": [
    "g = entry + rules_grammar()\n",
    "g.parse_string(ball)"
   ]
  }
 ],
 "metadata": {
  "interpreter": {
   "hash": "1e1bbae3ba3d2e4c66a80b70820b105edcd72f39a4efc614088476d9a3b19e8d"
  },
  "kernelspec": {
   "display_name": "Python 3.8.10 ('eisenscript-to-xml-kiBzd_1a-py3.8')",
   "language": "python",
   "name": "python3"
  },
  "language_info": {
   "codemirror_mode": {
    "name": "ipython",
    "version": 3
   },
   "file_extension": ".py",
   "mimetype": "text/x-python",
   "name": "python",
   "nbconvert_exporter": "python",
   "pygments_lexer": "ipython3",
   "version": "3.8.10"
  },
  "orig_nbformat": 4
 },
 "nbformat": 4,
 "nbformat_minor": 2
}
