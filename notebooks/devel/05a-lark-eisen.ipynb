{
 "cells": [
  {
   "cell_type": "markdown",
   "metadata": {},
   "source": [
    "# Translate eisenscript to eisenxml using lark"
   ]
  },
  {
   "cell_type": "code",
   "execution_count": 1,
   "metadata": {},
   "outputs": [],
   "source": [
    "from pathlib import Path\n",
    "from lark import Lark\n",
    "from lark.visitors import Interpreter, Transformer, v_args\n",
    "parser = Lark.open('eisenscript_02.lark')"
   ]
  },
  {
   "cell_type": "markdown",
   "metadata": {},
   "source": [
    "In eisen tree structure I have nodes for\n",
    " - main\n",
    " - global_md\n",
    " - entry\n",
    " - call\n",
    " - loop\n",
    " - trans \n",
    " - w_mod\n",
    " - md_mod\n",
    "\n",
    " will need an Interpreter method for each which adds something to the xml tree  \n",
    " how do I get token values?\n",
    " look   @visit_children_decor"
   ]
  },
  {
   "cell_type": "code",
   "execution_count": 2,
   "metadata": {},
   "outputs": [],
   "source": [
    "# minimal example\n",
    "test = \"\"\" 2 * { x 1 y 2} seed\n",
    "{ rx 1 ry 2} seed\n",
    "rule seed  { \n",
    "  box \n",
    "}\n",
    "\"\"\""
   ]
  },
  {
   "cell_type": "code",
   "execution_count": 3,
   "metadata": {},
   "outputs": [],
   "source": [
    "ball = \"\"\"set maxdepth 2000\n",
    "R1 \n",
    "\n",
    "rule R1 w 10 { \n",
    "{ x 1  rz 3 ry 5  } R1\n",
    "{ s 1 1 0.1 sat 0.9 } box\n",
    "} \n",
    "\"\"\""
   ]
  },
  {
   "cell_type": "code",
   "execution_count": 4,
   "metadata": {},
   "outputs": [
    {
     "data": {
      "text/plain": [
       "Tree(Token('RULE', 'main'), [Tree(Token('RULE', 'entry'), [Tree(Token('RULE', 'call'), [Tree(Token('RULE', 'loop'), [Tree('repeat', [Token('NUMBER', '2')]), Tree(Token('RULE', 'transgroup'), [Tree(Token('RULE', 'trans'), [Token('TID', 'x'), Token('VALUE', '1')]), Tree(Token('RULE', 'trans'), [Token('TID', 'y'), Token('VALUE', '2')])])]), Tree('rulename', [Token('RULENAME', 'seed')])]), Tree(Token('RULE', 'call'), [Tree(Token('RULE', 'loop'), [Tree(Token('RULE', 'transgroup'), [Tree(Token('RULE', 'trans'), [Token('TID', 'rx'), Token('VALUE', '1')]), Tree(Token('RULE', 'trans'), [Token('TID', 'ry'), Token('VALUE', '2')])])]), Tree('rulename', [Token('RULENAME', 'seed')])])]), Tree(Token('RULE', 'ruledef'), [Tree('rulename', [Token('RULENAME', 'seed')]), Tree(Token('RULE', 'call'), [Tree(Token('RULE', 'loop'), []), Tree('rulename', [Token('RULENAME', 'box')])])])])"
      ]
     },
     "execution_count": 4,
     "metadata": {},
     "output_type": "execute_result"
    }
   ],
   "source": [
    "small = parser.parse(test)\n",
    "small"
   ]
  },
  {
   "cell_type": "code",
   "execution_count": 5,
   "metadata": {},
   "outputs": [
    {
     "name": "stdout",
     "output_type": "stream",
     "text": [
      "main\n",
      "  entry\n",
      "    call\n",
      "      loop\n",
      "        repeat\t2\n",
      "        transgroup\n",
      "          trans\n",
      "            x\n",
      "            1\n",
      "          trans\n",
      "            y\n",
      "            2\n",
      "      rulename\tseed\n",
      "    call\n",
      "      loop\n",
      "        transgroup\n",
      "          trans\n",
      "            rx\n",
      "            1\n",
      "          trans\n",
      "            ry\n",
      "            2\n",
      "      rulename\tseed\n",
      "  ruledef\n",
      "    rulename\tseed\n",
      "    call\n",
      "      loop\n",
      "      rulename\tbox\n",
      "\n"
     ]
    }
   ],
   "source": [
    "print(small.pretty())"
   ]
  },
  {
   "cell_type": "code",
   "execution_count": 6,
   "metadata": {},
   "outputs": [],
   "source": [
    "from xml.etree import ElementTree as et\n",
    "from xml.dom import minidom\n"
   ]
  },
  {
   "cell_type": "code",
   "execution_count": 7,
   "metadata": {},
   "outputs": [],
   "source": [
    "def prettify(elem):\n",
    "    \"\"\"Return a pretty-printed XML string for the Element.\"\"\"\n",
    "    rough_string = et.tostring(elem, \"utf-8\")\n",
    "    reparsed = minidom.parseString(rough_string)\n",
    "    return reparsed.toprettyxml(indent=\"  \")\n",
    "\n",
    "class Itest(Interpreter):\n",
    "    \n",
    "    def convert(self, tree):\n",
    "        self.xmltree = et.Element('rules')\n",
    "        self.active = self.xmltree\n",
    "        self._visit_tree(tree)\n",
    "        return prettify(self.xmltree)\n",
    "    \n",
    "    def main(self, tree):\n",
    "        self.visit_children(tree)\n",
    "\n",
    "    def entry(self, tree):\n",
    "        self.active = et.SubElement(self.xmltree, \"rule\")\n",
    "        self.active.set(\"name\", \"entry\")\n",
    "        self.visit_children(tree)\n",
    "        self.active = self.xmltree\n",
    "        \n",
    "    def call(self, tree):   \n",
    "        # do all the xml for the call kids here\n",
    "        # the call will consist of zero or more loops plus a rule name\n",
    "        # extra nested loops will be converted to new rules and called in a chain\n",
    "        \n",
    "\n",
    "        # call = et.SubElement(self.active, \"dummy tag\")\n",
    "        # current = self.active\n",
    "        # self.loop_count = 0\n",
    "        # self.active = call\n",
    "        # print('len(call kids)', len(tree.children))\n",
    "        data = self.visit_children(tree)\n",
    "        rname = data[1]\n",
    "        print(data)\n",
    "        # if rname in [\"box\", \"grid\", \"sphere\", \"line\"]:\n",
    "        #     call = et.SubElement(self.active, \"instance\")\n",
    "        #     call.set(\"shape\", rname)\n",
    "        # else:\n",
    "        #     call = et.SubElement(self.active, \"call\")\n",
    "        #     call.set(\"rule\", rname)\n",
    "               \n",
    "\n",
    "        # for loop in data[:-1]:\n",
    "        #     if len(loop) == 2:\n",
    "        #         count, tstr = loop\n",
    "        #         print(count, tstr)\n",
    "        #     elif len(loop) == 1:\n",
    "        #         tstr = loop[-1]\n",
    "        #         print(tstr)\n",
    "\n",
    "        # can we make count = 1 rather than missing \n",
    "        # for loop in data[:-1]:\n",
    "            \n",
    "\n",
    "\n",
    "\n",
    "        # loop = data[0]\n",
    "        # if len(loop) == 2:\n",
    "        #     count, tstr = loop\n",
    "        #     call.set(\"count\", count)\n",
    "        #     call.set(\"transforms\", tstr)\n",
    "        # elif len(loop) == 1:\n",
    "        #     tstr = loop[-1]\n",
    "        #     call.set(\"transforms\", tstr)   \n",
    "   \n",
    "        # if len(data) > 2:\n",
    "        #     # multiple loops\n",
    "        #     # create sub rule for each extra loop\n",
    "        #     for i, loop in enumerate(data[:-1]):\n",
    "        #         newname = rname + \"_{:02d}\".format(i)\n",
    "        #         call.set(\"rule\", newname)\n",
    "\n",
    "\n",
    "\n",
    "\n",
    "\n",
    "            # self.active.tag = \"instance\"\n",
    "            # self.active.set(\"shape\", rname)\n",
    "\n",
    "        \n",
    "\n",
    "        \"\"\"_summary_\n",
    "        `call  [[2, 'tx 1 ty 2'], 'seed']`\n",
    "        `call  [['rx 1 ry 2'], 'seed']`\n",
    "        `call [[10, 'tx 1'], [20, 'ty 2'], 'r1']`\n",
    "        `call  [[], 'sphere']`\n",
    "        \"\"\"\n",
    "\n",
    "    def transgroup(self, tree):\n",
    "        # joins all the transforms inside {} into a string\n",
    "        data = ' '.join(self.visit_children(tree))\n",
    "        # print('transgroup ', data) \n",
    "        return data\n",
    "\n",
    "    @v_args(meta=True)\n",
    "    def trans(self, kids, meta):\n",
    "        # called for each transform, returns a string\n",
    "        tid = meta[0]\n",
    "        values = meta[1:]\n",
    "        \n",
    "        if tid == \"s\" and len(values) == 1:\n",
    "            tid = \"sa\"\n",
    "        if tid in (\"x\", \"y\", \"z\"):\n",
    "            tid = \"t\" + tid\n",
    "        if tid in ('tx', 'ty', 'tz', 'rx', 'ry', 'rz', 'sa', 's'):\n",
    "            tstr = tid + \" \" + \" \".join(values) \n",
    "        else:\n",
    "            tstr = ''\n",
    "        # print('trans ', tstr)\n",
    "        return tstr\n",
    "\n",
    "\n",
    "    def loop(self, tree):\n",
    "        # an optional count and the list of transforms in {} brackets \n",
    "        data = self.visit_children(tree)\n",
    "        # print('loop ', data)\n",
    "        # tstr = ' '.join(self.visit_children(tree))\n",
    "        # print(tstr)\n",
    "        # # self.active.set(\"transforms\", tstr.strip())\n",
    "        # self.loop_count += 1\n",
    "        # print('loop count', self.loop_count)\n",
    "        return data\n",
    "\n",
    "    def ruledef(self, tree):\n",
    "        # self.active = et.SubElement(self.xmltree, \"rule\")\n",
    "        x = self.visit_children(tree)\n",
    "        # print('ruledef ', x)\n",
    "        # self.active = self.xmltree\n",
    "        \n",
    "\n",
    "            \n",
    "    @v_args(inline=True)\n",
    "    def rulename(self, rname):\n",
    "        # can get here from ruledef or call or mmod\n",
    "        # print('rulename ', rname)\n",
    "        return str(rname)\n",
    "        \n",
    "        # if self.active.tag == \"dummy tag\":\n",
    "        #     # parent is call\n",
    "        #     if rname in [\"box\", \"grid\", \"sphere\", \"line\"]:\n",
    "        #         self.active.tag = \"instance\"\n",
    "        #         self.active.set(\"shape\", rname)\n",
    "        #     else: \n",
    "        #         self.active.tag = \"call\"\n",
    "        #         self.active.set(\"rule\", rname)\n",
    "        # else:\n",
    "        #     # parent is ruledef\n",
    "        #     self.active.set(\"name\", rname)\n",
    "        \n",
    "\n",
    "    @v_args(inline=True)\n",
    "    def repeat(self, c):\n",
    "        self.active.set(\"count\", c)\n",
    "        # print('repeat ', c)\n",
    "        return int(c)\n",
    "\n",
    "    @v_args(inline=True)\n",
    "    def wmod(self, weight):\n",
    "        self.active.set(\"weight\", weight)\n",
    "\n",
    "    @v_args(meta=True)\n",
    "    def mmod(self, kids, meta):\n",
    "        self.active.set(\"max_depth\", meta[0])\n",
    "        if len(meta) > 1:\n",
    "            self.active.set(\"successor\", meta[1])\n",
    "      "
   ]
  },
  {
   "cell_type": "code",
   "execution_count": 8,
   "metadata": {},
   "outputs": [
    {
     "name": "stdout",
     "output_type": "stream",
     "text": [
      "[[2, 'tx 1 ty 2'], 'seed']\n",
      "[['rx 1 ry 2'], 'seed']\n",
      "[[], 'box']\n",
      "<?xml version=\"1.0\" ?>\n",
      "<rules>\n",
      "  <rule name=\"entry\" count=\"2\"/>\n",
      "</rules>\n",
      "\n"
     ]
    }
   ],
   "source": [
    "it = Itest().convert(small)\n",
    "print(it)"
   ]
  },
  {
   "cell_type": "markdown",
   "metadata": {},
   "source": [
    "\n",
    "why do I get   \n",
    "`loop  [Token('NUMBER', '2'), 'tx 1', 'ty 2']`\n",
    "instead of \n",
    "`loop  ['2', 'tx 1', 'ty 2']`\n",
    "as repeat returns 2, change to `return int(c)`\n",
    "\n",
    "best structure for data returned from call's kids might be\n",
    "`[2, 'tx 1 ty 2', 'seed' ]`\n",
    "\n",
    "as of now have\n",
    "`[[2, 'tx 1', 'ty 2'], 'seed']`\n",
    "or \n",
    "`[['rx 1', 'ry 2'], 'seed']`\n",
    "and for nested loops\n",
    "`[[10, 'tx 1'], [20, 'ty 2'], 'r1']`\n",
    "which will be hard to separate optional count.\n",
    "\n",
    "now have\n",
    "`call  [[2, 'tx 1 ty 2'], 'seed']`\n",
    "`call  [['rx 1 ry 2'], 'seed']`\n",
    "`call [[10, 'tx 1'], [20, 'ty 2'], 'r1']`\n",
    "`call  [[], 'sphere']`\n",
    "which will work\n"
   ]
  },
  {
   "cell_type": "code",
   "execution_count": 9,
   "metadata": {},
   "outputs": [
    {
     "name": "stdout",
     "output_type": "stream",
     "text": [
      "[[], 'R1']\n",
      "[['tx 1 rz 3 ry 5'], 'R1']\n",
      "[['s 1 1 0.1 '], 'box']\n",
      "<?xml version=\"1.0\" ?>\n",
      "<rules weight=\"10\" max_depth=\"20\">\n",
      "  <rule name=\"entry\"/>\n",
      "</rules>\n",
      "\n"
     ]
    }
   ],
   "source": [
    "ball = \"\"\"set maxdepth 2000\n",
    "R1 \n",
    "\n",
    "rule R1 w 10 md 20  { \n",
    "{ x 1  rz 3 ry 5  } R1\n",
    "{ s 1 1 0.1 sat 0.9 } box\n",
    "} \n",
    "\"\"\"\n",
    "balltree = parser.parse(ball)\n",
    "print(Itest().convert(balltree))"
   ]
  },
  {
   "cell_type": "markdown",
   "metadata": {},
   "source": [
    "can we make colour a generic string  \n",
    "\"red\" \n",
    "           | \"black\"\n",
    "           | \"white\"\n",
    "           | \"blue\"\n",
    "           | \"green\"\n",
    "\n",
    "oct below has nested rules and currently fails to parse\n",
    "change   \n",
    "`call: count* loop* rn`  \n",
    "to  \n",
    "`call: (count* loop*)* rn`  \n",
    "\n",
    "This only gets the last count * loop.  \n",
    "\n",
    "My old code did this:\n",
    "\n",
    "```xml\n",
    "<?xml version=\"1.0\" ?>\n",
    "<rules max_depth=\"100\">\n",
    "  <rule name=\"entry\">\n",
    "    <call transforms=\"ry 36\" count=\"10\" rule=\"r1_00\"/>\n",
    "  </rule>\n",
    "  <rule name=\"r1_00\">\n",
    "    <call transforms=\"ry 10\" count=\"30\" rule=\"r1\"/>\n",
    "  </rule>\n",
    "  <rule name=\"r1\" weight=\"20\">\n",
    "    <instance transforms=\"s 1 0.2 0.5\" shape=\"box\"/>\n",
    "    <call transforms=\"sa 0.9 rz 5 rx 5 tx 1\" rule=\"r1\"/>\n",
    "  </rule>\n",
    "  <rule name=\"r1\" weight=\"20\">\n",
    "    <instance transforms=\"s 1 0.2 0.5\" shape=\"box\"/>\n",
    "    <call transforms=\"sa 0.99 rz -5 rx -5 tx 1\" rule=\"r1\"/>\n",
    "  </rule>\n",
    "</rules>\n",
    "```\n",
    "\n",
    "It's created an extra rule \"r1_00\" and dropped the third nested rule. The code does say it only deals with two loops per call.\n",
    "\n",
    "Lark version visits all the loops but keeps overriding the atrributes\n",
    "Creating the extra rules here could be done by adding to the tree?\n",
    "\n",
    "Logic:  \n",
    "if more than one loop per call:\n",
    "  \n",
    "\n",
    "item? - Zero or one instances of item (”maybe”)\n",
    "item* - Zero or more instances of item\n",
    "item+ - One or more instances of item\n",
    "item ~ n - Exactly n instances of item\n",
    "item ~ n..m - Between n to m instances of item (not recommended for wide ranges, due to performance issues)\n"
   ]
  },
  {
   "cell_type": "code",
   "execution_count": 10,
   "metadata": {},
   "outputs": [
    {
     "name": "stdout",
     "output_type": "stream",
     "text": [
      "[[10, 'ry 36 '], [30], ['ry 10'], [1], ['   '], 'r1']\n",
      "[['sa 0.9 rz 5  rx 5 tx 1'], 'r1']\n",
      "[['s 1 0.2 0.5'], 'box']\n",
      "[['sa 0.99 rz -5  rx -5 tx 1'], 'r1']\n",
      "[['s 1 0.2 0.5'], 'box']\n",
      "<?xml version=\"1.0\" ?>\n",
      "<rules weight=\"20\">\n",
      "  <rule name=\"entry\" count=\"1\"/>\n",
      "</rules>\n",
      "\n"
     ]
    }
   ],
   "source": [
    "oct = \"\"\"set maxdepth 100\n",
    "\n",
    "10 * { ry 36 sat 0.9 } 30 * { ry 10 } 1 * { h 30 b 0.8 sat 0.8 a 0.3  } r1\n",
    "\n",
    "rule r1 w 20 {\n",
    "   { s 0.9 rz 5 h 5 rx 5 x 1 }  r1\n",
    "   { s 1 0.2 0.5 } box\n",
    "}\n",
    "\n",
    "rule r1 w 20 {\n",
    "   {  s 0.99 rz -5 h 5 rx -5 x 1 }   r1\n",
    "   { s 1 0.2 0.5 } box\n",
    "}\n",
    "\n",
    "rule r1  {\n",
    "}\"\"\"\n",
    "\n",
    "print(Itest().convert(parser.parse(oct)))"
   ]
  },
  {
   "cell_type": "code",
   "execution_count": 11,
   "metadata": {},
   "outputs": [
    {
     "name": "stdout",
     "output_type": "stream",
     "text": [
      "[[10, 'tx 1'], [20], ['ty 2'], 'r1']\n",
      "[['rx 1'], 'box']\n",
      "[[], 'sphere']\n",
      "<?xml version=\"1.0\" ?>\n",
      "<rules>\n",
      "  <rule name=\"entry\" count=\"20\"/>\n",
      "</rules>\n",
      "\n"
     ]
    },
    {
     "data": {
      "text/plain": [
       "'\\n<?xml version=\"1.0\" ?>\\n<rules max_depth=\"100\">\\n  <rule name=\"entry\">\\n    <call transforms=\"tx 1\" count=\"10\" rule=\"r1_00\"/>\\n  </rule>\\n  <rule name=\"r1_00\">\\n    <call transforms=\"ty 2\" count=\"20\" rule=\"r1\"/>\\n  </rule>\\n  <rule name=\"r1\">\\n    <instance transforms=\"\" shape=\"box\"/>\\n  </rule>\\n</rules>\\n'"
      ]
     },
     "execution_count": 11,
     "metadata": {},
     "output_type": "execute_result"
    }
   ],
   "source": [
    "oct2 = \"\"\"set maxdepth 100\n",
    "\n",
    "10 * { x 1} 20 * { y 2 }  r1\n",
    "\n",
    "rule r1  {\n",
    "    {rx 1} box\n",
    "    sphere\n",
    "}\"\"\"\n",
    "\n",
    "t = parser.parse(oct2)\n",
    "print(Itest().convert(t))\n",
    "\n",
    "\"\"\"\n",
    "<?xml version=\"1.0\" ?>\n",
    "<rules max_depth=\"100\">\n",
    "  <rule name=\"entry\">\n",
    "    <call transforms=\"tx 1\" count=\"10\" rule=\"r1_00\"/>\n",
    "  </rule>\n",
    "  <rule name=\"r1_00\">\n",
    "    <call transforms=\"ty 2\" count=\"20\" rule=\"r1\"/>\n",
    "  </rule>\n",
    "  <rule name=\"r1\">\n",
    "    <instance transforms=\"\" shape=\"box\"/>\n",
    "  </rule>\n",
    "</rules>\n",
    "\"\"\""
   ]
  },
  {
   "cell_type": "code",
   "execution_count": 12,
   "metadata": {},
   "outputs": [
    {
     "name": "stdout",
     "output_type": "stream",
     "text": [
      "main\n",
      "  global_md\t100\n",
      "  entry\n",
      "    call\n",
      "      loop\n",
      "        repeat\t10\n",
      "        transgroup\n",
      "          trans\n",
      "            x\n",
      "            1\n",
      "      loop\n",
      "        repeat\t20\n",
      "      loop\n",
      "        transgroup\n",
      "          trans\n",
      "            y\n",
      "            2\n",
      "      rulename\tr1\n",
      "  ruledef\n",
      "    rulename\tr1\n",
      "    call\n",
      "      loop\n",
      "        transgroup\n",
      "          trans\n",
      "            rx\n",
      "            1\n",
      "      rulename\tbox\n",
      "    call\n",
      "      loop\n",
      "      rulename\tsphere\n",
      "\n"
     ]
    }
   ],
   "source": [
    "print(t.pretty())"
   ]
  },
  {
   "cell_type": "markdown",
   "metadata": {},
   "source": [
    "Logic for two loops:  \n",
    "if 2 loops on call:  \n",
    "    make another rule from 2nd loop  \n",
    "    and call it from 1st loop  \n",
    "\n",
    "logic for more loops  \n",
    "    make a rule for each extra loop  \n",
    "    call them in  a chain  \n",
    "\n",
    "have in eisenscript_02.lark pushed the repeat down to the loop level \n",
    "\n",
    "All the bits for a new rule in one place.\n",
    "Who should handle its creation? call or loop?"
   ]
  },
  {
   "cell_type": "code",
   "execution_count": 13,
   "metadata": {},
   "outputs": [],
   "source": [
    "x = ['a']"
   ]
  },
  {
   "cell_type": "code",
   "execution_count": 14,
   "metadata": {},
   "outputs": [
    {
     "data": {
      "text/plain": [
       "True"
      ]
     },
     "execution_count": 14,
     "metadata": {},
     "output_type": "execute_result"
    }
   ],
   "source": [
    "len(x) == True"
   ]
  }
 ],
 "metadata": {
  "interpreter": {
   "hash": "1e1bbae3ba3d2e4c66a80b70820b105edcd72f39a4efc614088476d9a3b19e8d"
  },
  "kernelspec": {
   "display_name": "Python 3.8.10 ('eisenscript-to-xml-kiBzd_1a-py3.8')",
   "language": "python",
   "name": "python3"
  },
  "language_info": {
   "codemirror_mode": {
    "name": "ipython",
    "version": 3
   },
   "file_extension": ".py",
   "mimetype": "text/x-python",
   "name": "python",
   "nbconvert_exporter": "python",
   "pygments_lexer": "ipython3",
   "version": "3.9.5"
  },
  "orig_nbformat": 4
 },
 "nbformat": 4,
 "nbformat_minor": 2
}
