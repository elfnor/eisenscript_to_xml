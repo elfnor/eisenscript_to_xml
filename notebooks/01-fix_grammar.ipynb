{
 "cells": [
  {
   "cell_type": "markdown",
   "metadata": {},
   "source": [
    "# More messing with grammar"
   ]
  },
  {
   "cell_type": "code",
   "execution_count": 1,
   "metadata": {},
   "outputs": [],
   "source": [
    "import pyparsing as pp\n",
    "from eisenscript_to_xml import eisenscript_to_xml as ex"
   ]
  },
  {
   "cell_type": "code",
   "execution_count": 2,
   "metadata": {},
   "outputs": [],
   "source": [
    "bcall = '{ x 1 y 1 s 1 } sphere'"
   ]
  },
  {
   "cell_type": "code",
   "execution_count": 3,
   "metadata": {},
   "outputs": [
    {
     "data": {
      "text/plain": [
       "ParseResults([ParseResults([ParseResults(['x', '1'], {'tid': 'x', 'tvalues': ['1']}), ParseResults(['y', '1'], {'tid': 'y', 'tvalues': ['1']}), ParseResults(['s', '1'], {'tid': 's', 'tvalues': ['1']})], {'trans': [{'tid': 'x', 'tvalues': ['1']}, {'tid': 'y', 'tvalues': ['1']}, {'tid': 's', 'tvalues': ['1']}]}), 'sphere'], {'loop': {'trans': [{'tid': 'x', 'tvalues': ['1']}, {'tid': 'y', 'tvalues': ['1']}, {'tid': 's', 'tvalues': ['1']}]}, 'shape': 'sphere', 'bcall': [[{'trans': [{'tid': 'x', 'tvalues': ['1']}, {'tid': 'y', 'tvalues': ['1']}, {'tid': 's', 'tvalues': ['1']}]}, 'sphere']]})"
      ]
     },
     "execution_count": 3,
     "metadata": {},
     "output_type": "execute_result"
    }
   ],
   "source": [
    "fnum = pp.Word(\".+-*/()\" + pp.nums)\n",
    "loop_multiplier = fnum(\"count\") + pp.Suppress(\"*\")\n",
    "\n",
    "\n",
    "tid = pp.oneOf(\"x y z s rx ry rz\", caseless=True)(\"tid\")\n",
    "# these are color transforms that we're ignoring\n",
    "cid = pp.oneOf(\"h hue sat b brightness a alpha m\", caseless=True)\n",
    "tvalues = pp.OneOrMore(fnum)(\"tvalues\")\n",
    "gtrans = pp.Group(tid + tvalues).setResultsName(\"trans\", listAllMatches=True)\n",
    "ctrans = cid + tvalues\n",
    "c2trans = pp.CaselessKeyword(\"color\") + pp.Word(pp.alphanums + \"#\")\n",
    "c3trans = pp.CaselessKeyword(\"blend\") + pp.Word(pp.alphanums + \"#\") + fnum\n",
    "trans = gtrans | ctrans | c2trans | c3trans\n",
    "\n",
    "loop = pp.Group(\n",
    "    pp.Optional(loop_multiplier)\n",
    "    + pp.Suppress(\"{\")\n",
    "    + pp.ZeroOrMore(trans)\n",
    "    + pp.Suppress(\"}\")\n",
    ").setResultsName(\"loop\", listAllMatches=True)\n",
    "\n",
    "shape_words = pp.oneOf([\"box\", \"grid\", \"sphere\", \"line\"], caseless=True)\n",
    "shape = pp.Combine(shape_words + pp.Optional(pp.Word(pp.alphas + \":\")))\n",
    "\n",
    "shape_call = (pp.Optional(loop) + shape(\"shape\")).setResultsName(\n",
    "        \"bcall\", listAllMatches=True\n",
    "    )\n",
    "t = shape_call.parse_string(bcall)\n",
    "t"
   ]
  },
  {
   "cell_type": "code",
   "execution_count": 4,
   "metadata": {},
   "outputs": [
    {
     "data": {
      "text/plain": [
       "[[['x', '1'], ['y', '1'], ['s', '1']], 'sphere']"
      ]
     },
     "execution_count": 4,
     "metadata": {},
     "output_type": "execute_result"
    }
   ],
   "source": [
    "t.as_list()"
   ]
  },
  {
   "cell_type": "code",
   "execution_count": 5,
   "metadata": {},
   "outputs": [
    {
     "data": {
      "text/plain": [
       "{'loop': {'trans': [{'tid': 'x', 'tvalues': ['1']},\n",
       "   {'tid': 'y', 'tvalues': ['1']},\n",
       "   {'tid': 's', 'tvalues': ['1']}]},\n",
       " 'shape': 'sphere',\n",
       " 'bcall': [[{'trans': [{'tid': 'x', 'tvalues': ['1']},\n",
       "     {'tid': 'y', 'tvalues': ['1']},\n",
       "     {'tid': 's', 'tvalues': ['1']}]},\n",
       "   'sphere']]}"
      ]
     },
     "execution_count": 5,
     "metadata": {},
     "output_type": "execute_result"
    }
   ],
   "source": [
    "t.as_dict()"
   ]
  },
  {
   "cell_type": "markdown",
   "metadata": {},
   "source": [
    "what I'd like is just - or some such\n",
    "{'bcall': [{'trans': [{'tid': 'x', 'tvalues': ['1']},\n",
    "     {'tid': 'y', 'tvalues': ['1']},\n",
    "     {'tid': 's', 'tvalues': ['1']}]},\n",
    "   'shape': 'sphere']]}"
   ]
  },
  {
   "cell_type": "code",
   "execution_count": 67,
   "metadata": {},
   "outputs": [
    {
     "data": {
      "text/plain": [
       "ParseResults([ParseResults(['x', '1'], {'tid': 'x', 'tvalues': ['1']}), ParseResults(['y', '1'], {'tid': 'y', 'tvalues': ['1']}), ParseResults(['s', '1'], {'tid': 's', 'tvalues': ['1']}), 'sphere'], {'trans': [{'tid': 'x', 'tvalues': ['1']}, {'tid': 'y', 'tvalues': ['1']}, {'tid': 's', 'tvalues': ['1']}], 'shape': 'sphere'})"
      ]
     },
     "execution_count": 67,
     "metadata": {},
     "output_type": "execute_result"
    }
   ],
   "source": [
    "fnum = pp.Word(\".+-*/()\" + pp.nums)\n",
    "loop_multiplier = fnum(\"count\") + pp.Suppress(\"*\")\n",
    "\n",
    "\n",
    "tid = pp.oneOf(\"x y z s rx ry rz\", caseless=True)(\"tid\")\n",
    "# these are color transforms that we're ignoring\n",
    "cid = pp.oneOf(\"h hue sat b brightness a alpha m\", caseless=True)\n",
    "tvalues = pp.OneOrMore(fnum)(\"tvalues\")\n",
    "gtrans = pp.Group(tid + tvalues)\n",
    "ctrans = cid + tvalues\n",
    "c2trans = pp.CaselessKeyword(\"color\") + pp.Word(pp.alphanums + \"#\")\n",
    "c3trans = pp.CaselessKeyword(\"blend\") + pp.Word(pp.alphanums + \"#\") + fnum\n",
    "trans = gtrans | pp.Suppress(ctrans) | pp.Suppress(c2trans) | pp.Suppress(c3trans)\n",
    "\n",
    "loop = (\n",
    "    pp.Optional(loop_multiplier)\n",
    "    + pp.Suppress(\"{\")\n",
    "    + pp.ZeroOrMore(trans)\n",
    "    + pp.Suppress(\"}\")\n",
    ")\n",
    "\n",
    "shape_words = pp.oneOf([\"box\", \"grid\", \"sphere\", \"line\"], caseless=True)\n",
    "shape = pp.Combine(shape_words + pp.Optional(pp.Word(pp.alphas + \":\")))\n",
    "\n",
    "shape_call = (pp.Optional(loop)(\"trans\") + shape(\"shape\"))\n",
    "\n",
    "t = shape_call.parse_string(bcall)\n",
    "t"
   ]
  },
  {
   "cell_type": "code",
   "execution_count": 68,
   "metadata": {},
   "outputs": [
    {
     "data": {
      "text/plain": [
       "[['x', '1'], ['y', '1'], ['s', '1'], 'sphere']"
      ]
     },
     "execution_count": 68,
     "metadata": {},
     "output_type": "execute_result"
    }
   ],
   "source": [
    "t.as_list()"
   ]
  },
  {
   "cell_type": "code",
   "execution_count": 69,
   "metadata": {},
   "outputs": [
    {
     "data": {
      "text/plain": [
       "{'trans': [{'tid': 'x', 'tvalues': ['1']},\n",
       "  {'tid': 'y', 'tvalues': ['1']},\n",
       "  {'tid': 's', 'tvalues': ['1']}],\n",
       " 'shape': 'sphere'}"
      ]
     },
     "execution_count": 69,
     "metadata": {},
     "output_type": "execute_result"
    }
   ],
   "source": [
    "t.as_dict()"
   ]
  },
  {
   "cell_type": "code",
   "execution_count": 70,
   "metadata": {},
   "outputs": [
    {
     "data": {
      "text/plain": [
       "{'trans': [{'tid': 's', 'tvalues': ['0.1', '0.9', '1.1']}], 'shape': 'box'}"
      ]
     },
     "execution_count": 70,
     "metadata": {},
     "output_type": "execute_result"
    }
   ],
   "source": [
    "t = shape_call.parse_string('{ hue 113 sat 19 a 23 s 0.1 0.9 1.1 } box')\n",
    "t.as_dict()"
   ]
  },
  {
   "cell_type": "code",
   "execution_count": 71,
   "metadata": {},
   "outputs": [
    {
     "data": {
      "text/plain": [
       "{'trans': [{'tid': 'x', 'tvalues': ['30']},\n",
       "  {'tid': 'y', 'tvalues': ['30']},\n",
       "  {'tid': 'z', 'tvalues': ['-3']},\n",
       "  {'tid': 's', 'tvalues': ['900', '900', '1']}],\n",
       " 'shape': 'box'}"
      ]
     },
     "execution_count": 71,
     "metadata": {},
     "output_type": "execute_result"
    }
   ],
   "source": [
    "tstr = '{  x 30 y 30 z -3 s 900 900 1 color white } box'\n",
    "t = shape_call.parse_string(tstr)\n",
    "t.as_dict()"
   ]
  },
  {
   "cell_type": "markdown",
   "metadata": {},
   "source": [
    "this is good  \n",
    "do the same tidy up with `rule_call`"
   ]
  },
  {
   "cell_type": "code",
   "execution_count": 77,
   "metadata": {},
   "outputs": [],
   "source": [
    "rule_name = pp.NotAny(pp.CaselessKeyword(\"rule\")) + pp.Word(\n",
    "        pp.alphas, pp.alphanums + \"_\"\n",
    "    )\n",
    "rule_call = (pp.Optional(loop)(\"trans\") + rule_name(\"rule_name\"))\n"
   ]
  },
  {
   "cell_type": "code",
   "execution_count": 78,
   "metadata": {},
   "outputs": [
    {
     "data": {
      "text/plain": [
       "{'trans': [{'tid': 'rx', 'tvalues': ['180']},\n",
       "  {'tid': 'x', 'tvalues': ['20']},\n",
       "  {'tid': 'rz', 'tvalues': ['2']}],\n",
       " 'rule_name': ['br']}"
      ]
     },
     "execution_count": 78,
     "metadata": {},
     "output_type": "execute_result"
    }
   ],
   "source": [
    "tstr = '{ rx 180 x 20  rz 2 } br'\n",
    "t = rule_call.parse_string(tstr)\n",
    "t.as_dict()"
   ]
  },
  {
   "cell_type": "markdown",
   "metadata": {},
   "source": [
    "why the list enclosing `rule_name` but not `shape`? NotAny?,\n",
    "the difference between a shape call and a rule call is just that shape calls have to use one of the shape words? I think the word rule has to occur at the start of a line so don't need the not any if we assume we have correct eisenscript."
   ]
  },
  {
   "cell_type": "code",
   "execution_count": 79,
   "metadata": {},
   "outputs": [],
   "source": [
    "rule_name =  pp.Word(\n",
    "        pp.alphas, pp.alphanums + \"_\"\n",
    "    )\n",
    "rule_call = (pp.Optional(loop)(\"trans\") + rule_name(\"rule_name\"))"
   ]
  },
  {
   "cell_type": "code",
   "execution_count": 80,
   "metadata": {},
   "outputs": [
    {
     "data": {
      "text/plain": [
       "{'trans': [{'tid': 'rx', 'tvalues': ['180']},\n",
       "  {'tid': 'x', 'tvalues': ['20']},\n",
       "  {'tid': 'rz', 'tvalues': ['2']}],\n",
       " 'rule_name': 'br'}"
      ]
     },
     "execution_count": 80,
     "metadata": {},
     "output_type": "execute_result"
    }
   ],
   "source": [
    "tstr = '{ rx 180 x 20  rz 2 } br'\n",
    "t = rule_call.parse_string(tstr)\n",
    "t.as_dict()"
   ]
  },
  {
   "cell_type": "code",
   "execution_count": 81,
   "metadata": {},
   "outputs": [],
   "source": [
    "call = shape_call | rule_call\n"
   ]
  },
  {
   "cell_type": "markdown",
   "metadata": {},
   "source": []
  },
  {
   "cell_type": "code",
   "execution_count": 82,
   "metadata": {},
   "outputs": [
    {
     "data": {
      "text/plain": [
       "{'trans': [{'tid': 'rx', 'tvalues': ['180']},\n",
       "  {'tid': 'x', 'tvalues': ['20']},\n",
       "  {'tid': 'rz', 'tvalues': ['2']}],\n",
       " 'rule_name': 'br'}"
      ]
     },
     "execution_count": 82,
     "metadata": {},
     "output_type": "execute_result"
    }
   ],
   "source": [
    "tstr = '{ rx 180 x 20  rz 2 } br'\n",
    "t = call.parse_string(tstr)\n",
    "t.as_dict()"
   ]
  },
  {
   "cell_type": "code",
   "execution_count": 83,
   "metadata": {},
   "outputs": [
    {
     "data": {
      "text/plain": [
       "{'trans': [{'tid': 'x', 'tvalues': ['30']},\n",
       "  {'tid': 'y', 'tvalues': ['30']},\n",
       "  {'tid': 'z', 'tvalues': ['-3']},\n",
       "  {'tid': 's', 'tvalues': ['900', '900', '1']}],\n",
       " 'shape': 'box'}"
      ]
     },
     "execution_count": 83,
     "metadata": {},
     "output_type": "execute_result"
    }
   ],
   "source": [
    "tstr = '{  x 30 y 30 z -3 s 900 900 1 color white } box'\n",
    "t = call.parse_string(tstr)\n",
    "t.as_dict()"
   ]
  },
  {
   "cell_type": "markdown",
   "metadata": {},
   "source": [
    "this looks really promising, can we add a field `type` to parseResults? Or just use \n",
    "\n",
    "```\n",
    "if 'shape' in rules:  \n",
    "```"
   ]
  },
  {
   "cell_type": "code",
   "execution_count": 89,
   "metadata": {},
   "outputs": [
    {
     "data": {
      "text/plain": [
       "{'trans': [{'tid': 'x', 'tvalues': ['30']},\n",
       "  {'tid': 'y', 'tvalues': ['30']},\n",
       "  {'tid': 'z', 'tvalues': ['-3']},\n",
       "  {'tid': 's', 'tvalues': ['900', '900', '1']}],\n",
       " 'shape': 'box'}"
      ]
     },
     "execution_count": 89,
     "metadata": {},
     "output_type": "execute_result"
    }
   ],
   "source": [
    "# added to module\n",
    "t = ex.rule_shape_grammar().parse_string(tstr)\n",
    "t.as_dict()\n"
   ]
  },
  {
   "cell_type": "code",
   "execution_count": 90,
   "metadata": {},
   "outputs": [
    {
     "data": {
      "text/plain": [
       "{'trans': [{'tid': 'rx', 'tvalues': ['180']},\n",
       "  {'tid': 'x', 'tvalues': ['20']},\n",
       "  {'tid': 'rz', 'tvalues': ['2']}],\n",
       " 'rule_name': 'br'}"
      ]
     },
     "execution_count": 90,
     "metadata": {},
     "output_type": "execute_result"
    }
   ],
   "source": [
    "tstr = '{ rx 180 x 20  rz 2 } br'\n",
    "t = ex.rule_shape_grammar().parse_string(tstr)\n",
    "t.as_dict()"
   ]
  },
  {
   "cell_type": "markdown",
   "metadata": {},
   "source": [
    "The rests of `eisen_grammar` will need a similar treatment."
   ]
  }
 ],
 "metadata": {
  "interpreter": {
   "hash": "1e1bbae3ba3d2e4c66a80b70820b105edcd72f39a4efc614088476d9a3b19e8d"
  },
  "kernelspec": {
   "display_name": "Python 3.8.10 ('eisenscript-to-xml-kiBzd_1a-py3.8')",
   "language": "python",
   "name": "python3"
  },
  "language_info": {
   "codemirror_mode": {
    "name": "ipython",
    "version": 3
   },
   "file_extension": ".py",
   "mimetype": "text/x-python",
   "name": "python",
   "nbconvert_exporter": "python",
   "pygments_lexer": "ipython3",
   "version": "3.8.10"
  },
  "orig_nbformat": 4
 },
 "nbformat": 4,
 "nbformat_minor": 2
}
