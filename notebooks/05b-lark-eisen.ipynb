{
 "cells": [
  {
   "cell_type": "markdown",
   "metadata": {},
   "source": [
    "# Translate eisenscript to eisenxml using lark"
   ]
  },
  {
   "cell_type": "code",
   "execution_count": 1,
   "metadata": {},
   "outputs": [],
   "source": [
    "from pathlib import Path\n",
    "from lark import Lark\n",
    "from lark.visitors import Interpreter, Transformer, v_args\n",
    "parser = Lark.open('eisenscript_02.lark')"
   ]
  },
  {
   "cell_type": "markdown",
   "metadata": {},
   "source": [
    "In eisen tree structure I have nodes for\n",
    " - main\n",
    " - global_md\n",
    " - entry\n",
    " - call\n",
    " - loop\n",
    " - trans \n",
    " - w_mod\n",
    " - md_mod\n",
    "\n",
    " will need an Interpreter method for each which adds something to the xml tree  \n",
    " how do I get token values?\n",
    " look   @visit_children_decor"
   ]
  },
  {
   "cell_type": "code",
   "execution_count": 2,
   "metadata": {},
   "outputs": [],
   "source": [
    "# minimal example\n",
    "test = \"\"\" 2 * { x 1 y 2} seed\n",
    "{ rx 1 ry 2} seed\n",
    "rule seed  { \n",
    "  box \n",
    "}\n",
    "\"\"\""
   ]
  },
  {
   "cell_type": "code",
   "execution_count": 3,
   "metadata": {},
   "outputs": [],
   "source": [
    "ball = \"\"\"set maxdepth 2000\n",
    "R1 \n",
    "\n",
    "rule R1 w 10 { \n",
    "{ x 1  rz 3 ry 5  } R1\n",
    "{ s 1 1 0.1 sat 0.9 } box\n",
    "} \n",
    "\"\"\""
   ]
  },
  {
   "cell_type": "code",
   "execution_count": 4,
   "metadata": {},
   "outputs": [
    {
     "data": {
      "text/plain": [
       "Tree(Token('RULE', 'main'), [Tree(Token('RULE', 'entry'), [Tree(Token('RULE', 'call'), [Tree(Token('RULE', 'loop'), [Tree('repeat', [Token('NUMBER', '2')]), Tree(Token('RULE', 'transgroup'), [Tree(Token('RULE', 'trans'), [Token('TID', 'x'), Token('VALUE', '1')]), Tree(Token('RULE', 'trans'), [Token('TID', 'y'), Token('VALUE', '2')])])]), Tree('rulename', [Token('RULENAME', 'seed')])]), Tree(Token('RULE', 'call'), [Tree(Token('RULE', 'loop'), [Tree(Token('RULE', 'transgroup'), [Tree(Token('RULE', 'trans'), [Token('TID', 'rx'), Token('VALUE', '1')]), Tree(Token('RULE', 'trans'), [Token('TID', 'ry'), Token('VALUE', '2')])])]), Tree('rulename', [Token('RULENAME', 'seed')])])]), Tree(Token('RULE', 'ruledef'), [Tree('rulename', [Token('RULENAME', 'seed')]), Tree(Token('RULE', 'call'), [Tree(Token('RULE', 'loop'), []), Tree('rulename', [Token('RULENAME', 'box')])])])])"
      ]
     },
     "execution_count": 4,
     "metadata": {},
     "output_type": "execute_result"
    }
   ],
   "source": [
    "small = parser.parse(test)\n",
    "small"
   ]
  },
  {
   "cell_type": "code",
   "execution_count": 5,
   "metadata": {},
   "outputs": [
    {
     "name": "stdout",
     "output_type": "stream",
     "text": [
      "main\n",
      "  entry\n",
      "    call\n",
      "      loop\n",
      "        repeat\t2\n",
      "        transgroup\n",
      "          trans\n",
      "            x\n",
      "            1\n",
      "          trans\n",
      "            y\n",
      "            2\n",
      "      rulename\tseed\n",
      "    call\n",
      "      loop\n",
      "        transgroup\n",
      "          trans\n",
      "            rx\n",
      "            1\n",
      "          trans\n",
      "            ry\n",
      "            2\n",
      "      rulename\tseed\n",
      "  ruledef\n",
      "    rulename\tseed\n",
      "    call\n",
      "      loop\n",
      "      rulename\tbox\n",
      "\n"
     ]
    }
   ],
   "source": [
    "print(small.pretty())"
   ]
  },
  {
   "cell_type": "code",
   "execution_count": 6,
   "metadata": {},
   "outputs": [],
   "source": [
    "from xml.etree import ElementTree as et\n",
    "from xml.dom import minidom\n"
   ]
  },
  {
   "cell_type": "code",
   "execution_count": 139,
   "metadata": {},
   "outputs": [],
   "source": [
    "def prettify(elem):\n",
    "    \"\"\"Return a pretty-printed XML string for the Element.\"\"\"\n",
    "    rough_string = et.tostring(elem, \"utf-8\")\n",
    "    reparsed = minidom.parseString(rough_string)\n",
    "    return reparsed.toprettyxml(indent=\"  \")\n",
    "\n",
    "\n",
    "class Itest(Interpreter):\n",
    "    def convert(self, tree):\n",
    "        self.xmltree = et.Element(\"rules\")\n",
    "        self.active = self.xmltree\n",
    "        self._visit_tree(tree)\n",
    "        return prettify(self.xmltree)\n",
    "\n",
    "    def main(self, tree):\n",
    "        self.visit_children(tree)\n",
    "\n",
    "    def entry(self, tree):\n",
    "        self.active = et.SubElement(self.xmltree, \"rule\")\n",
    "        self.active.set(\"name\", \"entry\")\n",
    "        self.visit_children(tree)\n",
    "        self.active = self.xmltree\n",
    "\n",
    "    def ruledef(self, tree):\n",
    "        self.active = et.SubElement(self.xmltree, \"rule\")\n",
    "        current = self.active\n",
    "        data = self.visit_children(tree)\n",
    "        current.set(\"name\", data[0])\n",
    "        self.active = self.xmltree\n",
    "\n",
    "    def call(self, tree):\n",
    "        \"\"\"\n",
    "        most of the logic and xml generation happens here\n",
    "        data has structure\n",
    "        multiple loops\n",
    "        data = [{'count': '10', 'tgroup': 'tx 1', 'rname': 'r1_00'},\n",
    "                {'count': '20', 'tgroup': 'ty 2', 'rname': 'r1_01'},\n",
    "                {'count': '5', 'tgroup': 'tz 3', 'rname': 'r1'}]\n",
    "        single loop\n",
    "        data = [{'count': '1', 'tgroup': 'tx 1', 'rname': 'r1}]\n",
    "        \"\"\"\n",
    "        data = self.visit_children(tree)\n",
    "        rname = data[-1]\n",
    "        data = data[:-1]\n",
    "        # make the last loop rname and create names for any previous extra loops\n",
    "        data[-1][\"rname\"] = rname\n",
    "        for i, loop_dict in enumerate(data[:-1]):\n",
    "            loop_dict[\"rname\"] = f\"{rname}_{i:02}\"\n",
    "\n",
    "        for loop in data:\n",
    "            print(loop)\n",
    "        print()\n",
    "            \n",
    "        # the first loop is a call within the current rule\n",
    "        if rname in [\"box\", \"grid\", \"sphere\", \"line\"]:\n",
    "            call = et.SubElement(self.active, \"instance\")\n",
    "            call.set(\"shape\", data[0][\"rname\"])\n",
    "        else:\n",
    "            call = et.SubElement(self.active, \"call\")\n",
    "            call.set(\"rule\", data[0][\"rname\"])\n",
    "\n",
    "        call.set(\"count\", data[0][\"count\"])\n",
    "        call.set(\"transforms\", data[0][\"tgroup\"])\n",
    "\n",
    "        # subsequent loops are converted to rules with a single call to the next rule\n",
    "        for i, loop_dict in enumerate(data[1:]):\n",
    "            self.active = et.SubElement(self.xmltree, \"rule\")\n",
    "            self.active.set(\"name\", data[i]['rname'])\n",
    "            call = et.SubElement(self.active, \"call\")\n",
    "            call.set(\"rule\", loop_dict[\"rname\"])\n",
    "            call.set(\"count\", loop_dict[\"count\"])\n",
    "            call.set(\"transforms\", loop_dict[\"tgroup\"])\n",
    "\n",
    "    def transgroup(self, tree):\n",
    "        # joins all the transforms inside {} into a string\n",
    "        data = \" \".join(self.visit_children(tree))\n",
    "        return data\n",
    "\n",
    "    @v_args(meta=True)\n",
    "    def trans(self, kids, meta):\n",
    "        # called for each transform, returns a string\n",
    "        tid = meta[0]\n",
    "        values = meta[1:]\n",
    "\n",
    "        if tid == \"s\" and len(values) == 1:\n",
    "            tid = \"sa\"\n",
    "        if tid in (\"x\", \"y\", \"z\"):\n",
    "            tid = \"t\" + tid\n",
    "        if tid in (\"tx\", \"ty\", \"tz\", \"rx\", \"ry\", \"rz\", \"sa\", \"s\"):\n",
    "            tstr = tid + \" \" + \" \".join(values)\n",
    "        else:\n",
    "            tstr = \"\"\n",
    "        return tstr\n",
    "\n",
    "    def loop(self, tree):\n",
    "        # an optional count and the list of transforms in {} brackets\n",
    "        # creates a dict containing count and transform group\n",
    "        data = self.visit_children(tree)\n",
    "\n",
    "        if len(data) == 0:\n",
    "            loop_dict = {\"count\": \"0\", \"tgroup\": \"\"}\n",
    "        if len(data) == 1:\n",
    "            loop_dict = {\"count\": \"1\", \"tgroup\": data[0]}\n",
    "        if len(data) == 2:\n",
    "            loop_dict = {\"count\": data[0], \"tgroup\": data[1]}\n",
    "\n",
    "        return loop_dict\n",
    "\n",
    "    @v_args(inline=True)\n",
    "    def rulename(self, rname):\n",
    "        return str(rname)\n",
    "\n",
    "    @v_args(inline=True)\n",
    "    def repeat(self, c):\n",
    "        return str(c)\n",
    "\n",
    "    @v_args(inline=True)\n",
    "    def wmod(self, weight):\n",
    "        self.active.set(\"weight\", weight)\n",
    "\n",
    "    @v_args(meta=True)\n",
    "    def mmod(self, kids, meta):\n",
    "        self.active.set(\"max_depth\", meta[0])\n",
    "        if len(meta) > 1:\n",
    "            self.active.set(\"successor\", meta[1])\n"
   ]
  },
  {
   "cell_type": "code",
   "execution_count": 140,
   "metadata": {},
   "outputs": [
    {
     "name": "stdout",
     "output_type": "stream",
     "text": [
      "{'count': '2', 'tgroup': 'tx 1 ty 2', 'rname': 'seed'}\n",
      "\n",
      "{'count': '1', 'tgroup': 'rx 1 ry 2', 'rname': 'seed'}\n",
      "\n",
      "{'count': '0', 'tgroup': '', 'rname': 'box'}\n",
      "\n",
      "<?xml version=\"1.0\" ?>\n",
      "<rules>\n",
      "  <rule name=\"entry\">\n",
      "    <call rule=\"seed\" count=\"2\" transforms=\"tx 1 ty 2\"/>\n",
      "    <call rule=\"seed\" count=\"1\" transforms=\"rx 1 ry 2\"/>\n",
      "  </rule>\n",
      "  <rule name=\"seed\">\n",
      "    <instance shape=\"box\" count=\"0\" transforms=\"\"/>\n",
      "  </rule>\n",
      "</rules>\n",
      "\n"
     ]
    }
   ],
   "source": [
    "# minimal example\n",
    "test = \"\"\" 2 * { x 1 y 2} seed\n",
    "{ rx 1 ry 2} seed\n",
    "rule seed  { \n",
    "  box \n",
    "}\n",
    "\"\"\"\n",
    "test = parser.parse(test)\n",
    "print(Itest().convert(test))"
   ]
  },
  {
   "cell_type": "markdown",
   "metadata": {},
   "source": [
    "\n",
    "why do I get   \n",
    "`loop  [Token('NUMBER', '2'), 'tx 1', 'ty 2']`\n",
    "instead of \n",
    "`loop  ['2', 'tx 1', 'ty 2']`\n",
    "as repeat returns 2, change to `return int(c)`\n",
    "\n",
    "best structure for data returned from call's kids might be\n",
    "`[2, 'tx 1 ty 2', 'seed' ]`\n",
    "\n",
    "as of now have\n",
    "`[[2, 'tx 1', 'ty 2'], 'seed']`\n",
    "or \n",
    "`[['rx 1', 'ry 2'], 'seed']`\n",
    "and for nested loops\n",
    "`[[10, 'tx 1'], [20, 'ty 2'], 'r1']`\n",
    "which will be hard to separate optional count.\n",
    "\n",
    "now have\n",
    "`call  [[2, 'tx 1 ty 2'], 'seed']`\n",
    "`call  [['rx 1 ry 2'], 'seed']`\n",
    "`call [[10, 'tx 1'], [20, 'ty 2'], 'r1']`\n",
    "`call  [[], 'sphere']`\n",
    "which will work\n"
   ]
  },
  {
   "cell_type": "code",
   "execution_count": 143,
   "metadata": {},
   "outputs": [
    {
     "name": "stdout",
     "output_type": "stream",
     "text": [
      "{'count': '0', 'tgroup': '', 'rname': 'R1'}\n",
      "\n",
      "{'count': '1', 'tgroup': 'tx 1', 'rname': 'R1'}\n",
      "\n",
      "{'count': '1', 'tgroup': 's 1 1 0.1', 'rname': 'box'}\n",
      "\n",
      "{'count': '0', 'tgroup': '', 'rname': 'sphere'}\n",
      "\n",
      "<?xml version=\"1.0\" ?>\n",
      "<rules>\n",
      "  <rule name=\"entry\">\n",
      "    <call rule=\"R1\" count=\"0\" transforms=\"\"/>\n",
      "  </rule>\n",
      "  <rule weight=\"10\" max_depth=\"20\" successor=\"R2\" name=\"R1\">\n",
      "    <call rule=\"R1\" count=\"1\" transforms=\"tx 1\"/>\n",
      "    <instance shape=\"box\" count=\"1\" transforms=\"s 1 1 0.1\"/>\n",
      "  </rule>\n",
      "  <rule name=\"R2\">\n",
      "    <instance shape=\"sphere\" count=\"0\" transforms=\"\"/>\n",
      "  </rule>\n",
      "</rules>\n",
      "\n"
     ]
    }
   ],
   "source": [
    "ball = \"\"\"set maxdepth 2000\n",
    "R1 \n",
    "\n",
    "rule R1 w 10 md 20 > R2  { \n",
    "{ x 1  } R1\n",
    "{ s 1 1 0.1 } box\n",
    "} \n",
    "rule R2  { \n",
    "sphere\n",
    "} \n",
    "\"\"\"\n",
    "balltree = parser.parse(ball)\n",
    "print(Itest().convert(balltree))"
   ]
  },
  {
   "cell_type": "markdown",
   "metadata": {},
   "source": [
    "can we make colour a generic string  \n",
    "\"red\" \n",
    "           | \"black\"\n",
    "           | \"white\"\n",
    "           | \"blue\"\n",
    "           | \"green\"\n",
    "\n",
    "oct below has nested rules and currently fails to parse\n",
    "change   \n",
    "`call: count* loop* rn`  \n",
    "to  \n",
    "`call: (count* loop*)* rn`  \n",
    "\n",
    "This only gets the last count * loop.  \n",
    "\n",
    "My old code did this:\n",
    "\n",
    "```xml\n",
    "<?xml version=\"1.0\" ?>\n",
    "<rules max_depth=\"100\">\n",
    "  <rule name=\"entry\">\n",
    "    <call transforms=\"ry 36\" count=\"10\" rule=\"r1_00\"/>\n",
    "  </rule>\n",
    "  <rule name=\"r1_00\">\n",
    "    <call transforms=\"ry 10\" count=\"30\" rule=\"r1\"/>\n",
    "  </rule>\n",
    "  <rule name=\"r1\" weight=\"20\">\n",
    "    <instance transforms=\"s 1 0.2 0.5\" shape=\"box\"/>\n",
    "    <call transforms=\"sa 0.9 rz 5 rx 5 tx 1\" rule=\"r1\"/>\n",
    "  </rule>\n",
    "  <rule name=\"r1\" weight=\"20\">\n",
    "    <instance transforms=\"s 1 0.2 0.5\" shape=\"box\"/>\n",
    "    <call transforms=\"sa 0.99 rz -5 rx -5 tx 1\" rule=\"r1\"/>\n",
    "  </rule>\n",
    "</rules>\n",
    "```\n",
    "\n",
    "It's created an extra rule \"r1_00\" and dropped the third nested rule. The code does say it only deals with two loops per call.\n",
    "\n",
    "Lark version visits all the loops but keeps overriding the atrributes\n",
    "Creating the extra rules here could be done by adding to the tree?\n",
    "\n",
    "Logic:  \n",
    "if more than one loop per call:\n",
    "  \n",
    "\n",
    "item? - Zero or one instances of item (”maybe”)\n",
    "item* - Zero or more instances of item\n",
    "item+ - One or more instances of item\n",
    "item ~ n - Exactly n instances of item\n",
    "item ~ n..m - Between n to m instances of item (not recommended for wide ranges, due to performance issues)\n"
   ]
  },
  {
   "cell_type": "code",
   "execution_count": 142,
   "metadata": {},
   "outputs": [
    {
     "name": "stdout",
     "output_type": "stream",
     "text": [
      "{'count': '10', 'tgroup': 'tx 1', 'rname': 'r1_00'}\n",
      "{'count': '20', 'tgroup': 'ty 2', 'rname': 'r1'}\n",
      "\n",
      "{'count': '2', 'tgroup': 'rx 1', 'rname': 'box'}\n",
      "\n",
      "{'count': '0', 'tgroup': '', 'rname': 'sphere'}\n",
      "\n",
      "<?xml version=\"1.0\" ?>\n",
      "<rules>\n",
      "  <rule name=\"entry\">\n",
      "    <call rule=\"r1_00\" count=\"10\" transforms=\"tx 1\"/>\n",
      "  </rule>\n",
      "  <rule name=\"r1_00\">\n",
      "    <call rule=\"r1\" count=\"20\" transforms=\"ty 2\"/>\n",
      "  </rule>\n",
      "  <rule name=\"r1\">\n",
      "    <instance shape=\"box\" count=\"2\" transforms=\"rx 1\"/>\n",
      "    <instance shape=\"sphere\" count=\"0\" transforms=\"\"/>\n",
      "  </rule>\n",
      "</rules>\n",
      "\n"
     ]
    },
    {
     "data": {
      "text/plain": [
       "'\\n<?xml version=\"1.0\" ?>\\n<rules max_depth=\"100\">\\n  <rule name=\"entry\">\\n    <call transforms=\"tx 1\" count=\"10\" rule=\"r1_00\"/>\\n  </rule>\\n  <rule name=\"r1_00\">\\n    <call transforms=\"ty 2\" count=\"20\" rule=\"r1\"/>\\n  </rule>\\n  <rule name=\"r1\">\\n    <instance transforms=\"\" shape=\"box\"/>\\n  </rule>\\n</rules>\\n'"
      ]
     },
     "execution_count": 142,
     "metadata": {},
     "output_type": "execute_result"
    }
   ],
   "source": [
    "oct2 = \"\"\"set maxdepth 100\n",
    "\n",
    "10 * { x 1} 20 * { y 2 }  r1\n",
    "\n",
    "rule r1  {\n",
    "    2 * {rx 1} box\n",
    "    sphere\n",
    "}\"\"\"\n",
    "\n",
    "t = parser.parse(oct2)\n",
    "print(Itest().convert(t))\n",
    "\n",
    "\"\"\"\n",
    "<?xml version=\"1.0\" ?>\n",
    "<rules max_depth=\"100\">\n",
    "  <rule name=\"entry\">\n",
    "    <call transforms=\"tx 1\" count=\"10\" rule=\"r1_00\"/>\n",
    "  </rule>\n",
    "  <rule name=\"r1_00\">\n",
    "    <call transforms=\"ty 2\" count=\"20\" rule=\"r1\"/>\n",
    "  </rule>\n",
    "  <rule name=\"r1\">\n",
    "    <instance transforms=\"\" shape=\"box\"/>\n",
    "  </rule>\n",
    "</rules>\n",
    "\"\"\""
   ]
  },
  {
   "cell_type": "code",
   "execution_count": 12,
   "metadata": {},
   "outputs": [
    {
     "name": "stdout",
     "output_type": "stream",
     "text": [
      "main\n",
      "  global_md\t100\n",
      "  entry\n",
      "    call\n",
      "      loop\n",
      "        repeat\t10\n",
      "        transgroup\n",
      "          trans\n",
      "            x\n",
      "            1\n",
      "      loop\n",
      "        repeat\t20\n",
      "      loop\n",
      "        transgroup\n",
      "          trans\n",
      "            y\n",
      "            2\n",
      "      rulename\tr1\n",
      "  ruledef\n",
      "    rulename\tr1\n",
      "    call\n",
      "      loop\n",
      "        transgroup\n",
      "          trans\n",
      "            rx\n",
      "            1\n",
      "      rulename\tbox\n",
      "    call\n",
      "      loop\n",
      "      rulename\tsphere\n",
      "\n"
     ]
    }
   ],
   "source": [
    "print(t.pretty())"
   ]
  },
  {
   "cell_type": "markdown",
   "metadata": {},
   "source": [
    "Logic for two loops:  \n",
    "if 2 loops on call:  \n",
    "    make another rule from 2nd loop  \n",
    "    and call it from 1st loop  \n",
    "\n",
    "logic for more loops  \n",
    "    make a rule for each extra loop  \n",
    "    call them in  a chain  \n",
    "\n",
    "have in eisenscript_02.lark pushed the repeat down to the loop level \n",
    "\n",
    "All the bits for a new rule in one place.\n",
    "Who should handle its creation? call or loop?  \n",
    "\n",
    "\n",
    "I think I have this as above, handling any nmber of multiple rules  \n",
    "Not dealing with set directives yet."
   ]
  },
  {
   "cell_type": "code",
   "execution_count": 13,
   "metadata": {},
   "outputs": [],
   "source": [
    "x = ['a']"
   ]
  },
  {
   "cell_type": "code",
   "execution_count": 14,
   "metadata": {},
   "outputs": [
    {
     "data": {
      "text/plain": [
       "True"
      ]
     },
     "execution_count": 14,
     "metadata": {},
     "output_type": "execute_result"
    }
   ],
   "source": [
    "len(x) == True"
   ]
  }
 ],
 "metadata": {
  "interpreter": {
   "hash": "1e1bbae3ba3d2e4c66a80b70820b105edcd72f39a4efc614088476d9a3b19e8d"
  },
  "kernelspec": {
   "display_name": "Python 3.8.10 ('eisenscript-to-xml-kiBzd_1a-py3.8')",
   "language": "python",
   "name": "python3"
  },
  "language_info": {
   "codemirror_mode": {
    "name": "ipython",
    "version": 3
   },
   "file_extension": ".py",
   "mimetype": "text/x-python",
   "name": "python",
   "nbconvert_exporter": "python",
   "pygments_lexer": "ipython3",
   "version": "3.9.5"
  },
  "orig_nbformat": 4
 },
 "nbformat": 4,
 "nbformat_minor": 2
}
