{
 "cells": [
  {
   "cell_type": "markdown",
   "metadata": {},
   "source": [
    "https://code.activestate.com/recipes/578625-python-ast-to-xml/\n",
    "\n",
    "or try this\n",
    "\n",
    "https://github.com/flyte/ast-to-xml/blob/develop/ast_to_xml.py\n",
    "\n",
    "or\n",
    "\n",
    "https://github.com/hchasestevens/astpath/blob/master/astpath/asts.py#L30\n",
    "\n",
    "or\n",
    "\n",
    "https://www.reddit.com/r/Python/comments/79k5ve/is_there_any_way_to_round_trip_a_python_ast/\n"
   ]
  },
  {
   "cell_type": "code",
   "execution_count": 5,
   "metadata": {},
   "outputs": [],
   "source": [
    "import ast, sys\n",
    "from xml.dom import minidom\n",
    "\n",
    "from xml.etree import cElementTree as etree\n",
    "\n",
    "\n",
    "def prettify(xml_string):\n",
    "    reparsed = minidom.parseString(xml_string)\n",
    "    return reparsed.toprettyxml(indent=\"  \") \n",
    "\n",
    "class Ast2xml(ast.NodeVisitor):\n",
    "    def __init__(self):\n",
    "        super(ast.NodeVisitor, self).__init__()\n",
    "        self.path = []\n",
    "        self.root = etree.Element('ast')\n",
    "        self.celement = self.root\n",
    "        self.lname = 'module'\n",
    "\n",
    "    def convert(self, tree):\n",
    "        self.visit(tree)\n",
    "        return etree.tostring(self.root)\n",
    "        \n",
    "    def generic_visit(self, node):\n",
    "        self.path.append(type(node).__name__)\n",
    "        ocelement = self.celement\n",
    "        self.celement = etree.SubElement(self.celement, self.lname)\n",
    "        self.celement.attrib.update({'_name': type(node).__name__})\n",
    "        olname = self.lname\n",
    "        self.lname = type(node).__name__\n",
    "        for item in node.__dict__:\n",
    "            self.lname = item\n",
    "            if isinstance(getattr(node, item), ast.AST):\n",
    "                self.generic_visit(getattr(node, item))\n",
    "            elif isinstance(getattr(node, item), list):\n",
    "                ocel2 = self.celement\n",
    "                olname2 = self.lname\n",
    "                self.celement = etree.SubElement(self.celement, self.lname)\n",
    "                self.celement.attrib.update({'_name': '_list'})\n",
    "                self.lname = '_list_element'\n",
    "                [self.generic_visit(childnode) for childnode in getattr(node, item) if isinstance(childnode, (ast.AST, list))]\n",
    "                self.celement = ocel2\n",
    "                self.lname = olname2\n",
    "            else:\n",
    "                self.celement.attrib.update({item: str(getattr(node, item))})\n",
    "        self.path.pop()\n",
    "        self.celement = ocelement\n",
    "        self.lname = olname\n"
   ]
  },
  {
   "cell_type": "code",
   "execution_count": 7,
   "metadata": {},
   "outputs": [
    {
     "ename": "RecursionError",
     "evalue": "maximum recursion depth exceeded while calling a Python object",
     "output_type": "error",
     "traceback": [
      "\u001b[0;31m---------------------------------------------------------------------------\u001b[0m",
      "\u001b[0;31mRecursionError\u001b[0m                            Traceback (most recent call last)",
      "\u001b[1;32mUntitled-1.ipynb Cell 3'\u001b[0m in \u001b[0;36m<cell line: 3>\u001b[0;34m()\u001b[0m\n\u001b[1;32m      <a href='vscode-notebook-cell:Untitled-1.ipynb?jupyter-notebook#ch0000002untitled?line=0'>1</a>\u001b[0m test \u001b[39m=\u001b[39m \u001b[39m\"\u001b[39m\u001b[39mprint(\u001b[39m\u001b[39m'\u001b[39m\u001b[39mhello world\u001b[39m\u001b[39m'\u001b[39m\u001b[39m)\u001b[39m\u001b[39m\"\u001b[39m\n\u001b[1;32m      <a href='vscode-notebook-cell:Untitled-1.ipynb?jupyter-notebook#ch0000002untitled?line=1'>2</a>\u001b[0m astree \u001b[39m=\u001b[39m ast\u001b[39m.\u001b[39mparse(test)\n\u001b[0;32m----> <a href='vscode-notebook-cell:Untitled-1.ipynb?jupyter-notebook#ch0000002untitled?line=2'>3</a>\u001b[0m res \u001b[39m=\u001b[39m Ast2xml()\u001b[39m.\u001b[39;49mconvert(astree)\n",
      "\u001b[1;32mUntitled-1.ipynb Cell 2'\u001b[0m in \u001b[0;36mAst2xml.convert\u001b[0;34m(self, tree)\u001b[0m\n\u001b[1;32m     <a href='vscode-notebook-cell:Untitled-1.ipynb?jupyter-notebook#ch0000001untitled?line=17'>18</a>\u001b[0m \u001b[39mdef\u001b[39;00m \u001b[39mconvert\u001b[39m(\u001b[39mself\u001b[39m, tree):\n\u001b[0;32m---> <a href='vscode-notebook-cell:Untitled-1.ipynb?jupyter-notebook#ch0000001untitled?line=18'>19</a>\u001b[0m     \u001b[39mself\u001b[39;49m\u001b[39m.\u001b[39;49mvisit(tree)\n\u001b[1;32m     <a href='vscode-notebook-cell:Untitled-1.ipynb?jupyter-notebook#ch0000001untitled?line=19'>20</a>\u001b[0m     \u001b[39mreturn\u001b[39;00m etree\u001b[39m.\u001b[39mtostring(\u001b[39mself\u001b[39m\u001b[39m.\u001b[39mroot)\n",
      "File \u001b[0;32m~/.pyenv/versions/3.8.10/lib/python3.8/ast.py:371\u001b[0m, in \u001b[0;36mNodeVisitor.visit\u001b[0;34m(self, node)\u001b[0m\n\u001b[1;32m    <a href='file:///home/elfnor/.pyenv/versions/3.8.10/lib/python3.8/ast.py?line=368'>369</a>\u001b[0m method \u001b[39m=\u001b[39m \u001b[39m'\u001b[39m\u001b[39mvisit_\u001b[39m\u001b[39m'\u001b[39m \u001b[39m+\u001b[39m node\u001b[39m.\u001b[39m\u001b[39m__class__\u001b[39m\u001b[39m.\u001b[39m\u001b[39m__name__\u001b[39m\n\u001b[1;32m    <a href='file:///home/elfnor/.pyenv/versions/3.8.10/lib/python3.8/ast.py?line=369'>370</a>\u001b[0m visitor \u001b[39m=\u001b[39m \u001b[39mgetattr\u001b[39m(\u001b[39mself\u001b[39m, method, \u001b[39mself\u001b[39m\u001b[39m.\u001b[39mgeneric_visit)\n\u001b[0;32m--> <a href='file:///home/elfnor/.pyenv/versions/3.8.10/lib/python3.8/ast.py?line=370'>371</a>\u001b[0m \u001b[39mreturn\u001b[39;00m visitor(node)\n",
      "\u001b[1;32mUntitled-1.ipynb Cell 2'\u001b[0m in \u001b[0;36mAst2xml.generic_visit\u001b[0;34m(self, node)\u001b[0m\n\u001b[1;32m     <a href='vscode-notebook-cell:Untitled-1.ipynb?jupyter-notebook#ch0000001untitled?line=35'>36</a>\u001b[0m \u001b[39mself\u001b[39m\u001b[39m.\u001b[39mcelement\u001b[39m.\u001b[39mattrib\u001b[39m.\u001b[39mupdate({\u001b[39m'\u001b[39m\u001b[39m_name\u001b[39m\u001b[39m'\u001b[39m: \u001b[39m'\u001b[39m\u001b[39m_list\u001b[39m\u001b[39m'\u001b[39m})\n\u001b[1;32m     <a href='vscode-notebook-cell:Untitled-1.ipynb?jupyter-notebook#ch0000001untitled?line=36'>37</a>\u001b[0m \u001b[39mself\u001b[39m\u001b[39m.\u001b[39mlname \u001b[39m=\u001b[39m \u001b[39m'\u001b[39m\u001b[39m_list_element\u001b[39m\u001b[39m'\u001b[39m\n\u001b[0;32m---> <a href='vscode-notebook-cell:Untitled-1.ipynb?jupyter-notebook#ch0000001untitled?line=37'>38</a>\u001b[0m [\u001b[39mself\u001b[39m\u001b[39m.\u001b[39mgeneric_visit(childnode) \u001b[39mfor\u001b[39;00m childnode \u001b[39min\u001b[39;00m \u001b[39mgetattr\u001b[39m(node, item) \u001b[39mif\u001b[39;00m \u001b[39misinstance\u001b[39m(childnode, (ast\u001b[39m.\u001b[39mAST, \u001b[39mlist\u001b[39m))]\n\u001b[1;32m     <a href='vscode-notebook-cell:Untitled-1.ipynb?jupyter-notebook#ch0000001untitled?line=38'>39</a>\u001b[0m \u001b[39mself\u001b[39m\u001b[39m.\u001b[39mcelement \u001b[39m=\u001b[39m ocel2\n\u001b[1;32m     <a href='vscode-notebook-cell:Untitled-1.ipynb?jupyter-notebook#ch0000001untitled?line=39'>40</a>\u001b[0m \u001b[39mself\u001b[39m\u001b[39m.\u001b[39mlname \u001b[39m=\u001b[39m olname2\n",
      "\u001b[1;32mUntitled-1.ipynb Cell 2'\u001b[0m in \u001b[0;36m<listcomp>\u001b[0;34m(.0)\u001b[0m\n\u001b[1;32m     <a href='vscode-notebook-cell:Untitled-1.ipynb?jupyter-notebook#ch0000001untitled?line=35'>36</a>\u001b[0m \u001b[39mself\u001b[39m\u001b[39m.\u001b[39mcelement\u001b[39m.\u001b[39mattrib\u001b[39m.\u001b[39mupdate({\u001b[39m'\u001b[39m\u001b[39m_name\u001b[39m\u001b[39m'\u001b[39m: \u001b[39m'\u001b[39m\u001b[39m_list\u001b[39m\u001b[39m'\u001b[39m})\n\u001b[1;32m     <a href='vscode-notebook-cell:Untitled-1.ipynb?jupyter-notebook#ch0000001untitled?line=36'>37</a>\u001b[0m \u001b[39mself\u001b[39m\u001b[39m.\u001b[39mlname \u001b[39m=\u001b[39m \u001b[39m'\u001b[39m\u001b[39m_list_element\u001b[39m\u001b[39m'\u001b[39m\n\u001b[0;32m---> <a href='vscode-notebook-cell:Untitled-1.ipynb?jupyter-notebook#ch0000001untitled?line=37'>38</a>\u001b[0m [\u001b[39mself\u001b[39;49m\u001b[39m.\u001b[39;49mgeneric_visit(childnode) \u001b[39mfor\u001b[39;00m childnode \u001b[39min\u001b[39;00m \u001b[39mgetattr\u001b[39m(node, item) \u001b[39mif\u001b[39;00m \u001b[39misinstance\u001b[39m(childnode, (ast\u001b[39m.\u001b[39mAST, \u001b[39mlist\u001b[39m))]\n\u001b[1;32m     <a href='vscode-notebook-cell:Untitled-1.ipynb?jupyter-notebook#ch0000001untitled?line=38'>39</a>\u001b[0m \u001b[39mself\u001b[39m\u001b[39m.\u001b[39mcelement \u001b[39m=\u001b[39m ocel2\n\u001b[1;32m     <a href='vscode-notebook-cell:Untitled-1.ipynb?jupyter-notebook#ch0000001untitled?line=39'>40</a>\u001b[0m \u001b[39mself\u001b[39m\u001b[39m.\u001b[39mlname \u001b[39m=\u001b[39m olname2\n",
      "\u001b[1;32mUntitled-1.ipynb Cell 2'\u001b[0m in \u001b[0;36mAst2xml.generic_visit\u001b[0;34m(self, node)\u001b[0m\n\u001b[1;32m     <a href='vscode-notebook-cell:Untitled-1.ipynb?jupyter-notebook#ch0000001untitled?line=28'>29</a>\u001b[0m \u001b[39mself\u001b[39m\u001b[39m.\u001b[39mlname \u001b[39m=\u001b[39m item\n\u001b[1;32m     <a href='vscode-notebook-cell:Untitled-1.ipynb?jupyter-notebook#ch0000001untitled?line=29'>30</a>\u001b[0m \u001b[39mif\u001b[39;00m \u001b[39misinstance\u001b[39m(\u001b[39mgetattr\u001b[39m(node, item), ast\u001b[39m.\u001b[39mAST):\n\u001b[0;32m---> <a href='vscode-notebook-cell:Untitled-1.ipynb?jupyter-notebook#ch0000001untitled?line=30'>31</a>\u001b[0m     \u001b[39mself\u001b[39;49m\u001b[39m.\u001b[39;49mgeneric_visit(\u001b[39mgetattr\u001b[39;49m(node, item))\n\u001b[1;32m     <a href='vscode-notebook-cell:Untitled-1.ipynb?jupyter-notebook#ch0000001untitled?line=31'>32</a>\u001b[0m \u001b[39melif\u001b[39;00m \u001b[39misinstance\u001b[39m(\u001b[39mgetattr\u001b[39m(node, item), \u001b[39mlist\u001b[39m):\n\u001b[1;32m     <a href='vscode-notebook-cell:Untitled-1.ipynb?jupyter-notebook#ch0000001untitled?line=32'>33</a>\u001b[0m     ocel2 \u001b[39m=\u001b[39m \u001b[39mself\u001b[39m\u001b[39m.\u001b[39mcelement\n",
      "\u001b[1;32mUntitled-1.ipynb Cell 2'\u001b[0m in \u001b[0;36mAst2xml.generic_visit\u001b[0;34m(self, node)\u001b[0m\n\u001b[1;32m     <a href='vscode-notebook-cell:Untitled-1.ipynb?jupyter-notebook#ch0000001untitled?line=28'>29</a>\u001b[0m \u001b[39mself\u001b[39m\u001b[39m.\u001b[39mlname \u001b[39m=\u001b[39m item\n\u001b[1;32m     <a href='vscode-notebook-cell:Untitled-1.ipynb?jupyter-notebook#ch0000001untitled?line=29'>30</a>\u001b[0m \u001b[39mif\u001b[39;00m \u001b[39misinstance\u001b[39m(\u001b[39mgetattr\u001b[39m(node, item), ast\u001b[39m.\u001b[39mAST):\n\u001b[0;32m---> <a href='vscode-notebook-cell:Untitled-1.ipynb?jupyter-notebook#ch0000001untitled?line=30'>31</a>\u001b[0m     \u001b[39mself\u001b[39;49m\u001b[39m.\u001b[39;49mgeneric_visit(\u001b[39mgetattr\u001b[39;49m(node, item))\n\u001b[1;32m     <a href='vscode-notebook-cell:Untitled-1.ipynb?jupyter-notebook#ch0000001untitled?line=31'>32</a>\u001b[0m \u001b[39melif\u001b[39;00m \u001b[39misinstance\u001b[39m(\u001b[39mgetattr\u001b[39m(node, item), \u001b[39mlist\u001b[39m):\n\u001b[1;32m     <a href='vscode-notebook-cell:Untitled-1.ipynb?jupyter-notebook#ch0000001untitled?line=32'>33</a>\u001b[0m     ocel2 \u001b[39m=\u001b[39m \u001b[39mself\u001b[39m\u001b[39m.\u001b[39mcelement\n",
      "    \u001b[0;31m[... skipping similar frames: Ast2xml.generic_visit at line 31 (2964 times)]\u001b[0m\n",
      "\u001b[1;32mUntitled-1.ipynb Cell 2'\u001b[0m in \u001b[0;36mAst2xml.generic_visit\u001b[0;34m(self, node)\u001b[0m\n\u001b[1;32m     <a href='vscode-notebook-cell:Untitled-1.ipynb?jupyter-notebook#ch0000001untitled?line=28'>29</a>\u001b[0m \u001b[39mself\u001b[39m\u001b[39m.\u001b[39mlname \u001b[39m=\u001b[39m item\n\u001b[1;32m     <a href='vscode-notebook-cell:Untitled-1.ipynb?jupyter-notebook#ch0000001untitled?line=29'>30</a>\u001b[0m \u001b[39mif\u001b[39;00m \u001b[39misinstance\u001b[39m(\u001b[39mgetattr\u001b[39m(node, item), ast\u001b[39m.\u001b[39mAST):\n\u001b[0;32m---> <a href='vscode-notebook-cell:Untitled-1.ipynb?jupyter-notebook#ch0000001untitled?line=30'>31</a>\u001b[0m     \u001b[39mself\u001b[39;49m\u001b[39m.\u001b[39;49mgeneric_visit(\u001b[39mgetattr\u001b[39;49m(node, item))\n\u001b[1;32m     <a href='vscode-notebook-cell:Untitled-1.ipynb?jupyter-notebook#ch0000001untitled?line=31'>32</a>\u001b[0m \u001b[39melif\u001b[39;00m \u001b[39misinstance\u001b[39m(\u001b[39mgetattr\u001b[39m(node, item), \u001b[39mlist\u001b[39m):\n\u001b[1;32m     <a href='vscode-notebook-cell:Untitled-1.ipynb?jupyter-notebook#ch0000001untitled?line=32'>33</a>\u001b[0m     ocel2 \u001b[39m=\u001b[39m \u001b[39mself\u001b[39m\u001b[39m.\u001b[39mcelement\n",
      "\u001b[1;32mUntitled-1.ipynb Cell 2'\u001b[0m in \u001b[0;36mAst2xml.generic_visit\u001b[0;34m(self, node)\u001b[0m\n\u001b[1;32m     <a href='vscode-notebook-cell:Untitled-1.ipynb?jupyter-notebook#ch0000001untitled?line=21'>22</a>\u001b[0m \u001b[39mself\u001b[39m\u001b[39m.\u001b[39mpath\u001b[39m.\u001b[39mappend(\u001b[39mtype\u001b[39m(node)\u001b[39m.\u001b[39m\u001b[39m__name__\u001b[39m)\n\u001b[1;32m     <a href='vscode-notebook-cell:Untitled-1.ipynb?jupyter-notebook#ch0000001untitled?line=22'>23</a>\u001b[0m ocelement \u001b[39m=\u001b[39m \u001b[39mself\u001b[39m\u001b[39m.\u001b[39mcelement\n\u001b[0;32m---> <a href='vscode-notebook-cell:Untitled-1.ipynb?jupyter-notebook#ch0000001untitled?line=23'>24</a>\u001b[0m \u001b[39mself\u001b[39m\u001b[39m.\u001b[39mcelement \u001b[39m=\u001b[39m etree\u001b[39m.\u001b[39;49mSubElement(\u001b[39mself\u001b[39;49m\u001b[39m.\u001b[39;49mcelement, \u001b[39mself\u001b[39;49m\u001b[39m.\u001b[39;49mlname)\n\u001b[1;32m     <a href='vscode-notebook-cell:Untitled-1.ipynb?jupyter-notebook#ch0000001untitled?line=24'>25</a>\u001b[0m \u001b[39mself\u001b[39m\u001b[39m.\u001b[39mcelement\u001b[39m.\u001b[39mattrib\u001b[39m.\u001b[39mupdate({\u001b[39m'\u001b[39m\u001b[39m_name\u001b[39m\u001b[39m'\u001b[39m: \u001b[39mtype\u001b[39m(node)\u001b[39m.\u001b[39m\u001b[39m__name__\u001b[39m})\n\u001b[1;32m     <a href='vscode-notebook-cell:Untitled-1.ipynb?jupyter-notebook#ch0000001untitled?line=25'>26</a>\u001b[0m olname \u001b[39m=\u001b[39m \u001b[39mself\u001b[39m\u001b[39m.\u001b[39mlname\n",
      "\u001b[0;31mRecursionError\u001b[0m: maximum recursion depth exceeded while calling a Python object"
     ]
    }
   ],
   "source": [
    "test = \"print('hello world')\"\n",
    "astree = ast.parse(test)\n",
    "res = Ast2xml().convert(astree)"
   ]
  },
  {
   "cell_type": "code",
   "execution_count": null,
   "metadata": {},
   "outputs": [],
   "source": []
  }
 ],
 "metadata": {
  "interpreter": {
   "hash": "1e1bbae3ba3d2e4c66a80b70820b105edcd72f39a4efc614088476d9a3b19e8d"
  },
  "kernelspec": {
   "display_name": "Python 3.8.10 ('eisenscript-to-xml-kiBzd_1a-py3.8')",
   "language": "python",
   "name": "python3"
  },
  "language_info": {
   "codemirror_mode": {
    "name": "ipython",
    "version": 3
   },
   "file_extension": ".py",
   "mimetype": "text/x-python",
   "name": "python",
   "nbconvert_exporter": "python",
   "pygments_lexer": "ipython3",
   "version": "3.8.10"
  },
  "orig_nbformat": 4
 },
 "nbformat": 4,
 "nbformat_minor": 2
}
