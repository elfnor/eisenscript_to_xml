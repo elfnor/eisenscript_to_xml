{
 "cells": [
  {
   "cell_type": "markdown",
   "metadata": {},
   "source": [
    "# Translate eisenscript to eisenxml using lark"
   ]
  },
  {
   "cell_type": "code",
   "execution_count": 92,
   "metadata": {},
   "outputs": [],
   "source": [
    "from pathlib import Path\n",
    "from lark import Lark\n",
    "from lark.visitors import Interpreter, Transformer, v_args\n",
    "parser = Lark.open('eisenscript.lark')"
   ]
  },
  {
   "cell_type": "code",
   "execution_count": 79,
   "metadata": {},
   "outputs": [
    {
     "data": {
      "text/plain": [
       "True"
      ]
     },
     "execution_count": 79,
     "metadata": {},
     "output_type": "execute_result"
    }
   ],
   "source": [
    "fn = Path(\"../tests/test_es/Examples/Ball.es\")\n",
    "fn.exists()"
   ]
  },
  {
   "cell_type": "code",
   "execution_count": 80,
   "metadata": {},
   "outputs": [],
   "source": [
    "with open(fn, 'r') as f:\n",
    "    es_txt = f.read()\n",
    "tree = parser.parse(es_txt)\n",
    "    "
   ]
  },
  {
   "cell_type": "code",
   "execution_count": 57,
   "metadata": {},
   "outputs": [],
   "source": [
    "class EisenTreeToXml(Transformer):\n",
    "   \n",
    "\n",
    "    def trans(self, s):\n",
    "        \"\"\"\n",
    "            x -> tx\n",
    "            y -> ty\n",
    "            z -> tz\n",
    "            rx -> rx\n",
    "            ry -> ry\n",
    "            rz -> rz\n",
    "            s n -> sa n\n",
    "            s n n n -> s n n n\n",
    "\n",
    "        IGNORING multiple values for scale for now\n",
    "        \"\"\"\n",
    "        tid = s[0]\n",
    "        tvalues = s[1]\n",
    "\n",
    "        if tid in (\"x\", \"y\", \"z\"):\n",
    "            tid = \"t\" + tid\n",
    "        \n",
    "        if tid in ('tx', 'ty', 'tz', 'rx', 'ry', 'rz', 'sa', 's'):\n",
    "            tstr = tid + \" \" + tvalues + \" \"\n",
    "            print(tstr)\n",
    "        else:\n",
    "            tstr = None\n",
    "        return tstr\n",
    "    \n",
    "    def loop(self, s):\n",
    "        \"\"\"need to be producing xml at this stage\"\"\"\n",
    "        print(s)\n",
    "        return s\n"
   ]
  },
  {
   "cell_type": "code",
   "execution_count": 58,
   "metadata": {},
   "outputs": [
    {
     "name": "stdout",
     "output_type": "stream",
     "text": [
      "[None, None]\n",
      "ry 180 \n",
      "['ry 180 ', None, None]\n",
      "ty 0.4 \n",
      "rx 1 \n",
      "s 0.995 \n",
      "['ty 0.4 ', 'rx 1 ', 's 0.995 ', None]\n",
      "ty 0.4 \n",
      "rx 1 \n",
      "ry 1 \n",
      "s 0.995 \n",
      "['ty 0.4 ', 'rx 1 ', 'ry 1 ', 's 0.995 ', None]\n",
      "ty 0.4 \n",
      "rx 1 \n",
      "rz -1 \n",
      "s 1 \n",
      "['ty 0.4 ', 'rx 1 ', 'rz -1 ', 's 1 ', None]\n",
      "rx 15 \n",
      "['rx 15 ']\n",
      "ry 180 \n",
      "['ry 180 ', None]\n"
     ]
    }
   ],
   "source": [
    "t = EisenTreeToXml().transform(tree)"
   ]
  },
  {
   "cell_type": "code",
   "execution_count": 5,
   "metadata": {},
   "outputs": [],
   "source": [
    "# try with Interpreter instead\n",
    "class Es2xml(Interpreter):\n",
    "    def trans(self, s):\n",
    "        \"\"\"\n",
    "            x -> tx\n",
    "            y -> ty\n",
    "            z -> tz\n",
    "            rx -> rx\n",
    "            ry -> ry\n",
    "            rz -> rz\n",
    "            s n -> sa n\n",
    "            s n n n -> s n n n\n",
    "\n",
    "        IGNORING multiple values for scale for now\n",
    "        \"\"\"\n",
    "        tid = s[0]\n",
    "        tvalues = s[1]\n",
    "\n",
    "        if tid in (\"x\", \"y\", \"z\"):\n",
    "            tid = \"t\" + tid\n",
    "        \n",
    "        if tid in ('tx', 'ty', 'tz', 'rx', 'ry', 'rz', 'sa', 's'):\n",
    "            tstr = tid + \" \" + tvalues + \" \"\n",
    "            print(tstr)\n",
    "        else:\n",
    "            tstr = None\n",
    "        return tstr"
   ]
  },
  {
   "cell_type": "code",
   "execution_count": 6,
   "metadata": {},
   "outputs": [
    {
     "ename": "TypeError",
     "evalue": "'Tree' object is not subscriptable",
     "output_type": "error",
     "traceback": [
      "\u001b[0;31m---------------------------------------------------------------------------\u001b[0m",
      "\u001b[0;31mTypeError\u001b[0m                                 Traceback (most recent call last)",
      "\u001b[1;32m/media/elfnor/BeastHoard/gits/eisenscript_to_xml/notebooks/05-lark-eisen.ipynb Cell 8'\u001b[0m in \u001b[0;36m<cell line: 1>\u001b[0;34m()\u001b[0m\n\u001b[0;32m----> <a href='vscode-notebook-cell:/media/elfnor/BeastHoard/gits/eisenscript_to_xml/notebooks/05-lark-eisen.ipynb#ch0000007?line=0'>1</a>\u001b[0m Es2xml()\u001b[39m.\u001b[39;49mvisit(tree)\n",
      "File \u001b[0;32m~/.cache/pypoetry/virtualenvs/eisenscript-to-xml-kiBzd_1a-py3.9/lib/python3.9/site-packages/lark/visitors.py:411\u001b[0m, in \u001b[0;36mInterpreter.visit\u001b[0;34m(self, tree)\u001b[0m\n\u001b[1;32m    <a href='file:///home/elfnor/.cache/pypoetry/virtualenvs/eisenscript-to-xml-kiBzd_1a-py3.9/lib/python3.9/site-packages/lark/visitors.py?line=406'>407</a>\u001b[0m \u001b[39mdef\u001b[39;00m \u001b[39mvisit\u001b[39m(\u001b[39mself\u001b[39m, tree: Tree[_Leaf_T]) \u001b[39m-\u001b[39m\u001b[39m>\u001b[39m _Return_T:\n\u001b[1;32m    <a href='file:///home/elfnor/.cache/pypoetry/virtualenvs/eisenscript-to-xml-kiBzd_1a-py3.9/lib/python3.9/site-packages/lark/visitors.py?line=407'>408</a>\u001b[0m     \u001b[39m# There are no guarantees on the type of the value produced by calling a user func for a\u001b[39;00m\n\u001b[1;32m    <a href='file:///home/elfnor/.cache/pypoetry/virtualenvs/eisenscript-to-xml-kiBzd_1a-py3.9/lib/python3.9/site-packages/lark/visitors.py?line=408'>409</a>\u001b[0m     \u001b[39m# child will produce. So only annotate the public method and use an internal method when\u001b[39;00m\n\u001b[1;32m    <a href='file:///home/elfnor/.cache/pypoetry/virtualenvs/eisenscript-to-xml-kiBzd_1a-py3.9/lib/python3.9/site-packages/lark/visitors.py?line=409'>410</a>\u001b[0m     \u001b[39m# visiting child trees.\u001b[39;00m\n\u001b[0;32m--> <a href='file:///home/elfnor/.cache/pypoetry/virtualenvs/eisenscript-to-xml-kiBzd_1a-py3.9/lib/python3.9/site-packages/lark/visitors.py?line=410'>411</a>\u001b[0m     \u001b[39mreturn\u001b[39;00m \u001b[39mself\u001b[39;49m\u001b[39m.\u001b[39;49m_visit_tree(tree)\n",
      "File \u001b[0;32m~/.cache/pypoetry/virtualenvs/eisenscript-to-xml-kiBzd_1a-py3.9/lib/python3.9/site-packages/lark/visitors.py:419\u001b[0m, in \u001b[0;36mInterpreter._visit_tree\u001b[0;34m(self, tree)\u001b[0m\n\u001b[1;32m    <a href='file:///home/elfnor/.cache/pypoetry/virtualenvs/eisenscript-to-xml-kiBzd_1a-py3.9/lib/python3.9/site-packages/lark/visitors.py?line=416'>417</a>\u001b[0m     \u001b[39mreturn\u001b[39;00m f\u001b[39m.\u001b[39mvisit_wrapper(f, tree\u001b[39m.\u001b[39mdata, tree\u001b[39m.\u001b[39mchildren, tree\u001b[39m.\u001b[39mmeta)\n\u001b[1;32m    <a href='file:///home/elfnor/.cache/pypoetry/virtualenvs/eisenscript-to-xml-kiBzd_1a-py3.9/lib/python3.9/site-packages/lark/visitors.py?line=417'>418</a>\u001b[0m \u001b[39melse\u001b[39;00m:\n\u001b[0;32m--> <a href='file:///home/elfnor/.cache/pypoetry/virtualenvs/eisenscript-to-xml-kiBzd_1a-py3.9/lib/python3.9/site-packages/lark/visitors.py?line=418'>419</a>\u001b[0m     \u001b[39mreturn\u001b[39;00m f(tree)\n",
      "File \u001b[0;32m~/.cache/pypoetry/virtualenvs/eisenscript-to-xml-kiBzd_1a-py3.9/lib/python3.9/site-packages/lark/visitors.py:429\u001b[0m, in \u001b[0;36mInterpreter.__default__\u001b[0;34m(self, tree)\u001b[0m\n\u001b[1;32m    <a href='file:///home/elfnor/.cache/pypoetry/virtualenvs/eisenscript-to-xml-kiBzd_1a-py3.9/lib/python3.9/site-packages/lark/visitors.py?line=427'>428</a>\u001b[0m \u001b[39mdef\u001b[39;00m \u001b[39m__default__\u001b[39m(\u001b[39mself\u001b[39m, tree):\n\u001b[0;32m--> <a href='file:///home/elfnor/.cache/pypoetry/virtualenvs/eisenscript-to-xml-kiBzd_1a-py3.9/lib/python3.9/site-packages/lark/visitors.py?line=428'>429</a>\u001b[0m     \u001b[39mreturn\u001b[39;00m \u001b[39mself\u001b[39;49m\u001b[39m.\u001b[39;49mvisit_children(tree)\n",
      "File \u001b[0;32m~/.cache/pypoetry/virtualenvs/eisenscript-to-xml-kiBzd_1a-py3.9/lib/python3.9/site-packages/lark/visitors.py:422\u001b[0m, in \u001b[0;36mInterpreter.visit_children\u001b[0;34m(self, tree)\u001b[0m\n\u001b[1;32m    <a href='file:///home/elfnor/.cache/pypoetry/virtualenvs/eisenscript-to-xml-kiBzd_1a-py3.9/lib/python3.9/site-packages/lark/visitors.py?line=420'>421</a>\u001b[0m \u001b[39mdef\u001b[39;00m \u001b[39mvisit_children\u001b[39m(\u001b[39mself\u001b[39m, tree: Tree[_Leaf_T]) \u001b[39m-\u001b[39m\u001b[39m>\u001b[39m List:\n\u001b[0;32m--> <a href='file:///home/elfnor/.cache/pypoetry/virtualenvs/eisenscript-to-xml-kiBzd_1a-py3.9/lib/python3.9/site-packages/lark/visitors.py?line=421'>422</a>\u001b[0m     \u001b[39mreturn\u001b[39;00m [\u001b[39mself\u001b[39m\u001b[39m.\u001b[39m_visit_tree(child) \u001b[39mif\u001b[39;00m \u001b[39misinstance\u001b[39m(child, Tree) \u001b[39melse\u001b[39;00m child\n\u001b[1;32m    <a href='file:///home/elfnor/.cache/pypoetry/virtualenvs/eisenscript-to-xml-kiBzd_1a-py3.9/lib/python3.9/site-packages/lark/visitors.py?line=422'>423</a>\u001b[0m             \u001b[39mfor\u001b[39;00m child \u001b[39min\u001b[39;00m tree\u001b[39m.\u001b[39mchildren]\n",
      "File \u001b[0;32m~/.cache/pypoetry/virtualenvs/eisenscript-to-xml-kiBzd_1a-py3.9/lib/python3.9/site-packages/lark/visitors.py:422\u001b[0m, in \u001b[0;36m<listcomp>\u001b[0;34m(.0)\u001b[0m\n\u001b[1;32m    <a href='file:///home/elfnor/.cache/pypoetry/virtualenvs/eisenscript-to-xml-kiBzd_1a-py3.9/lib/python3.9/site-packages/lark/visitors.py?line=420'>421</a>\u001b[0m \u001b[39mdef\u001b[39;00m \u001b[39mvisit_children\u001b[39m(\u001b[39mself\u001b[39m, tree: Tree[_Leaf_T]) \u001b[39m-\u001b[39m\u001b[39m>\u001b[39m List:\n\u001b[0;32m--> <a href='file:///home/elfnor/.cache/pypoetry/virtualenvs/eisenscript-to-xml-kiBzd_1a-py3.9/lib/python3.9/site-packages/lark/visitors.py?line=421'>422</a>\u001b[0m     \u001b[39mreturn\u001b[39;00m [\u001b[39mself\u001b[39;49m\u001b[39m.\u001b[39;49m_visit_tree(child) \u001b[39mif\u001b[39;00m \u001b[39misinstance\u001b[39m(child, Tree) \u001b[39melse\u001b[39;00m child\n\u001b[1;32m    <a href='file:///home/elfnor/.cache/pypoetry/virtualenvs/eisenscript-to-xml-kiBzd_1a-py3.9/lib/python3.9/site-packages/lark/visitors.py?line=422'>423</a>\u001b[0m             \u001b[39mfor\u001b[39;00m child \u001b[39min\u001b[39;00m tree\u001b[39m.\u001b[39mchildren]\n",
      "File \u001b[0;32m~/.cache/pypoetry/virtualenvs/eisenscript-to-xml-kiBzd_1a-py3.9/lib/python3.9/site-packages/lark/visitors.py:419\u001b[0m, in \u001b[0;36mInterpreter._visit_tree\u001b[0;34m(self, tree)\u001b[0m\n\u001b[1;32m    <a href='file:///home/elfnor/.cache/pypoetry/virtualenvs/eisenscript-to-xml-kiBzd_1a-py3.9/lib/python3.9/site-packages/lark/visitors.py?line=416'>417</a>\u001b[0m     \u001b[39mreturn\u001b[39;00m f\u001b[39m.\u001b[39mvisit_wrapper(f, tree\u001b[39m.\u001b[39mdata, tree\u001b[39m.\u001b[39mchildren, tree\u001b[39m.\u001b[39mmeta)\n\u001b[1;32m    <a href='file:///home/elfnor/.cache/pypoetry/virtualenvs/eisenscript-to-xml-kiBzd_1a-py3.9/lib/python3.9/site-packages/lark/visitors.py?line=417'>418</a>\u001b[0m \u001b[39melse\u001b[39;00m:\n\u001b[0;32m--> <a href='file:///home/elfnor/.cache/pypoetry/virtualenvs/eisenscript-to-xml-kiBzd_1a-py3.9/lib/python3.9/site-packages/lark/visitors.py?line=418'>419</a>\u001b[0m     \u001b[39mreturn\u001b[39;00m f(tree)\n",
      "File \u001b[0;32m~/.cache/pypoetry/virtualenvs/eisenscript-to-xml-kiBzd_1a-py3.9/lib/python3.9/site-packages/lark/visitors.py:429\u001b[0m, in \u001b[0;36mInterpreter.__default__\u001b[0;34m(self, tree)\u001b[0m\n\u001b[1;32m    <a href='file:///home/elfnor/.cache/pypoetry/virtualenvs/eisenscript-to-xml-kiBzd_1a-py3.9/lib/python3.9/site-packages/lark/visitors.py?line=427'>428</a>\u001b[0m \u001b[39mdef\u001b[39;00m \u001b[39m__default__\u001b[39m(\u001b[39mself\u001b[39m, tree):\n\u001b[0;32m--> <a href='file:///home/elfnor/.cache/pypoetry/virtualenvs/eisenscript-to-xml-kiBzd_1a-py3.9/lib/python3.9/site-packages/lark/visitors.py?line=428'>429</a>\u001b[0m     \u001b[39mreturn\u001b[39;00m \u001b[39mself\u001b[39;49m\u001b[39m.\u001b[39;49mvisit_children(tree)\n",
      "File \u001b[0;32m~/.cache/pypoetry/virtualenvs/eisenscript-to-xml-kiBzd_1a-py3.9/lib/python3.9/site-packages/lark/visitors.py:422\u001b[0m, in \u001b[0;36mInterpreter.visit_children\u001b[0;34m(self, tree)\u001b[0m\n\u001b[1;32m    <a href='file:///home/elfnor/.cache/pypoetry/virtualenvs/eisenscript-to-xml-kiBzd_1a-py3.9/lib/python3.9/site-packages/lark/visitors.py?line=420'>421</a>\u001b[0m \u001b[39mdef\u001b[39;00m \u001b[39mvisit_children\u001b[39m(\u001b[39mself\u001b[39m, tree: Tree[_Leaf_T]) \u001b[39m-\u001b[39m\u001b[39m>\u001b[39m List:\n\u001b[0;32m--> <a href='file:///home/elfnor/.cache/pypoetry/virtualenvs/eisenscript-to-xml-kiBzd_1a-py3.9/lib/python3.9/site-packages/lark/visitors.py?line=421'>422</a>\u001b[0m     \u001b[39mreturn\u001b[39;00m [\u001b[39mself\u001b[39m\u001b[39m.\u001b[39m_visit_tree(child) \u001b[39mif\u001b[39;00m \u001b[39misinstance\u001b[39m(child, Tree) \u001b[39melse\u001b[39;00m child\n\u001b[1;32m    <a href='file:///home/elfnor/.cache/pypoetry/virtualenvs/eisenscript-to-xml-kiBzd_1a-py3.9/lib/python3.9/site-packages/lark/visitors.py?line=422'>423</a>\u001b[0m             \u001b[39mfor\u001b[39;00m child \u001b[39min\u001b[39;00m tree\u001b[39m.\u001b[39mchildren]\n",
      "File \u001b[0;32m~/.cache/pypoetry/virtualenvs/eisenscript-to-xml-kiBzd_1a-py3.9/lib/python3.9/site-packages/lark/visitors.py:422\u001b[0m, in \u001b[0;36m<listcomp>\u001b[0;34m(.0)\u001b[0m\n\u001b[1;32m    <a href='file:///home/elfnor/.cache/pypoetry/virtualenvs/eisenscript-to-xml-kiBzd_1a-py3.9/lib/python3.9/site-packages/lark/visitors.py?line=420'>421</a>\u001b[0m \u001b[39mdef\u001b[39;00m \u001b[39mvisit_children\u001b[39m(\u001b[39mself\u001b[39m, tree: Tree[_Leaf_T]) \u001b[39m-\u001b[39m\u001b[39m>\u001b[39m List:\n\u001b[0;32m--> <a href='file:///home/elfnor/.cache/pypoetry/virtualenvs/eisenscript-to-xml-kiBzd_1a-py3.9/lib/python3.9/site-packages/lark/visitors.py?line=421'>422</a>\u001b[0m     \u001b[39mreturn\u001b[39;00m [\u001b[39mself\u001b[39;49m\u001b[39m.\u001b[39;49m_visit_tree(child) \u001b[39mif\u001b[39;00m \u001b[39misinstance\u001b[39m(child, Tree) \u001b[39melse\u001b[39;00m child\n\u001b[1;32m    <a href='file:///home/elfnor/.cache/pypoetry/virtualenvs/eisenscript-to-xml-kiBzd_1a-py3.9/lib/python3.9/site-packages/lark/visitors.py?line=422'>423</a>\u001b[0m             \u001b[39mfor\u001b[39;00m child \u001b[39min\u001b[39;00m tree\u001b[39m.\u001b[39mchildren]\n",
      "    \u001b[0;31m[... skipping similar frames: Interpreter._visit_tree at line 419 (2 times), <listcomp> at line 422 (1 times), Interpreter.__default__ at line 429 (1 times), Interpreter.visit_children at line 422 (1 times)]\u001b[0m\n",
      "File \u001b[0;32m~/.cache/pypoetry/virtualenvs/eisenscript-to-xml-kiBzd_1a-py3.9/lib/python3.9/site-packages/lark/visitors.py:429\u001b[0m, in \u001b[0;36mInterpreter.__default__\u001b[0;34m(self, tree)\u001b[0m\n\u001b[1;32m    <a href='file:///home/elfnor/.cache/pypoetry/virtualenvs/eisenscript-to-xml-kiBzd_1a-py3.9/lib/python3.9/site-packages/lark/visitors.py?line=427'>428</a>\u001b[0m \u001b[39mdef\u001b[39;00m \u001b[39m__default__\u001b[39m(\u001b[39mself\u001b[39m, tree):\n\u001b[0;32m--> <a href='file:///home/elfnor/.cache/pypoetry/virtualenvs/eisenscript-to-xml-kiBzd_1a-py3.9/lib/python3.9/site-packages/lark/visitors.py?line=428'>429</a>\u001b[0m     \u001b[39mreturn\u001b[39;00m \u001b[39mself\u001b[39;49m\u001b[39m.\u001b[39;49mvisit_children(tree)\n",
      "File \u001b[0;32m~/.cache/pypoetry/virtualenvs/eisenscript-to-xml-kiBzd_1a-py3.9/lib/python3.9/site-packages/lark/visitors.py:422\u001b[0m, in \u001b[0;36mInterpreter.visit_children\u001b[0;34m(self, tree)\u001b[0m\n\u001b[1;32m    <a href='file:///home/elfnor/.cache/pypoetry/virtualenvs/eisenscript-to-xml-kiBzd_1a-py3.9/lib/python3.9/site-packages/lark/visitors.py?line=420'>421</a>\u001b[0m \u001b[39mdef\u001b[39;00m \u001b[39mvisit_children\u001b[39m(\u001b[39mself\u001b[39m, tree: Tree[_Leaf_T]) \u001b[39m-\u001b[39m\u001b[39m>\u001b[39m List:\n\u001b[0;32m--> <a href='file:///home/elfnor/.cache/pypoetry/virtualenvs/eisenscript-to-xml-kiBzd_1a-py3.9/lib/python3.9/site-packages/lark/visitors.py?line=421'>422</a>\u001b[0m     \u001b[39mreturn\u001b[39;00m [\u001b[39mself\u001b[39m\u001b[39m.\u001b[39m_visit_tree(child) \u001b[39mif\u001b[39;00m \u001b[39misinstance\u001b[39m(child, Tree) \u001b[39melse\u001b[39;00m child\n\u001b[1;32m    <a href='file:///home/elfnor/.cache/pypoetry/virtualenvs/eisenscript-to-xml-kiBzd_1a-py3.9/lib/python3.9/site-packages/lark/visitors.py?line=422'>423</a>\u001b[0m             \u001b[39mfor\u001b[39;00m child \u001b[39min\u001b[39;00m tree\u001b[39m.\u001b[39mchildren]\n",
      "File \u001b[0;32m~/.cache/pypoetry/virtualenvs/eisenscript-to-xml-kiBzd_1a-py3.9/lib/python3.9/site-packages/lark/visitors.py:422\u001b[0m, in \u001b[0;36m<listcomp>\u001b[0;34m(.0)\u001b[0m\n\u001b[1;32m    <a href='file:///home/elfnor/.cache/pypoetry/virtualenvs/eisenscript-to-xml-kiBzd_1a-py3.9/lib/python3.9/site-packages/lark/visitors.py?line=420'>421</a>\u001b[0m \u001b[39mdef\u001b[39;00m \u001b[39mvisit_children\u001b[39m(\u001b[39mself\u001b[39m, tree: Tree[_Leaf_T]) \u001b[39m-\u001b[39m\u001b[39m>\u001b[39m List:\n\u001b[0;32m--> <a href='file:///home/elfnor/.cache/pypoetry/virtualenvs/eisenscript-to-xml-kiBzd_1a-py3.9/lib/python3.9/site-packages/lark/visitors.py?line=421'>422</a>\u001b[0m     \u001b[39mreturn\u001b[39;00m [\u001b[39mself\u001b[39;49m\u001b[39m.\u001b[39;49m_visit_tree(child) \u001b[39mif\u001b[39;00m \u001b[39misinstance\u001b[39m(child, Tree) \u001b[39melse\u001b[39;00m child\n\u001b[1;32m    <a href='file:///home/elfnor/.cache/pypoetry/virtualenvs/eisenscript-to-xml-kiBzd_1a-py3.9/lib/python3.9/site-packages/lark/visitors.py?line=422'>423</a>\u001b[0m             \u001b[39mfor\u001b[39;00m child \u001b[39min\u001b[39;00m tree\u001b[39m.\u001b[39mchildren]\n",
      "File \u001b[0;32m~/.cache/pypoetry/virtualenvs/eisenscript-to-xml-kiBzd_1a-py3.9/lib/python3.9/site-packages/lark/visitors.py:419\u001b[0m, in \u001b[0;36mInterpreter._visit_tree\u001b[0;34m(self, tree)\u001b[0m\n\u001b[1;32m    <a href='file:///home/elfnor/.cache/pypoetry/virtualenvs/eisenscript-to-xml-kiBzd_1a-py3.9/lib/python3.9/site-packages/lark/visitors.py?line=416'>417</a>\u001b[0m     \u001b[39mreturn\u001b[39;00m f\u001b[39m.\u001b[39mvisit_wrapper(f, tree\u001b[39m.\u001b[39mdata, tree\u001b[39m.\u001b[39mchildren, tree\u001b[39m.\u001b[39mmeta)\n\u001b[1;32m    <a href='file:///home/elfnor/.cache/pypoetry/virtualenvs/eisenscript-to-xml-kiBzd_1a-py3.9/lib/python3.9/site-packages/lark/visitors.py?line=417'>418</a>\u001b[0m \u001b[39melse\u001b[39;00m:\n\u001b[0;32m--> <a href='file:///home/elfnor/.cache/pypoetry/virtualenvs/eisenscript-to-xml-kiBzd_1a-py3.9/lib/python3.9/site-packages/lark/visitors.py?line=418'>419</a>\u001b[0m     \u001b[39mreturn\u001b[39;00m f(tree)\n",
      "\u001b[1;32m/media/elfnor/BeastHoard/gits/eisenscript_to_xml/notebooks/05-lark-eisen.ipynb Cell 7'\u001b[0m in \u001b[0;36mEs2xml.trans\u001b[0;34m(self, s)\u001b[0m\n\u001b[1;32m      <a href='vscode-notebook-cell:/media/elfnor/BeastHoard/gits/eisenscript_to_xml/notebooks/05-lark-eisen.ipynb#ch0000006?line=2'>3</a>\u001b[0m \u001b[39mdef\u001b[39;00m \u001b[39mtrans\u001b[39m(\u001b[39mself\u001b[39m, s):\n\u001b[1;32m      <a href='vscode-notebook-cell:/media/elfnor/BeastHoard/gits/eisenscript_to_xml/notebooks/05-lark-eisen.ipynb#ch0000006?line=3'>4</a>\u001b[0m     \u001b[39m\"\"\"\u001b[39;00m\n\u001b[1;32m      <a href='vscode-notebook-cell:/media/elfnor/BeastHoard/gits/eisenscript_to_xml/notebooks/05-lark-eisen.ipynb#ch0000006?line=4'>5</a>\u001b[0m \u001b[39m        x -> tx\u001b[39;00m\n\u001b[1;32m      <a href='vscode-notebook-cell:/media/elfnor/BeastHoard/gits/eisenscript_to_xml/notebooks/05-lark-eisen.ipynb#ch0000006?line=5'>6</a>\u001b[0m \u001b[39m        y -> ty\u001b[39;00m\n\u001b[0;32m   (...)\u001b[0m\n\u001b[1;32m     <a href='vscode-notebook-cell:/media/elfnor/BeastHoard/gits/eisenscript_to_xml/notebooks/05-lark-eisen.ipynb#ch0000006?line=13'>14</a>\u001b[0m \u001b[39m    IGNORING multiple values for scale for now\u001b[39;00m\n\u001b[1;32m     <a href='vscode-notebook-cell:/media/elfnor/BeastHoard/gits/eisenscript_to_xml/notebooks/05-lark-eisen.ipynb#ch0000006?line=14'>15</a>\u001b[0m \u001b[39m    \"\"\"\u001b[39;00m\n\u001b[0;32m---> <a href='vscode-notebook-cell:/media/elfnor/BeastHoard/gits/eisenscript_to_xml/notebooks/05-lark-eisen.ipynb#ch0000006?line=15'>16</a>\u001b[0m     tid \u001b[39m=\u001b[39m s[\u001b[39m0\u001b[39;49m]\n\u001b[1;32m     <a href='vscode-notebook-cell:/media/elfnor/BeastHoard/gits/eisenscript_to_xml/notebooks/05-lark-eisen.ipynb#ch0000006?line=16'>17</a>\u001b[0m     tvalues \u001b[39m=\u001b[39m s[\u001b[39m1\u001b[39m]\n\u001b[1;32m     <a href='vscode-notebook-cell:/media/elfnor/BeastHoard/gits/eisenscript_to_xml/notebooks/05-lark-eisen.ipynb#ch0000006?line=18'>19</a>\u001b[0m     \u001b[39mif\u001b[39;00m tid \u001b[39min\u001b[39;00m (\u001b[39m\"\u001b[39m\u001b[39mx\u001b[39m\u001b[39m\"\u001b[39m, \u001b[39m\"\u001b[39m\u001b[39my\u001b[39m\u001b[39m\"\u001b[39m, \u001b[39m\"\u001b[39m\u001b[39mz\u001b[39m\u001b[39m\"\u001b[39m):\n",
      "\u001b[0;31mTypeError\u001b[0m: 'Tree' object is not subscriptable"
     ]
    }
   ],
   "source": [
    "Es2xml().visit(tree)"
   ]
  },
  {
   "cell_type": "code",
   "execution_count": 8,
   "metadata": {},
   "outputs": [
    {
     "name": "stdout",
     "output_type": "stream",
     "text": [
      "a\n",
      "  b\n",
      "  c\n",
      "  d\n",
      "\n"
     ]
    }
   ],
   "source": [
    "# from https://github.com/lark-parser/lark/blob/master/tests/test_trees.py\n",
    "from lark.tree import Tree\n",
    "t = Tree('a', [Tree('b', []), Tree('c', []), 'd'])\n",
    "print(t.pretty())"
   ]
  },
  {
   "cell_type": "code",
   "execution_count": 9,
   "metadata": {},
   "outputs": [],
   "source": [
    "class Interp1(Interpreter):\n",
    "    def a(self, tree):\n",
    "        return self.visit_children(tree) + ['e']\n",
    "\n",
    "    def b(self, tree):\n",
    "        return 'B'\n",
    "\n",
    "    def c(self, tree):\n",
    "        return 'C'"
   ]
  },
  {
   "cell_type": "code",
   "execution_count": 10,
   "metadata": {},
   "outputs": [
    {
     "data": {
      "text/plain": [
       "['B', 'C', 'd', 'e']"
      ]
     },
     "execution_count": 10,
     "metadata": {},
     "output_type": "execute_result"
    }
   ],
   "source": [
    "Interp1().visit(t)"
   ]
  },
  {
   "cell_type": "markdown",
   "metadata": {},
   "source": [
    "So in this test 'a' has children 'b', 'c' and 'd'  \n",
    "The method called for 'a' expressly calls  a visit on its children.  \n",
    "The order of the list returned needs thinking about.  \n",
    "'d' just gets added to the output because there is no explicit method for it, and its a terminal string\n"
   ]
  },
  {
   "cell_type": "code",
   "execution_count": 26,
   "metadata": {},
   "outputs": [],
   "source": [
    "t = Tree('a', [Tree('b', [Tree('bb', [])]), Tree('c', []), 'd'])"
   ]
  },
  {
   "cell_type": "code",
   "execution_count": 27,
   "metadata": {},
   "outputs": [
    {
     "name": "stdout",
     "output_type": "stream",
     "text": [
      "a\n",
      "  b\n",
      "    bb\n",
      "  c\n",
      "  d\n",
      "\n"
     ]
    }
   ],
   "source": [
    "print(t.pretty())"
   ]
  },
  {
   "cell_type": "code",
   "execution_count": 34,
   "metadata": {},
   "outputs": [],
   "source": [
    "class Interp2(Interpreter):\n",
    "    def a(self, tree):\n",
    "        return ['a root'] + self.visit_children(tree) + ['e root']\n",
    "\n",
    "    def b(self, tree):\n",
    "        return ['B child'] + self.visit_children(tree)\n",
    "\n",
    "    def c(self, tree):\n",
    "        return 'C child'\n",
    "\n",
    "    def bb(self, tree):\n",
    "        return 'BB grandchild'"
   ]
  },
  {
   "cell_type": "code",
   "execution_count": 35,
   "metadata": {},
   "outputs": [
    {
     "data": {
      "text/plain": [
       "['a root', ['B child', 'BB grandchild'], 'C child', 'd', 'e root']"
      ]
     },
     "execution_count": 35,
     "metadata": {},
     "output_type": "execute_result"
    }
   ],
   "source": [
    "Interp2().visit(t)"
   ]
  },
  {
   "cell_type": "code",
   "execution_count": 37,
   "metadata": {},
   "outputs": [
    {
     "data": {
      "text/plain": [
       "Tree('a', [Tree('b', [Tree('bb', [])]), Tree('c', []), 'd'])"
      ]
     },
     "execution_count": 37,
     "metadata": {},
     "output_type": "execute_result"
    }
   ],
   "source": [
    "t"
   ]
  },
  {
   "cell_type": "code",
   "execution_count": 36,
   "metadata": {},
   "outputs": [
    {
     "data": {
      "text/plain": [
       "Tree(Token('RULE', 'main'), [Tree(Token('RULE', 'global_md'), [Token('NUMBER', '2000')]), Tree(Token('RULE', 'entry'), [Tree(Token('RULE', 'call'), [Tree(Token('RULE', 'loop'), [Tree(Token('RULE', 'trans'), [Token('CID', 'a'), Token('VALUE', '0.9')]), Tree(Token('RULE', 'trans'), [Token('CID', 'hue'), Token('VALUE', '30')])]), Token('RULENAME', 'R1')])]), Tree(Token('RULE', 'ruledef'), [Token('RULENAME', 'R1'), Tree(Token('RULE', 'w_mod'), [Token('NUMBER', '10')]), Tree(Token('RULE', 'call'), [Tree(Token('RULE', 'loop'), [Tree(Token('RULE', 'trans'), [Token('TID', 'x'), Token('VALUE', '1')]), Tree(Token('RULE', 'trans'), [Token('TID', 'rz'), Token('VALUE', '3')]), Tree(Token('RULE', 'trans'), [Token('TID', 'ry'), Token('VALUE', '5')])]), Token('RULENAME', 'R1')])]), Tree(Token('RULE', 'ruledef'), [Token('RULENAME', 'R1'), Tree(Token('RULE', 'w_mod'), [Token('NUMBER', '10')]), Tree(Token('RULE', 'call'), [Tree(Token('RULE', 'loop'), [Tree(Token('RULE', 'trans'), [Token('TID', 'x'), Token('VALUE', '1')]), Tree(Token('RULE', 'trans'), [Token('TID', 'rz'), Token('VALUE', '-3')]), Tree(Token('RULE', 'trans'), [Token('TID', 'ry'), Token('VALUE', '5')])]), Token('RULENAME', 'R1')]), Tree(Token('RULE', 'call'), [Tree(Token('RULE', 'loop'), [Tree(Token('RULE', 'trans'), [Token('TID', 's'), Token('VALUE', '1'), Token('VALUE', '1'), Token('VALUE', '0.1')])]), Token('RULENAME', 'box')])])])"
      ]
     },
     "execution_count": 36,
     "metadata": {},
     "output_type": "execute_result"
    }
   ],
   "source": [
    "tree"
   ]
  },
  {
   "cell_type": "code",
   "execution_count": 20,
   "metadata": {},
   "outputs": [
    {
     "name": "stdout",
     "output_type": "stream",
     "text": [
      "main\n",
      "  global_md\t2000\n",
      "  entry\n",
      "    call\n",
      "      loop\n",
      "        trans\n",
      "          a\n",
      "          0.9\n",
      "        trans\n",
      "          hue\n",
      "          30\n",
      "      R1\n",
      "  ruledef\n",
      "    R1\n",
      "    w_mod\t10\n",
      "    call\n",
      "      loop\n",
      "        trans\n",
      "          x\n",
      "          1\n",
      "        trans\n",
      "          rz\n",
      "          3\n",
      "        trans\n",
      "          ry\n",
      "          5\n",
      "      R1\n",
      "  ruledef\n",
      "    R1\n",
      "    w_mod\t10\n",
      "    call\n",
      "      loop\n",
      "        trans\n",
      "          x\n",
      "          1\n",
      "        trans\n",
      "          rz\n",
      "          -3\n",
      "        trans\n",
      "          ry\n",
      "          5\n",
      "      R1\n",
      "    call\n",
      "      loop\n",
      "        trans\n",
      "          s\n",
      "          1\n",
      "          1\n",
      "          0.1\n",
      "      box\n",
      "\n"
     ]
    }
   ],
   "source": [
    "print(tree.pretty())"
   ]
  },
  {
   "cell_type": "markdown",
   "metadata": {},
   "source": [
    "In eisen tree structure I have nodes for\n",
    " - main\n",
    " - global_md\n",
    " - entry\n",
    " - call\n",
    " - loop\n",
    " - trans \n",
    " - w_mod\n",
    " - md_mod\n",
    "\n",
    " will need an Interpreter method for each which adds something to the xml tree  \n",
    " how do I get token values?\n",
    " look   @visit_children_decor"
   ]
  },
  {
   "cell_type": "code",
   "execution_count": 126,
   "metadata": {},
   "outputs": [],
   "source": [
    "# minimal example\n",
    "test = \"\"\" 2 * { x 1 y 2} seed\n",
    "{ rx 1 ry 2} seed\n",
    "rule seed  { \n",
    "  box \n",
    "}\n",
    "\"\"\""
   ]
  },
  {
   "cell_type": "code",
   "execution_count": 127,
   "metadata": {},
   "outputs": [
    {
     "data": {
      "text/plain": [
       "Tree(Token('RULE', 'main'), [Tree(Token('RULE', 'entry'), [Tree(Token('RULE', 'call'), [Tree(Token('RULE', 'loop'), [Tree(Token('RULE', 'count'), [Token('NUMBER', '2')]), Tree(Token('RULE', 'trans'), [Token('TID', 'x'), Token('VALUE', '1')]), Tree(Token('RULE', 'trans'), [Token('TID', 'y'), Token('VALUE', '2')])]), Token('RULENAME', 'seed')]), Tree(Token('RULE', 'call'), [Tree(Token('RULE', 'loop'), [Tree(Token('RULE', 'trans'), [Token('TID', 'rx'), Token('VALUE', '1')]), Tree(Token('RULE', 'trans'), [Token('TID', 'ry'), Token('VALUE', '2')])]), Token('RULENAME', 'seed')])]), Tree(Token('RULE', 'ruledef'), [Token('RULENAME', 'seed'), Tree(Token('RULE', 'call'), [Token('RULENAME', 'box')])])])"
      ]
     },
     "execution_count": 127,
     "metadata": {},
     "output_type": "execute_result"
    }
   ],
   "source": [
    "small = parser.parse(test)\n",
    "small"
   ]
  },
  {
   "cell_type": "code",
   "execution_count": 128,
   "metadata": {},
   "outputs": [
    {
     "name": "stdout",
     "output_type": "stream",
     "text": [
      "main\n",
      "  entry\n",
      "    call\n",
      "      loop\n",
      "        count\t2\n",
      "        trans\n",
      "          x\n",
      "          1\n",
      "        trans\n",
      "          y\n",
      "          2\n",
      "      seed\n",
      "    call\n",
      "      loop\n",
      "        trans\n",
      "          rx\n",
      "          1\n",
      "        trans\n",
      "          ry\n",
      "          2\n",
      "      seed\n",
      "  ruledef\n",
      "    seed\n",
      "    call\tbox\n",
      "\n"
     ]
    }
   ],
   "source": [
    "print(small.pretty())"
   ]
  },
  {
   "cell_type": "code",
   "execution_count": 129,
   "metadata": {},
   "outputs": [],
   "source": [
    "\n",
    "class Itest(Interpreter):\n",
    "    \n",
    "    def main(self, tree):\n",
    "        print('main')\n",
    "        \n",
    "        return ['begin main'] + self.visit_children(tree) + ['end main']\n",
    "\n",
    "    def entry(self, tree):\n",
    "        print('entry')\n",
    "        \n",
    "        return ['begin entry'] + self.visit_children(tree) + ['end entry']\n",
    "\n",
    "    def call(self, tree):\n",
    "        print('call')\n",
    "        print(tree)\n",
    "       \n",
    "        return ['begin call'] + self.visit_children(tree) + ['end call']\n",
    "        \n",
    "    @v_args(inline=True)\n",
    "    def trans(self, tid, value):\n",
    "        if tid in (\"x\", \"y\", \"z\"):\n",
    "            tid = \"t\" + tid\n",
    "        \n",
    "        if tid in ('tx', 'ty', 'tz', 'rx', 'ry', 'rz', 'sa', 's'):\n",
    "            tstr = tid + \" \" + value + \" \"\n",
    "        else:\n",
    "            tstr = None\n",
    "        print('   trans ', tstr)\n",
    "\n",
    "        return tstr\n",
    "    \n",
    "    def loop(self, tree):\n",
    "        print('loop')\n",
    "        \n",
    "        return ' '.join(self.visit_children(tree))\n",
    "\n",
    "    def ruledef(self, tree):\n",
    "        print('ruledef')\n",
    "        \n",
    "        return ['begin ruledef'] + self.visit_children(tree) + ['end ruledef']"
   ]
  },
  {
   "cell_type": "code",
   "execution_count": 130,
   "metadata": {},
   "outputs": [
    {
     "name": "stdout",
     "output_type": "stream",
     "text": [
      "main\n",
      "entry\n",
      "call\n",
      "Tree(Token('RULE', 'call'), [Tree(Token('RULE', 'loop'), [Tree(Token('RULE', 'count'), [Token('NUMBER', '2')]), Tree(Token('RULE', 'trans'), [Token('TID', 'x'), Token('VALUE', '1')]), Tree(Token('RULE', 'trans'), [Token('TID', 'y'), Token('VALUE', '2')])]), Token('RULENAME', 'seed')])\n",
      "loop\n",
      "   trans  tx 1 \n",
      "   trans  ty 2 \n"
     ]
    },
    {
     "ename": "TypeError",
     "evalue": "sequence item 0: expected str instance, list found",
     "output_type": "error",
     "traceback": [
      "\u001b[0;31m---------------------------------------------------------------------------\u001b[0m",
      "\u001b[0;31mTypeError\u001b[0m                                 Traceback (most recent call last)",
      "\u001b[1;32m/media/elfnor/BeastHoard/gits/eisenscript_to_xml/notebooks/05-lark-eisen.ipynb Cell 25'\u001b[0m in \u001b[0;36m<cell line: 1>\u001b[0;34m()\u001b[0m\n\u001b[0;32m----> <a href='vscode-notebook-cell:/media/elfnor/BeastHoard/gits/eisenscript_to_xml/notebooks/05-lark-eisen.ipynb#ch0000024?line=0'>1</a>\u001b[0m it \u001b[39m=\u001b[39m Itest()\u001b[39m.\u001b[39;49mvisit(small)\n",
      "File \u001b[0;32m~/.cache/pypoetry/virtualenvs/eisenscript-to-xml-kiBzd_1a-py3.9/lib/python3.9/site-packages/lark/visitors.py:411\u001b[0m, in \u001b[0;36mInterpreter.visit\u001b[0;34m(self, tree)\u001b[0m\n\u001b[1;32m    <a href='file:///home/elfnor/.cache/pypoetry/virtualenvs/eisenscript-to-xml-kiBzd_1a-py3.9/lib/python3.9/site-packages/lark/visitors.py?line=406'>407</a>\u001b[0m \u001b[39mdef\u001b[39;00m \u001b[39mvisit\u001b[39m(\u001b[39mself\u001b[39m, tree: Tree[_Leaf_T]) \u001b[39m-\u001b[39m\u001b[39m>\u001b[39m _Return_T:\n\u001b[1;32m    <a href='file:///home/elfnor/.cache/pypoetry/virtualenvs/eisenscript-to-xml-kiBzd_1a-py3.9/lib/python3.9/site-packages/lark/visitors.py?line=407'>408</a>\u001b[0m     \u001b[39m# There are no guarantees on the type of the value produced by calling a user func for a\u001b[39;00m\n\u001b[1;32m    <a href='file:///home/elfnor/.cache/pypoetry/virtualenvs/eisenscript-to-xml-kiBzd_1a-py3.9/lib/python3.9/site-packages/lark/visitors.py?line=408'>409</a>\u001b[0m     \u001b[39m# child will produce. So only annotate the public method and use an internal method when\u001b[39;00m\n\u001b[1;32m    <a href='file:///home/elfnor/.cache/pypoetry/virtualenvs/eisenscript-to-xml-kiBzd_1a-py3.9/lib/python3.9/site-packages/lark/visitors.py?line=409'>410</a>\u001b[0m     \u001b[39m# visiting child trees.\u001b[39;00m\n\u001b[0;32m--> <a href='file:///home/elfnor/.cache/pypoetry/virtualenvs/eisenscript-to-xml-kiBzd_1a-py3.9/lib/python3.9/site-packages/lark/visitors.py?line=410'>411</a>\u001b[0m     \u001b[39mreturn\u001b[39;00m \u001b[39mself\u001b[39;49m\u001b[39m.\u001b[39;49m_visit_tree(tree)\n",
      "File \u001b[0;32m~/.cache/pypoetry/virtualenvs/eisenscript-to-xml-kiBzd_1a-py3.9/lib/python3.9/site-packages/lark/visitors.py:419\u001b[0m, in \u001b[0;36mInterpreter._visit_tree\u001b[0;34m(self, tree)\u001b[0m\n\u001b[1;32m    <a href='file:///home/elfnor/.cache/pypoetry/virtualenvs/eisenscript-to-xml-kiBzd_1a-py3.9/lib/python3.9/site-packages/lark/visitors.py?line=416'>417</a>\u001b[0m     \u001b[39mreturn\u001b[39;00m f\u001b[39m.\u001b[39mvisit_wrapper(f, tree\u001b[39m.\u001b[39mdata, tree\u001b[39m.\u001b[39mchildren, tree\u001b[39m.\u001b[39mmeta)\n\u001b[1;32m    <a href='file:///home/elfnor/.cache/pypoetry/virtualenvs/eisenscript-to-xml-kiBzd_1a-py3.9/lib/python3.9/site-packages/lark/visitors.py?line=417'>418</a>\u001b[0m \u001b[39melse\u001b[39;00m:\n\u001b[0;32m--> <a href='file:///home/elfnor/.cache/pypoetry/virtualenvs/eisenscript-to-xml-kiBzd_1a-py3.9/lib/python3.9/site-packages/lark/visitors.py?line=418'>419</a>\u001b[0m     \u001b[39mreturn\u001b[39;00m f(tree)\n",
      "\u001b[1;32m/media/elfnor/BeastHoard/gits/eisenscript_to_xml/notebooks/05-lark-eisen.ipynb Cell 24'\u001b[0m in \u001b[0;36mItest.main\u001b[0;34m(self, tree)\u001b[0m\n\u001b[1;32m      <a href='vscode-notebook-cell:/media/elfnor/BeastHoard/gits/eisenscript_to_xml/notebooks/05-lark-eisen.ipynb#ch0000023?line=2'>3</a>\u001b[0m \u001b[39mdef\u001b[39;00m \u001b[39mmain\u001b[39m(\u001b[39mself\u001b[39m, tree):\n\u001b[1;32m      <a href='vscode-notebook-cell:/media/elfnor/BeastHoard/gits/eisenscript_to_xml/notebooks/05-lark-eisen.ipynb#ch0000023?line=3'>4</a>\u001b[0m     \u001b[39mprint\u001b[39m(\u001b[39m'\u001b[39m\u001b[39mmain\u001b[39m\u001b[39m'\u001b[39m)\n\u001b[0;32m----> <a href='vscode-notebook-cell:/media/elfnor/BeastHoard/gits/eisenscript_to_xml/notebooks/05-lark-eisen.ipynb#ch0000023?line=5'>6</a>\u001b[0m     \u001b[39mreturn\u001b[39;00m [\u001b[39m'\u001b[39m\u001b[39mbegin main\u001b[39m\u001b[39m'\u001b[39m] \u001b[39m+\u001b[39m \u001b[39mself\u001b[39;49m\u001b[39m.\u001b[39;49mvisit_children(tree) \u001b[39m+\u001b[39m [\u001b[39m'\u001b[39m\u001b[39mend main\u001b[39m\u001b[39m'\u001b[39m]\n",
      "File \u001b[0;32m~/.cache/pypoetry/virtualenvs/eisenscript-to-xml-kiBzd_1a-py3.9/lib/python3.9/site-packages/lark/visitors.py:422\u001b[0m, in \u001b[0;36mInterpreter.visit_children\u001b[0;34m(self, tree)\u001b[0m\n\u001b[1;32m    <a href='file:///home/elfnor/.cache/pypoetry/virtualenvs/eisenscript-to-xml-kiBzd_1a-py3.9/lib/python3.9/site-packages/lark/visitors.py?line=420'>421</a>\u001b[0m \u001b[39mdef\u001b[39;00m \u001b[39mvisit_children\u001b[39m(\u001b[39mself\u001b[39m, tree: Tree[_Leaf_T]) \u001b[39m-\u001b[39m\u001b[39m>\u001b[39m List:\n\u001b[0;32m--> <a href='file:///home/elfnor/.cache/pypoetry/virtualenvs/eisenscript-to-xml-kiBzd_1a-py3.9/lib/python3.9/site-packages/lark/visitors.py?line=421'>422</a>\u001b[0m     \u001b[39mreturn\u001b[39;00m [\u001b[39mself\u001b[39m\u001b[39m.\u001b[39m_visit_tree(child) \u001b[39mif\u001b[39;00m \u001b[39misinstance\u001b[39m(child, Tree) \u001b[39melse\u001b[39;00m child\n\u001b[1;32m    <a href='file:///home/elfnor/.cache/pypoetry/virtualenvs/eisenscript-to-xml-kiBzd_1a-py3.9/lib/python3.9/site-packages/lark/visitors.py?line=422'>423</a>\u001b[0m             \u001b[39mfor\u001b[39;00m child \u001b[39min\u001b[39;00m tree\u001b[39m.\u001b[39mchildren]\n",
      "File \u001b[0;32m~/.cache/pypoetry/virtualenvs/eisenscript-to-xml-kiBzd_1a-py3.9/lib/python3.9/site-packages/lark/visitors.py:422\u001b[0m, in \u001b[0;36m<listcomp>\u001b[0;34m(.0)\u001b[0m\n\u001b[1;32m    <a href='file:///home/elfnor/.cache/pypoetry/virtualenvs/eisenscript-to-xml-kiBzd_1a-py3.9/lib/python3.9/site-packages/lark/visitors.py?line=420'>421</a>\u001b[0m \u001b[39mdef\u001b[39;00m \u001b[39mvisit_children\u001b[39m(\u001b[39mself\u001b[39m, tree: Tree[_Leaf_T]) \u001b[39m-\u001b[39m\u001b[39m>\u001b[39m List:\n\u001b[0;32m--> <a href='file:///home/elfnor/.cache/pypoetry/virtualenvs/eisenscript-to-xml-kiBzd_1a-py3.9/lib/python3.9/site-packages/lark/visitors.py?line=421'>422</a>\u001b[0m     \u001b[39mreturn\u001b[39;00m [\u001b[39mself\u001b[39;49m\u001b[39m.\u001b[39;49m_visit_tree(child) \u001b[39mif\u001b[39;00m \u001b[39misinstance\u001b[39m(child, Tree) \u001b[39melse\u001b[39;00m child\n\u001b[1;32m    <a href='file:///home/elfnor/.cache/pypoetry/virtualenvs/eisenscript-to-xml-kiBzd_1a-py3.9/lib/python3.9/site-packages/lark/visitors.py?line=422'>423</a>\u001b[0m             \u001b[39mfor\u001b[39;00m child \u001b[39min\u001b[39;00m tree\u001b[39m.\u001b[39mchildren]\n",
      "File \u001b[0;32m~/.cache/pypoetry/virtualenvs/eisenscript-to-xml-kiBzd_1a-py3.9/lib/python3.9/site-packages/lark/visitors.py:419\u001b[0m, in \u001b[0;36mInterpreter._visit_tree\u001b[0;34m(self, tree)\u001b[0m\n\u001b[1;32m    <a href='file:///home/elfnor/.cache/pypoetry/virtualenvs/eisenscript-to-xml-kiBzd_1a-py3.9/lib/python3.9/site-packages/lark/visitors.py?line=416'>417</a>\u001b[0m     \u001b[39mreturn\u001b[39;00m f\u001b[39m.\u001b[39mvisit_wrapper(f, tree\u001b[39m.\u001b[39mdata, tree\u001b[39m.\u001b[39mchildren, tree\u001b[39m.\u001b[39mmeta)\n\u001b[1;32m    <a href='file:///home/elfnor/.cache/pypoetry/virtualenvs/eisenscript-to-xml-kiBzd_1a-py3.9/lib/python3.9/site-packages/lark/visitors.py?line=417'>418</a>\u001b[0m \u001b[39melse\u001b[39;00m:\n\u001b[0;32m--> <a href='file:///home/elfnor/.cache/pypoetry/virtualenvs/eisenscript-to-xml-kiBzd_1a-py3.9/lib/python3.9/site-packages/lark/visitors.py?line=418'>419</a>\u001b[0m     \u001b[39mreturn\u001b[39;00m f(tree)\n",
      "\u001b[1;32m/media/elfnor/BeastHoard/gits/eisenscript_to_xml/notebooks/05-lark-eisen.ipynb Cell 24'\u001b[0m in \u001b[0;36mItest.entry\u001b[0;34m(self, tree)\u001b[0m\n\u001b[1;32m      <a href='vscode-notebook-cell:/media/elfnor/BeastHoard/gits/eisenscript_to_xml/notebooks/05-lark-eisen.ipynb#ch0000023?line=7'>8</a>\u001b[0m \u001b[39mdef\u001b[39;00m \u001b[39mentry\u001b[39m(\u001b[39mself\u001b[39m, tree):\n\u001b[1;32m      <a href='vscode-notebook-cell:/media/elfnor/BeastHoard/gits/eisenscript_to_xml/notebooks/05-lark-eisen.ipynb#ch0000023?line=8'>9</a>\u001b[0m     \u001b[39mprint\u001b[39m(\u001b[39m'\u001b[39m\u001b[39mentry\u001b[39m\u001b[39m'\u001b[39m)\n\u001b[0;32m---> <a href='vscode-notebook-cell:/media/elfnor/BeastHoard/gits/eisenscript_to_xml/notebooks/05-lark-eisen.ipynb#ch0000023?line=10'>11</a>\u001b[0m     \u001b[39mreturn\u001b[39;00m [\u001b[39m'\u001b[39m\u001b[39mbegin entry\u001b[39m\u001b[39m'\u001b[39m] \u001b[39m+\u001b[39m \u001b[39mself\u001b[39;49m\u001b[39m.\u001b[39;49mvisit_children(tree) \u001b[39m+\u001b[39m [\u001b[39m'\u001b[39m\u001b[39mend entry\u001b[39m\u001b[39m'\u001b[39m]\n",
      "File \u001b[0;32m~/.cache/pypoetry/virtualenvs/eisenscript-to-xml-kiBzd_1a-py3.9/lib/python3.9/site-packages/lark/visitors.py:422\u001b[0m, in \u001b[0;36mInterpreter.visit_children\u001b[0;34m(self, tree)\u001b[0m\n\u001b[1;32m    <a href='file:///home/elfnor/.cache/pypoetry/virtualenvs/eisenscript-to-xml-kiBzd_1a-py3.9/lib/python3.9/site-packages/lark/visitors.py?line=420'>421</a>\u001b[0m \u001b[39mdef\u001b[39;00m \u001b[39mvisit_children\u001b[39m(\u001b[39mself\u001b[39m, tree: Tree[_Leaf_T]) \u001b[39m-\u001b[39m\u001b[39m>\u001b[39m List:\n\u001b[0;32m--> <a href='file:///home/elfnor/.cache/pypoetry/virtualenvs/eisenscript-to-xml-kiBzd_1a-py3.9/lib/python3.9/site-packages/lark/visitors.py?line=421'>422</a>\u001b[0m     \u001b[39mreturn\u001b[39;00m [\u001b[39mself\u001b[39m\u001b[39m.\u001b[39m_visit_tree(child) \u001b[39mif\u001b[39;00m \u001b[39misinstance\u001b[39m(child, Tree) \u001b[39melse\u001b[39;00m child\n\u001b[1;32m    <a href='file:///home/elfnor/.cache/pypoetry/virtualenvs/eisenscript-to-xml-kiBzd_1a-py3.9/lib/python3.9/site-packages/lark/visitors.py?line=422'>423</a>\u001b[0m             \u001b[39mfor\u001b[39;00m child \u001b[39min\u001b[39;00m tree\u001b[39m.\u001b[39mchildren]\n",
      "File \u001b[0;32m~/.cache/pypoetry/virtualenvs/eisenscript-to-xml-kiBzd_1a-py3.9/lib/python3.9/site-packages/lark/visitors.py:422\u001b[0m, in \u001b[0;36m<listcomp>\u001b[0;34m(.0)\u001b[0m\n\u001b[1;32m    <a href='file:///home/elfnor/.cache/pypoetry/virtualenvs/eisenscript-to-xml-kiBzd_1a-py3.9/lib/python3.9/site-packages/lark/visitors.py?line=420'>421</a>\u001b[0m \u001b[39mdef\u001b[39;00m \u001b[39mvisit_children\u001b[39m(\u001b[39mself\u001b[39m, tree: Tree[_Leaf_T]) \u001b[39m-\u001b[39m\u001b[39m>\u001b[39m List:\n\u001b[0;32m--> <a href='file:///home/elfnor/.cache/pypoetry/virtualenvs/eisenscript-to-xml-kiBzd_1a-py3.9/lib/python3.9/site-packages/lark/visitors.py?line=421'>422</a>\u001b[0m     \u001b[39mreturn\u001b[39;00m [\u001b[39mself\u001b[39;49m\u001b[39m.\u001b[39;49m_visit_tree(child) \u001b[39mif\u001b[39;00m \u001b[39misinstance\u001b[39m(child, Tree) \u001b[39melse\u001b[39;00m child\n\u001b[1;32m    <a href='file:///home/elfnor/.cache/pypoetry/virtualenvs/eisenscript-to-xml-kiBzd_1a-py3.9/lib/python3.9/site-packages/lark/visitors.py?line=422'>423</a>\u001b[0m             \u001b[39mfor\u001b[39;00m child \u001b[39min\u001b[39;00m tree\u001b[39m.\u001b[39mchildren]\n",
      "File \u001b[0;32m~/.cache/pypoetry/virtualenvs/eisenscript-to-xml-kiBzd_1a-py3.9/lib/python3.9/site-packages/lark/visitors.py:419\u001b[0m, in \u001b[0;36mInterpreter._visit_tree\u001b[0;34m(self, tree)\u001b[0m\n\u001b[1;32m    <a href='file:///home/elfnor/.cache/pypoetry/virtualenvs/eisenscript-to-xml-kiBzd_1a-py3.9/lib/python3.9/site-packages/lark/visitors.py?line=416'>417</a>\u001b[0m     \u001b[39mreturn\u001b[39;00m f\u001b[39m.\u001b[39mvisit_wrapper(f, tree\u001b[39m.\u001b[39mdata, tree\u001b[39m.\u001b[39mchildren, tree\u001b[39m.\u001b[39mmeta)\n\u001b[1;32m    <a href='file:///home/elfnor/.cache/pypoetry/virtualenvs/eisenscript-to-xml-kiBzd_1a-py3.9/lib/python3.9/site-packages/lark/visitors.py?line=417'>418</a>\u001b[0m \u001b[39melse\u001b[39;00m:\n\u001b[0;32m--> <a href='file:///home/elfnor/.cache/pypoetry/virtualenvs/eisenscript-to-xml-kiBzd_1a-py3.9/lib/python3.9/site-packages/lark/visitors.py?line=418'>419</a>\u001b[0m     \u001b[39mreturn\u001b[39;00m f(tree)\n",
      "\u001b[1;32m/media/elfnor/BeastHoard/gits/eisenscript_to_xml/notebooks/05-lark-eisen.ipynb Cell 24'\u001b[0m in \u001b[0;36mItest.call\u001b[0;34m(self, tree)\u001b[0m\n\u001b[1;32m     <a href='vscode-notebook-cell:/media/elfnor/BeastHoard/gits/eisenscript_to_xml/notebooks/05-lark-eisen.ipynb#ch0000023?line=13'>14</a>\u001b[0m \u001b[39mprint\u001b[39m(\u001b[39m'\u001b[39m\u001b[39mcall\u001b[39m\u001b[39m'\u001b[39m)\n\u001b[1;32m     <a href='vscode-notebook-cell:/media/elfnor/BeastHoard/gits/eisenscript_to_xml/notebooks/05-lark-eisen.ipynb#ch0000023?line=14'>15</a>\u001b[0m \u001b[39mprint\u001b[39m(tree)\n\u001b[0;32m---> <a href='vscode-notebook-cell:/media/elfnor/BeastHoard/gits/eisenscript_to_xml/notebooks/05-lark-eisen.ipynb#ch0000023?line=16'>17</a>\u001b[0m \u001b[39mreturn\u001b[39;00m [\u001b[39m'\u001b[39m\u001b[39mbegin call\u001b[39m\u001b[39m'\u001b[39m] \u001b[39m+\u001b[39m \u001b[39mself\u001b[39;49m\u001b[39m.\u001b[39;49mvisit_children(tree) \u001b[39m+\u001b[39m [\u001b[39m'\u001b[39m\u001b[39mend call\u001b[39m\u001b[39m'\u001b[39m]\n",
      "File \u001b[0;32m~/.cache/pypoetry/virtualenvs/eisenscript-to-xml-kiBzd_1a-py3.9/lib/python3.9/site-packages/lark/visitors.py:422\u001b[0m, in \u001b[0;36mInterpreter.visit_children\u001b[0;34m(self, tree)\u001b[0m\n\u001b[1;32m    <a href='file:///home/elfnor/.cache/pypoetry/virtualenvs/eisenscript-to-xml-kiBzd_1a-py3.9/lib/python3.9/site-packages/lark/visitors.py?line=420'>421</a>\u001b[0m \u001b[39mdef\u001b[39;00m \u001b[39mvisit_children\u001b[39m(\u001b[39mself\u001b[39m, tree: Tree[_Leaf_T]) \u001b[39m-\u001b[39m\u001b[39m>\u001b[39m List:\n\u001b[0;32m--> <a href='file:///home/elfnor/.cache/pypoetry/virtualenvs/eisenscript-to-xml-kiBzd_1a-py3.9/lib/python3.9/site-packages/lark/visitors.py?line=421'>422</a>\u001b[0m     \u001b[39mreturn\u001b[39;00m [\u001b[39mself\u001b[39m\u001b[39m.\u001b[39m_visit_tree(child) \u001b[39mif\u001b[39;00m \u001b[39misinstance\u001b[39m(child, Tree) \u001b[39melse\u001b[39;00m child\n\u001b[1;32m    <a href='file:///home/elfnor/.cache/pypoetry/virtualenvs/eisenscript-to-xml-kiBzd_1a-py3.9/lib/python3.9/site-packages/lark/visitors.py?line=422'>423</a>\u001b[0m             \u001b[39mfor\u001b[39;00m child \u001b[39min\u001b[39;00m tree\u001b[39m.\u001b[39mchildren]\n",
      "File \u001b[0;32m~/.cache/pypoetry/virtualenvs/eisenscript-to-xml-kiBzd_1a-py3.9/lib/python3.9/site-packages/lark/visitors.py:422\u001b[0m, in \u001b[0;36m<listcomp>\u001b[0;34m(.0)\u001b[0m\n\u001b[1;32m    <a href='file:///home/elfnor/.cache/pypoetry/virtualenvs/eisenscript-to-xml-kiBzd_1a-py3.9/lib/python3.9/site-packages/lark/visitors.py?line=420'>421</a>\u001b[0m \u001b[39mdef\u001b[39;00m \u001b[39mvisit_children\u001b[39m(\u001b[39mself\u001b[39m, tree: Tree[_Leaf_T]) \u001b[39m-\u001b[39m\u001b[39m>\u001b[39m List:\n\u001b[0;32m--> <a href='file:///home/elfnor/.cache/pypoetry/virtualenvs/eisenscript-to-xml-kiBzd_1a-py3.9/lib/python3.9/site-packages/lark/visitors.py?line=421'>422</a>\u001b[0m     \u001b[39mreturn\u001b[39;00m [\u001b[39mself\u001b[39;49m\u001b[39m.\u001b[39;49m_visit_tree(child) \u001b[39mif\u001b[39;00m \u001b[39misinstance\u001b[39m(child, Tree) \u001b[39melse\u001b[39;00m child\n\u001b[1;32m    <a href='file:///home/elfnor/.cache/pypoetry/virtualenvs/eisenscript-to-xml-kiBzd_1a-py3.9/lib/python3.9/site-packages/lark/visitors.py?line=422'>423</a>\u001b[0m             \u001b[39mfor\u001b[39;00m child \u001b[39min\u001b[39;00m tree\u001b[39m.\u001b[39mchildren]\n",
      "File \u001b[0;32m~/.cache/pypoetry/virtualenvs/eisenscript-to-xml-kiBzd_1a-py3.9/lib/python3.9/site-packages/lark/visitors.py:419\u001b[0m, in \u001b[0;36mInterpreter._visit_tree\u001b[0;34m(self, tree)\u001b[0m\n\u001b[1;32m    <a href='file:///home/elfnor/.cache/pypoetry/virtualenvs/eisenscript-to-xml-kiBzd_1a-py3.9/lib/python3.9/site-packages/lark/visitors.py?line=416'>417</a>\u001b[0m     \u001b[39mreturn\u001b[39;00m f\u001b[39m.\u001b[39mvisit_wrapper(f, tree\u001b[39m.\u001b[39mdata, tree\u001b[39m.\u001b[39mchildren, tree\u001b[39m.\u001b[39mmeta)\n\u001b[1;32m    <a href='file:///home/elfnor/.cache/pypoetry/virtualenvs/eisenscript-to-xml-kiBzd_1a-py3.9/lib/python3.9/site-packages/lark/visitors.py?line=417'>418</a>\u001b[0m \u001b[39melse\u001b[39;00m:\n\u001b[0;32m--> <a href='file:///home/elfnor/.cache/pypoetry/virtualenvs/eisenscript-to-xml-kiBzd_1a-py3.9/lib/python3.9/site-packages/lark/visitors.py?line=418'>419</a>\u001b[0m     \u001b[39mreturn\u001b[39;00m f(tree)\n",
      "\u001b[1;32m/media/elfnor/BeastHoard/gits/eisenscript_to_xml/notebooks/05-lark-eisen.ipynb Cell 24'\u001b[0m in \u001b[0;36mItest.loop\u001b[0;34m(self, tree)\u001b[0m\n\u001b[1;32m     <a href='vscode-notebook-cell:/media/elfnor/BeastHoard/gits/eisenscript_to_xml/notebooks/05-lark-eisen.ipynb#ch0000023?line=31'>32</a>\u001b[0m \u001b[39mdef\u001b[39;00m \u001b[39mloop\u001b[39m(\u001b[39mself\u001b[39m, tree):\n\u001b[1;32m     <a href='vscode-notebook-cell:/media/elfnor/BeastHoard/gits/eisenscript_to_xml/notebooks/05-lark-eisen.ipynb#ch0000023?line=32'>33</a>\u001b[0m     \u001b[39mprint\u001b[39m(\u001b[39m'\u001b[39m\u001b[39mloop\u001b[39m\u001b[39m'\u001b[39m)\n\u001b[0;32m---> <a href='vscode-notebook-cell:/media/elfnor/BeastHoard/gits/eisenscript_to_xml/notebooks/05-lark-eisen.ipynb#ch0000023?line=34'>35</a>\u001b[0m     \u001b[39mreturn\u001b[39;00m \u001b[39m'\u001b[39;49m\u001b[39m \u001b[39;49m\u001b[39m'\u001b[39;49m\u001b[39m.\u001b[39;49mjoin(\u001b[39mself\u001b[39;49m\u001b[39m.\u001b[39;49mvisit_children(tree))\n",
      "\u001b[0;31mTypeError\u001b[0m: sequence item 0: expected str instance, list found"
     ]
    }
   ],
   "source": [
    " it = Itest().visit(small)"
   ]
  },
  {
   "cell_type": "code",
   "execution_count": 119,
   "metadata": {},
   "outputs": [
    {
     "data": {
      "text/plain": [
       "['begin main',\n",
       " ['begin entry',\n",
       "  ['begin call', 'tx 1  ty 2 ', Token('RULENAME', 'seed'), 'end call'],\n",
       "  ['begin call', 'rx 1  ry 2 ', Token('RULENAME', 'seed'), 'end call'],\n",
       "  'end entry'],\n",
       " ['begin ruledef',\n",
       "  Token('RULENAME', 'seed'),\n",
       "  ['begin call', Token('RULENAME', 'box'), 'end call'],\n",
       "  'end ruledef'],\n",
       " 'end main']"
      ]
     },
     "execution_count": 119,
     "metadata": {},
     "output_type": "execute_result"
    }
   ],
   "source": [
    "it"
   ]
  },
  {
   "cell_type": "code",
   "execution_count": null,
   "metadata": {},
   "outputs": [],
   "source": []
  }
 ],
 "metadata": {
  "interpreter": {
   "hash": "1e1bbae3ba3d2e4c66a80b70820b105edcd72f39a4efc614088476d9a3b19e8d"
  },
  "kernelspec": {
   "display_name": "Python 3.8.10 ('eisenscript-to-xml-kiBzd_1a-py3.8')",
   "language": "python",
   "name": "python3"
  },
  "language_info": {
   "codemirror_mode": {
    "name": "ipython",
    "version": 3
   },
   "file_extension": ".py",
   "mimetype": "text/x-python",
   "name": "python",
   "nbconvert_exporter": "python",
   "pygments_lexer": "ipython3",
   "version": "3.9.5"
  },
  "orig_nbformat": 4
 },
 "nbformat": 4,
 "nbformat_minor": 2
}
