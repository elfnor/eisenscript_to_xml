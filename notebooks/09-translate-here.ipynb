{
 "cells": [
  {
   "cell_type": "code",
   "execution_count": 2,
   "metadata": {},
   "outputs": [],
   "source": [
    "from pathlib import Path\n",
    "\n",
    "from xml.etree import ElementTree as et\n",
    "from eisenscript_to_xml.lark_inter import Iesxml, parser, pre_process_es\n",
    "from eisenscript_to_xml import EXAMPLES_ES, EXAMPLES_IMG, EXAMPLES_XML"
   ]
  },
  {
   "cell_type": "code",
   "execution_count": 5,
   "metadata": {},
   "outputs": [],
   "source": [
    "to_xml = [\n",
    "    \"Ball.es\",\n",
    "    \"BinaryKite.es\",\n",
    "    \"City of Glass.es\",\n",
    "    \"Default.es\",\n",
    "    \"Frame In Frame.es\",\n",
    "    \"Grinder.es\",\n",
    "    \"Konstrukt.es\",\n",
    "    \"Menger.es\",\n",
    "    \"Moduli Creatures.es\",\n",
    "    \"Mondrian.es\",\n",
    "    \"Nabla.es\",\n",
    "    \"NineWorthies.es\",\n",
    "    \"Nouveau.es\",\n",
    "    \"Nouveau2.es\",\n",
    "    \"Nouveau3.es\",\n",
    "    \"Octopod II.es\",\n",
    "    \"Reflection.es\",\n",
    "    \"RoundTree.es\",\n",
    "    \"SpiralTree2D.es\",\n",
    "    \"Synctor.es\",\n",
    "    \"Thingy.es\",\n",
    "    \"Torus2.es\",\n",
    "    \"Torus3.es\",\n",
    "]\n"
   ]
  },
  {
   "cell_type": "code",
   "execution_count": 12,
   "metadata": {},
   "outputs": [],
   "source": [
    "for fn in to_xml:\n",
    "    with (EXAMPLES_ES / fn).open() as f:\n",
    "        es_str = f.read()\n",
    "    es_str = pre_process_es(es_str)\n",
    "    test = parser.parse(es_str)\n",
    "    xml_str = Iesxml().convert(test)\n",
    "    with (EXAMPLES_XML / fn).with_suffix('.xml').open('w') as f:\n",
    "        f.write(xml_str)\n",
    "    "
   ]
  },
  {
   "cell_type": "code",
   "execution_count": 24,
   "metadata": {},
   "outputs": [],
   "source": [
    "str1=\"\"\"5 * { ry 72  z 1.0   }   2 *  { z 1.0   } xbox\n",
    "\n",
    "rule xbox {\n",
    "    box\n",
    "}\"\"\""
   ]
  },
  {
   "cell_type": "code",
   "execution_count": 25,
   "metadata": {},
   "outputs": [
    {
     "name": "stdout",
     "output_type": "stream",
     "text": [
      "<?xml version=\"1.0\" ?>\n",
      "<rules max_depth=\"100\">\n",
      "  <rule name=\"entry\">\n",
      "    <call rule=\"xbox_00\" count=\"5\" transforms=\"ry 72 tz 1.0\"/>\n",
      "  </rule>\n",
      "  <rule name=\"xbox_00\">\n",
      "    <call rule=\"xbox_01\" count=\"1\" transforms=\"2\"/>\n",
      "  </rule>\n",
      "  <rule name=\"xbox_01\">\n",
      "    <call rule=\"xbox\" count=\"1\" transforms=\"tz 1.0\"/>\n",
      "  </rule>\n",
      "  <rule name=\"xbox\">\n",
      "    <instance shape=\"box\" count=\"1\" transforms=\"\"/>\n",
      "  </rule>\n",
      "</rules>\n",
      "\n"
     ]
    }
   ],
   "source": [
    "es_str = pre_process_es(str1)\n",
    "test = parser.parse(es_str)\n",
    "xml_str = Iesxml().convert(test)\n",
    "print(xml_str)"
   ]
  }
 ],
 "metadata": {
  "interpreter": {
   "hash": "24ab9ebbf2cd930873385d6b22c6d802942b7e309b1c419f7424e6afecce521a"
  },
  "kernelspec": {
   "display_name": "Python 3.9.5 ('eisenscript-to-xml-kiBzd_1a-py3.9')",
   "language": "python",
   "name": "python3"
  },
  "language_info": {
   "codemirror_mode": {
    "name": "ipython",
    "version": 3
   },
   "file_extension": ".py",
   "mimetype": "text/x-python",
   "name": "python",
   "nbconvert_exporter": "python",
   "pygments_lexer": "ipython3",
   "version": "3.9.5"
  },
  "orig_nbformat": 4
 },
 "nbformat": 4,
 "nbformat_minor": 2
}
