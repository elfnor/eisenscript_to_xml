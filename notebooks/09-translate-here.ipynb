{
 "cells": [
  {
   "cell_type": "code",
   "execution_count": 3,
   "metadata": {},
   "outputs": [],
   "source": [
    "from pathlib import Path\n",
    "\n",
    "from xml.etree import ElementTree as et\n",
    "from eisenscript_to_xml.lark_inter import Iesxml, parser, pre_process_es\n"
   ]
  },
  {
   "cell_type": "code",
   "execution_count": 4,
   "metadata": {},
   "outputs": [],
   "source": [
    "fn = Path(\"/media/elfnor/BeastHoard/gits/eisenscript_to_xml/tests/data/Examples/Default.es\")\n"
   ]
  },
  {
   "cell_type": "code",
   "execution_count": 5,
   "metadata": {},
   "outputs": [
    {
     "name": "stdout",
     "output_type": "stream",
     "text": [
      "<?xml version=\"1.0\" ?>\n",
      "<rules max_depth=\"400\">\n",
      "  <rule name=\"entry\">\n",
      "    <call rule=\"r0\" count=\"1\" transforms=\"\"/>\n",
      "  </rule>\n",
      "  <rule name=\"r0\">\n",
      "    <call rule=\"R1\" count=\"3\" transforms=\"rz 120\"/>\n",
      "    <call rule=\"R2\" count=\"3\" transforms=\"rz 120\"/>\n",
      "  </rule>\n",
      "  <rule name=\"R1\">\n",
      "    <call rule=\"R1\" count=\"1\" transforms=\"tx 1.3 rx 1.57 rz 6 ry 3 sa 0.99\"/>\n",
      "    <instance shape=\"sphere\" count=\"1\" transforms=\"sa 4\"/>\n",
      "  </rule>\n",
      "  <rule name=\"R2\">\n",
      "    <call rule=\"R2\" count=\"1\" transforms=\"tx -1.3 rz 6 ry 3 sa 0.99\"/>\n",
      "    <instance shape=\"sphere\" count=\"1\" transforms=\"sa 4\"/>\n",
      "  </rule>\n",
      "</rules>\n",
      "\n"
     ]
    }
   ],
   "source": [
    "with fn.open() as f:\n",
    "    es_str = f.read()\n",
    "es_str = pre_process_es(es_str)\n",
    "test = parser.parse(es_str)\n",
    "xml_str = Iesxml().convert(test)\n",
    "print(xml_str)"
   ]
  }
 ],
 "metadata": {
  "interpreter": {
   "hash": "24ab9ebbf2cd930873385d6b22c6d802942b7e309b1c419f7424e6afecce521a"
  },
  "kernelspec": {
   "display_name": "Python 3.9.5 ('eisenscript-to-xml-kiBzd_1a-py3.9')",
   "language": "python",
   "name": "python3"
  },
  "language_info": {
   "codemirror_mode": {
    "name": "ipython",
    "version": 3
   },
   "file_extension": ".py",
   "mimetype": "text/x-python",
   "name": "python",
   "nbconvert_exporter": "python",
   "pygments_lexer": "ipython3",
   "version": "3.9.5"
  },
  "orig_nbformat": 4
 },
 "nbformat": 4,
 "nbformat_minor": 2
}
