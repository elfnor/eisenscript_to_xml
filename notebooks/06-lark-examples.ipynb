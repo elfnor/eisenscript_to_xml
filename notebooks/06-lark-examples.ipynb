{
 "cells": [
  {
   "cell_type": "markdown",
   "metadata": {},
   "source": [
    "# Interpreter example from tests\n"
   ]
  },
  {
   "cell_type": "code",
   "execution_count": 10,
   "metadata": {},
   "outputs": [],
   "source": [
    "from pathlib import Path\n",
    "from lark import Lark, Tree\n",
    "from lark.visitors import Interpreter, Transformer, v_args"
   ]
  },
  {
   "cell_type": "code",
   "execution_count": 11,
   "metadata": {},
   "outputs": [],
   "source": [
    "t = Tree('a', [Tree('b', []), Tree('c', []), 'd'])\n",
    "\n",
    "class Interp1(Interpreter):\n",
    "    def a(self, tree):\n",
    "        return self.visit_children(tree) + ['e']\n",
    "\n",
    "    def b(self, tree):\n",
    "        return 'B'\n",
    "\n",
    "    def c(self, tree):\n",
    "        return 'C'"
   ]
  },
  {
   "cell_type": "code",
   "execution_count": 12,
   "metadata": {},
   "outputs": [
    {
     "name": "stdout",
     "output_type": "stream",
     "text": [
      "a\n",
      "  b\n",
      "  c\n",
      "  d\n",
      "\n"
     ]
    }
   ],
   "source": [
    "print(t.pretty())"
   ]
  },
  {
   "cell_type": "code",
   "execution_count": 13,
   "metadata": {},
   "outputs": [
    {
     "data": {
      "text/plain": [
       "['B', 'C', 'd', 'e']"
      ]
     },
     "execution_count": 13,
     "metadata": {},
     "output_type": "execute_result"
    }
   ],
   "source": [
    "Interp1().visit(t)"
   ]
  },
  {
   "cell_type": "code",
   "execution_count": 14,
   "metadata": {},
   "outputs": [],
   "source": [
    "# can I make xml?\n",
    "\n",
    "from xml.etree import ElementTree as et"
   ]
  },
  {
   "cell_type": "code",
   "execution_count": 15,
   "metadata": {},
   "outputs": [],
   "source": [
    "class Interpxml(Interpreter):\n",
    "        \n",
    "    def a(self, tree):\n",
    "        self.top = et.Element('a')\n",
    "        for child in self.visit_children(tree):\n",
    "            c = et.SubElement(self.top, child)\n",
    "        return  self.top\n",
    "\n",
    "    def b(self, tree):\n",
    "        return 'B'\n",
    "\n",
    "    def c(self, tree):\n",
    "        return 'C'"
   ]
  },
  {
   "cell_type": "code",
   "execution_count": 16,
   "metadata": {},
   "outputs": [],
   "source": [
    "xml = Interpxml().visit(t)"
   ]
  },
  {
   "cell_type": "code",
   "execution_count": 17,
   "metadata": {},
   "outputs": [],
   "source": [
    "from xml.dom import minidom\n",
    "\n",
    "def prettify(elem):\n",
    "    \"\"\"Return a pretty-printed XML string for the Element.\"\"\"\n",
    "    rough_string = et.tostring(elem, \"utf-8\")\n",
    "    reparsed = minidom.parseString(rough_string)\n",
    "    return reparsed.toprettyxml(indent=\"  \")"
   ]
  },
  {
   "cell_type": "code",
   "execution_count": 18,
   "metadata": {},
   "outputs": [
    {
     "name": "stdout",
     "output_type": "stream",
     "text": [
      "<?xml version=\"1.0\" ?>\n",
      "<a>\n",
      "  <B/>\n",
      "  <C/>\n",
      "  <d/>\n",
      "</a>\n",
      "\n"
     ]
    }
   ],
   "source": [
    "print(prettify(xml))"
   ]
  },
  {
   "cell_type": "code",
   "execution_count": 19,
   "metadata": {},
   "outputs": [
    {
     "data": {
      "text/plain": [
       "Tree(Token('RULE', 'start'), [Tree(Token('RULE', 'greet'), [Token('WORD', 'hello')])])"
      ]
     },
     "execution_count": 19,
     "metadata": {},
     "output_type": "execute_result"
    }
   ],
   "source": [
    "g = Lark(\"\"\" start: \"(\" greet \")\"\n",
    "    greet: WORD\n",
    "    %import common.WORD\n",
    "    \"\"\")\n",
    "\n",
    "g.parse(\"(hello)\")"
   ]
  },
  {
   "cell_type": "markdown",
   "metadata": {},
   "source": [
    "with `_greet`  \n",
    "Tree(Token('RULE', 'start'), [Token('WORD', 'hello')])\n",
    "\n",
    "with `greet`  \n",
    "Tree(Token('RULE', 'start'), [Tree(Token('RULE', 'greet'), [Token('WORD', 'hello')])])"
   ]
  }
 ],
 "metadata": {
  "interpreter": {
   "hash": "1e1bbae3ba3d2e4c66a80b70820b105edcd72f39a4efc614088476d9a3b19e8d"
  },
  "kernelspec": {
   "display_name": "Python 3.8.10 ('eisenscript-to-xml-kiBzd_1a-py3.8')",
   "language": "python",
   "name": "python3"
  },
  "language_info": {
   "codemirror_mode": {
    "name": "ipython",
    "version": 3
   },
   "file_extension": ".py",
   "mimetype": "text/x-python",
   "name": "python",
   "nbconvert_exporter": "python",
   "pygments_lexer": "ipython3",
   "version": "3.9.5"
  },
  "orig_nbformat": 4
 },
 "nbformat": 4,
 "nbformat_minor": 2
}
