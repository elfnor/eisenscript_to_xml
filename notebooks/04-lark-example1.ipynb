{
 "cells": [
  {
   "cell_type": "code",
   "execution_count": 1,
   "metadata": {},
   "outputs": [],
   "source": [
    "import lark"
   ]
  },
  {
   "cell_type": "code",
   "execution_count": 39,
   "metadata": {},
   "outputs": [],
   "source": [
    "t = \"aliceblue|antiquewhite|aqua|aquamarine|azure|beige|bisque|black|blanchedalmond|blue|blueviolet|brown|burlywood|cadetblue|chartreuse|chocolate|coral|cornflowerblue|cornsilk|crimson|cyan|darkblue|darkcyan|darkgoldenrod|darkgray|darkgrey|darkgreen|darkkhaki|darkmagenta|darkolivegreen|darkorange|darkorchid|darkred|darksalmon|darkseagreen|darkslateblue|darkslategray|darkslategrey|darkturquoise|darkviolet|deeppink|deepskyblue|dimgray|dimgrey|dodgerblue|firebrick|floralwhite|forestgreen|fuchsia|gainsboro|ghostwhite|gold|goldenrod|gray|grey|green|greenyellow|honeydew|hotpink|indianred|indigo|ivory|khaki|lavender|lavenderblush|lawngreen|lemonchiffon|lightblue|lightcoral|lightcyan|lightgoldenrodyellow|lightgray|lightgrey|lightgreen|lightpink|lightsalmon|lightseagreen|lightskyblue|lightslategray|lightslategrey|lightsteelblue|lightyellow|lime|limegreen|linen|magenta|maroon|mediumaquamarine|mediumblue|mediumorchid|mediumpurple|mediumseagreen|mediumslateblue|mediumspringgreen|mediumturquoise|mediumvioletred|midnightblue|mintcream|mistyrose|moccasin|navajowhite|navy|oldlace|olive|olivedrab|orange|orangered|orchid|palegoldenrod|palegreen|paleturquoise|palevioletred|papayawhip|peachpuff|peru|pink|plum|powderblue|purple|rebeccapurple|red|rosybrown|royalblue|saddlebrown|salmon|sandybrown|seagreen|seashell|sienna|silver|skyblue|slateblue|slategray|slategrey|snow|springgreen|steelblue|tan|teal|thistle|tomato|turquoise|violet|wheat|white|whitesmoke|yellow|yellowgreen\""
   ]
  },
  {
   "cell_type": "code",
   "execution_count": 40,
   "metadata": {},
   "outputs": [],
   "source": [
    "t = t.split('|')"
   ]
  },
  {
   "cell_type": "code",
   "execution_count": 41,
   "metadata": {},
   "outputs": [],
   "source": [
    "t2 = '\"' + '\"\\n | \"'.join(t) +'\"'"
   ]
  },
  {
   "cell_type": "code",
   "execution_count": 42,
   "metadata": {},
   "outputs": [
    {
     "name": "stdout",
     "output_type": "stream",
     "text": [
      "\"aliceblue\"\n",
      " | \"antiquewhite\"\n",
      " | \"aqua\"\n",
      " | \"aquamarine\"\n",
      " | \"azure\"\n",
      " | \"beige\"\n",
      " | \"bisque\"\n",
      " | \"black\"\n",
      " | \"blanchedalmond\"\n",
      " | \"blue\"\n",
      " | \"blueviolet\"\n",
      " | \"brown\"\n",
      " | \"burlywood\"\n",
      " | \"cadetblue\"\n",
      " | \"chartreuse\"\n",
      " | \"chocolate\"\n",
      " | \"coral\"\n",
      " | \"cornflowerblue\"\n",
      " | \"cornsilk\"\n",
      " | \"crimson\"\n",
      " | \"cyan\"\n",
      " | \"darkblue\"\n",
      " | \"darkcyan\"\n",
      " | \"darkgoldenrod\"\n",
      " | \"darkgray\"\n",
      " | \"darkgrey\"\n",
      " | \"darkgreen\"\n",
      " | \"darkkhaki\"\n",
      " | \"darkmagenta\"\n",
      " | \"darkolivegreen\"\n",
      " | \"darkorange\"\n",
      " | \"darkorchid\"\n",
      " | \"darkred\"\n",
      " | \"darksalmon\"\n",
      " | \"darkseagreen\"\n",
      " | \"darkslateblue\"\n",
      " | \"darkslategray\"\n",
      " | \"darkslategrey\"\n",
      " | \"darkturquoise\"\n",
      " | \"darkviolet\"\n",
      " | \"deeppink\"\n",
      " | \"deepskyblue\"\n",
      " | \"dimgray\"\n",
      " | \"dimgrey\"\n",
      " | \"dodgerblue\"\n",
      " | \"firebrick\"\n",
      " | \"floralwhite\"\n",
      " | \"forestgreen\"\n",
      " | \"fuchsia\"\n",
      " | \"gainsboro\"\n",
      " | \"ghostwhite\"\n",
      " | \"gold\"\n",
      " | \"goldenrod\"\n",
      " | \"gray\"\n",
      " | \"grey\"\n",
      " | \"green\"\n",
      " | \"greenyellow\"\n",
      " | \"honeydew\"\n",
      " | \"hotpink\"\n",
      " | \"indianred\"\n",
      " | \"indigo\"\n",
      " | \"ivory\"\n",
      " | \"khaki\"\n",
      " | \"lavender\"\n",
      " | \"lavenderblush\"\n",
      " | \"lawngreen\"\n",
      " | \"lemonchiffon\"\n",
      " | \"lightblue\"\n",
      " | \"lightcoral\"\n",
      " | \"lightcyan\"\n",
      " | \"lightgoldenrodyellow\"\n",
      " | \"lightgray\"\n",
      " | \"lightgrey\"\n",
      " | \"lightgreen\"\n",
      " | \"lightpink\"\n",
      " | \"lightsalmon\"\n",
      " | \"lightseagreen\"\n",
      " | \"lightskyblue\"\n",
      " | \"lightslategray\"\n",
      " | \"lightslategrey\"\n",
      " | \"lightsteelblue\"\n",
      " | \"lightyellow\"\n",
      " | \"lime\"\n",
      " | \"limegreen\"\n",
      " | \"linen\"\n",
      " | \"magenta\"\n",
      " | \"maroon\"\n",
      " | \"mediumaquamarine\"\n",
      " | \"mediumblue\"\n",
      " | \"mediumorchid\"\n",
      " | \"mediumpurple\"\n",
      " | \"mediumseagreen\"\n",
      " | \"mediumslateblue\"\n",
      " | \"mediumspringgreen\"\n",
      " | \"mediumturquoise\"\n",
      " | \"mediumvioletred\"\n",
      " | \"midnightblue\"\n",
      " | \"mintcream\"\n",
      " | \"mistyrose\"\n",
      " | \"moccasin\"\n",
      " | \"navajowhite\"\n",
      " | \"navy\"\n",
      " | \"oldlace\"\n",
      " | \"olive\"\n",
      " | \"olivedrab\"\n",
      " | \"orange\"\n",
      " | \"orangered\"\n",
      " | \"orchid\"\n",
      " | \"palegoldenrod\"\n",
      " | \"palegreen\"\n",
      " | \"paleturquoise\"\n",
      " | \"palevioletred\"\n",
      " | \"papayawhip\"\n",
      " | \"peachpuff\"\n",
      " | \"peru\"\n",
      " | \"pink\"\n",
      " | \"plum\"\n",
      " | \"powderblue\"\n",
      " | \"purple\"\n",
      " | \"rebeccapurple\"\n",
      " | \"red\"\n",
      " | \"rosybrown\"\n",
      " | \"royalblue\"\n",
      " | \"saddlebrown\"\n",
      " | \"salmon\"\n",
      " | \"sandybrown\"\n",
      " | \"seagreen\"\n",
      " | \"seashell\"\n",
      " | \"sienna\"\n",
      " | \"silver\"\n",
      " | \"skyblue\"\n",
      " | \"slateblue\"\n",
      " | \"slategray\"\n",
      " | \"slategrey\"\n",
      " | \"snow\"\n",
      " | \"springgreen\"\n",
      " | \"steelblue\"\n",
      " | \"tan\"\n",
      " | \"teal\"\n",
      " | \"thistle\"\n",
      " | \"tomato\"\n",
      " | \"turquoise\"\n",
      " | \"violet\"\n",
      " | \"wheat\"\n",
      " | \"white\"\n",
      " | \"whitesmoke\"\n",
      " | \"yellow\"\n",
      " | \"yellowgreen\"\n"
     ]
    }
   ],
   "source": [
    "print(t2)"
   ]
  },
  {
   "cell_type": "code",
   "execution_count": 17,
   "metadata": {},
   "outputs": [
    {
     "name": "stdout",
     "output_type": "stream",
     "text": [
      "start\n",
      "  change_color\n",
      "    red\n",
      "    yellow\n",
      "  fill\n",
      "    code_block\n",
      "      repeat\n",
      "        36\n",
      "        code_block\n",
      "          movement\n",
      "            f\n",
      "            200\n",
      "          movement\n",
      "            l\n",
      "            170\n",
      "\n"
     ]
    }
   ],
   "source": [
    "from lark import Lark\n",
    "\n",
    "turtle_grammar = \"\"\"\n",
    "    start: instruction+\n",
    "\n",
    "    instruction: MOVEMENT NUMBER            -> movement\n",
    "               | \"c\" COLOR [COLOR]          -> change_color\n",
    "               | \"fill\" code_block          -> fill\n",
    "               | \"repeat\" NUMBER code_block -> repeat\n",
    "\n",
    "    code_block: \"{\" instruction+ \"}\"\n",
    "\n",
    "    MOVEMENT: \"f\"|\"b\"|\"l\"|\"r\"\n",
    "    COLOR: LETTER+\n",
    "\n",
    "    %import common.LETTER\n",
    "    %import common.INT -> NUMBER\n",
    "    %import common.WS\n",
    "    %ignore WS\n",
    "\"\"\"\n",
    "\n",
    "parser = Lark(turtle_grammar)\n",
    "\n",
    "\n",
    "text = \"\"\"\n",
    "    c red yellow\n",
    "    fill { repeat 36 {\n",
    "        f200 l170\n",
    "    }}\n",
    "\"\"\"\n",
    "    \n",
    "\n",
    "print(parser.parse(text).pretty())\n",
    "\n"
   ]
  },
  {
   "cell_type": "code",
   "execution_count": 29,
   "metadata": {},
   "outputs": [
    {
     "ename": "UnexpectedCharacters",
     "evalue": "No terminal matches ' ' in the current parser context, at line 1 col 3\n\nab cd\n  ^\nExpected one of: \n\t* NAME\n",
     "output_type": "error",
     "traceback": [
      "\u001b[0;31m---------------------------------------------------------------------------\u001b[0m",
      "\u001b[0;31mUnexpectedCharacters\u001b[0m                      Traceback (most recent call last)",
      "\u001b[1;32m/media/elfnor/BeastHoard/gits/eisenscript_to_xml/notebooks/04-lark-example1.ipynb Cell 7'\u001b[0m in \u001b[0;36m<cell line: 7>\u001b[0;34m()\u001b[0m\n\u001b[1;32m      <a href='vscode-notebook-cell:/media/elfnor/BeastHoard/gits/eisenscript_to_xml/notebooks/04-lark-example1.ipynb#ch0000006?line=4'>5</a>\u001b[0m text \u001b[39m=\u001b[39m \u001b[39m\"\"\"\u001b[39m\u001b[39mab cd\u001b[39m\u001b[39m\"\"\"\u001b[39m\n\u001b[1;32m      <a href='vscode-notebook-cell:/media/elfnor/BeastHoard/gits/eisenscript_to_xml/notebooks/04-lark-example1.ipynb#ch0000006?line=5'>6</a>\u001b[0m parser \u001b[39m=\u001b[39m Lark(g)\n\u001b[0;32m----> <a href='vscode-notebook-cell:/media/elfnor/BeastHoard/gits/eisenscript_to_xml/notebooks/04-lark-example1.ipynb#ch0000006?line=6'>7</a>\u001b[0m \u001b[39mprint\u001b[39m(parser\u001b[39m.\u001b[39;49mparse(text)\u001b[39m.\u001b[39mpretty())\n",
      "File \u001b[0;32m~/.cache/pypoetry/virtualenvs/eisenscript-to-xml-kiBzd_1a-py3.9/lib/python3.9/site-packages/lark/lark.py:625\u001b[0m, in \u001b[0;36mLark.parse\u001b[0;34m(self, text, start, on_error)\u001b[0m\n\u001b[1;32m    <a href='file:///home/elfnor/.cache/pypoetry/virtualenvs/eisenscript-to-xml-kiBzd_1a-py3.9/lib/python3.9/site-packages/lark/lark.py?line=606'>607</a>\u001b[0m \u001b[39mdef\u001b[39;00m \u001b[39mparse\u001b[39m(\u001b[39mself\u001b[39m, text: \u001b[39mstr\u001b[39m, start: Optional[\u001b[39mstr\u001b[39m]\u001b[39m=\u001b[39m\u001b[39mNone\u001b[39;00m, on_error: \u001b[39m'\u001b[39m\u001b[39mOptional[Callable[[UnexpectedInput], bool]]\u001b[39m\u001b[39m'\u001b[39m\u001b[39m=\u001b[39m\u001b[39mNone\u001b[39;00m) \u001b[39m-\u001b[39m\u001b[39m>\u001b[39m \u001b[39m'\u001b[39m\u001b[39mParseTree\u001b[39m\u001b[39m'\u001b[39m:\n\u001b[1;32m    <a href='file:///home/elfnor/.cache/pypoetry/virtualenvs/eisenscript-to-xml-kiBzd_1a-py3.9/lib/python3.9/site-packages/lark/lark.py?line=607'>608</a>\u001b[0m     \u001b[39m\"\"\"Parse the given text, according to the options provided.\u001b[39;00m\n\u001b[1;32m    <a href='file:///home/elfnor/.cache/pypoetry/virtualenvs/eisenscript-to-xml-kiBzd_1a-py3.9/lib/python3.9/site-packages/lark/lark.py?line=608'>609</a>\u001b[0m \n\u001b[1;32m    <a href='file:///home/elfnor/.cache/pypoetry/virtualenvs/eisenscript-to-xml-kiBzd_1a-py3.9/lib/python3.9/site-packages/lark/lark.py?line=609'>610</a>\u001b[0m \u001b[39m    Parameters:\u001b[39;00m\n\u001b[0;32m   (...)\u001b[0m\n\u001b[1;32m    <a href='file:///home/elfnor/.cache/pypoetry/virtualenvs/eisenscript-to-xml-kiBzd_1a-py3.9/lib/python3.9/site-packages/lark/lark.py?line=622'>623</a>\u001b[0m \n\u001b[1;32m    <a href='file:///home/elfnor/.cache/pypoetry/virtualenvs/eisenscript-to-xml-kiBzd_1a-py3.9/lib/python3.9/site-packages/lark/lark.py?line=623'>624</a>\u001b[0m \u001b[39m    \"\"\"\u001b[39;00m\n\u001b[0;32m--> <a href='file:///home/elfnor/.cache/pypoetry/virtualenvs/eisenscript-to-xml-kiBzd_1a-py3.9/lib/python3.9/site-packages/lark/lark.py?line=624'>625</a>\u001b[0m     \u001b[39mreturn\u001b[39;00m \u001b[39mself\u001b[39;49m\u001b[39m.\u001b[39;49mparser\u001b[39m.\u001b[39;49mparse(text, start\u001b[39m=\u001b[39;49mstart, on_error\u001b[39m=\u001b[39;49mon_error)\n",
      "File \u001b[0;32m~/.cache/pypoetry/virtualenvs/eisenscript-to-xml-kiBzd_1a-py3.9/lib/python3.9/site-packages/lark/parser_frontends.py:96\u001b[0m, in \u001b[0;36mParsingFrontend.parse\u001b[0;34m(self, text, start, on_error)\u001b[0m\n\u001b[1;32m     <a href='file:///home/elfnor/.cache/pypoetry/virtualenvs/eisenscript-to-xml-kiBzd_1a-py3.9/lib/python3.9/site-packages/lark/parser_frontends.py?line=93'>94</a>\u001b[0m kw \u001b[39m=\u001b[39m {} \u001b[39mif\u001b[39;00m on_error \u001b[39mis\u001b[39;00m \u001b[39mNone\u001b[39;00m \u001b[39melse\u001b[39;00m {\u001b[39m'\u001b[39m\u001b[39mon_error\u001b[39m\u001b[39m'\u001b[39m: on_error}\n\u001b[1;32m     <a href='file:///home/elfnor/.cache/pypoetry/virtualenvs/eisenscript-to-xml-kiBzd_1a-py3.9/lib/python3.9/site-packages/lark/parser_frontends.py?line=94'>95</a>\u001b[0m stream \u001b[39m=\u001b[39m \u001b[39mself\u001b[39m\u001b[39m.\u001b[39m_make_lexer_thread(text)\n\u001b[0;32m---> <a href='file:///home/elfnor/.cache/pypoetry/virtualenvs/eisenscript-to-xml-kiBzd_1a-py3.9/lib/python3.9/site-packages/lark/parser_frontends.py?line=95'>96</a>\u001b[0m \u001b[39mreturn\u001b[39;00m \u001b[39mself\u001b[39;49m\u001b[39m.\u001b[39;49mparser\u001b[39m.\u001b[39;49mparse(stream, chosen_start, \u001b[39m*\u001b[39;49m\u001b[39m*\u001b[39;49mkw)\n",
      "File \u001b[0;32m~/.cache/pypoetry/virtualenvs/eisenscript-to-xml-kiBzd_1a-py3.9/lib/python3.9/site-packages/lark/parsers/earley.py:266\u001b[0m, in \u001b[0;36mParser.parse\u001b[0;34m(self, lexer, start)\u001b[0m\n\u001b[1;32m    <a href='file:///home/elfnor/.cache/pypoetry/virtualenvs/eisenscript-to-xml-kiBzd_1a-py3.9/lib/python3.9/site-packages/lark/parsers/earley.py?line=262'>263</a>\u001b[0m     \u001b[39melse\u001b[39;00m:\n\u001b[1;32m    <a href='file:///home/elfnor/.cache/pypoetry/virtualenvs/eisenscript-to-xml-kiBzd_1a-py3.9/lib/python3.9/site-packages/lark/parsers/earley.py?line=263'>264</a>\u001b[0m         columns[\u001b[39m0\u001b[39m]\u001b[39m.\u001b[39madd(item)\n\u001b[0;32m--> <a href='file:///home/elfnor/.cache/pypoetry/virtualenvs/eisenscript-to-xml-kiBzd_1a-py3.9/lib/python3.9/site-packages/lark/parsers/earley.py?line=265'>266</a>\u001b[0m to_scan \u001b[39m=\u001b[39m \u001b[39mself\u001b[39;49m\u001b[39m.\u001b[39;49m_parse(lexer, columns, to_scan, start_symbol)\n\u001b[1;32m    <a href='file:///home/elfnor/.cache/pypoetry/virtualenvs/eisenscript-to-xml-kiBzd_1a-py3.9/lib/python3.9/site-packages/lark/parsers/earley.py?line=267'>268</a>\u001b[0m \u001b[39m# If the parse was successful, the start\u001b[39;00m\n\u001b[1;32m    <a href='file:///home/elfnor/.cache/pypoetry/virtualenvs/eisenscript-to-xml-kiBzd_1a-py3.9/lib/python3.9/site-packages/lark/parsers/earley.py?line=268'>269</a>\u001b[0m \u001b[39m# symbol should have been completed in the last step of the Earley cycle, and will be in\u001b[39;00m\n\u001b[1;32m    <a href='file:///home/elfnor/.cache/pypoetry/virtualenvs/eisenscript-to-xml-kiBzd_1a-py3.9/lib/python3.9/site-packages/lark/parsers/earley.py?line=269'>270</a>\u001b[0m \u001b[39m# this column. Find the item for the start_symbol, which is the root of the SPPF tree.\u001b[39;00m\n\u001b[1;32m    <a href='file:///home/elfnor/.cache/pypoetry/virtualenvs/eisenscript-to-xml-kiBzd_1a-py3.9/lib/python3.9/site-packages/lark/parsers/earley.py?line=270'>271</a>\u001b[0m solutions \u001b[39m=\u001b[39m [n\u001b[39m.\u001b[39mnode \u001b[39mfor\u001b[39;00m n \u001b[39min\u001b[39;00m columns[\u001b[39m-\u001b[39m\u001b[39m1\u001b[39m] \u001b[39mif\u001b[39;00m n\u001b[39m.\u001b[39mis_complete \u001b[39mand\u001b[39;00m n\u001b[39m.\u001b[39mnode \u001b[39mis\u001b[39;00m \u001b[39mnot\u001b[39;00m \u001b[39mNone\u001b[39;00m \u001b[39mand\u001b[39;00m n\u001b[39m.\u001b[39ms \u001b[39m==\u001b[39m start_symbol \u001b[39mand\u001b[39;00m n\u001b[39m.\u001b[39mstart \u001b[39m==\u001b[39m \u001b[39m0\u001b[39m]\n",
      "File \u001b[0;32m~/.cache/pypoetry/virtualenvs/eisenscript-to-xml-kiBzd_1a-py3.9/lib/python3.9/site-packages/lark/parsers/xearley.py:146\u001b[0m, in \u001b[0;36mParser._parse\u001b[0;34m(self, stream, columns, to_scan, start_symbol)\u001b[0m\n\u001b[1;32m    <a href='file:///home/elfnor/.cache/pypoetry/virtualenvs/eisenscript-to-xml-kiBzd_1a-py3.9/lib/python3.9/site-packages/lark/parsers/xearley.py?line=142'>143</a>\u001b[0m \u001b[39mfor\u001b[39;00m token \u001b[39min\u001b[39;00m stream:\n\u001b[1;32m    <a href='file:///home/elfnor/.cache/pypoetry/virtualenvs/eisenscript-to-xml-kiBzd_1a-py3.9/lib/python3.9/site-packages/lark/parsers/xearley.py?line=143'>144</a>\u001b[0m     \u001b[39mself\u001b[39m\u001b[39m.\u001b[39mpredict_and_complete(i, to_scan, columns, transitives)\n\u001b[0;32m--> <a href='file:///home/elfnor/.cache/pypoetry/virtualenvs/eisenscript-to-xml-kiBzd_1a-py3.9/lib/python3.9/site-packages/lark/parsers/xearley.py?line=145'>146</a>\u001b[0m     to_scan \u001b[39m=\u001b[39m scan(i, to_scan)\n\u001b[1;32m    <a href='file:///home/elfnor/.cache/pypoetry/virtualenvs/eisenscript-to-xml-kiBzd_1a-py3.9/lib/python3.9/site-packages/lark/parsers/xearley.py?line=147'>148</a>\u001b[0m     \u001b[39mif\u001b[39;00m token \u001b[39m==\u001b[39m \u001b[39m'\u001b[39m\u001b[39m\\n\u001b[39;00m\u001b[39m'\u001b[39m:\n\u001b[1;32m    <a href='file:///home/elfnor/.cache/pypoetry/virtualenvs/eisenscript-to-xml-kiBzd_1a-py3.9/lib/python3.9/site-packages/lark/parsers/xearley.py?line=148'>149</a>\u001b[0m         text_line \u001b[39m+\u001b[39m\u001b[39m=\u001b[39m \u001b[39m1\u001b[39m\n",
      "File \u001b[0;32m~/.cache/pypoetry/virtualenvs/eisenscript-to-xml-kiBzd_1a-py3.9/lib/python3.9/site-packages/lark/parsers/xearley.py:119\u001b[0m, in \u001b[0;36mParser._parse.<locals>.scan\u001b[0;34m(i, to_scan)\u001b[0m\n\u001b[1;32m    <a href='file:///home/elfnor/.cache/pypoetry/virtualenvs/eisenscript-to-xml-kiBzd_1a-py3.9/lib/python3.9/site-packages/lark/parsers/xearley.py?line=116'>117</a>\u001b[0m \u001b[39mif\u001b[39;00m \u001b[39mnot\u001b[39;00m next_set \u001b[39mand\u001b[39;00m \u001b[39mnot\u001b[39;00m delayed_matches \u001b[39mand\u001b[39;00m \u001b[39mnot\u001b[39;00m next_to_scan:\n\u001b[1;32m    <a href='file:///home/elfnor/.cache/pypoetry/virtualenvs/eisenscript-to-xml-kiBzd_1a-py3.9/lib/python3.9/site-packages/lark/parsers/xearley.py?line=117'>118</a>\u001b[0m     considered_rules \u001b[39m=\u001b[39m \u001b[39mlist\u001b[39m(\u001b[39msorted\u001b[39m(to_scan, key\u001b[39m=\u001b[39m\u001b[39mlambda\u001b[39;00m key: key\u001b[39m.\u001b[39mrule\u001b[39m.\u001b[39morigin\u001b[39m.\u001b[39mname))\n\u001b[0;32m--> <a href='file:///home/elfnor/.cache/pypoetry/virtualenvs/eisenscript-to-xml-kiBzd_1a-py3.9/lib/python3.9/site-packages/lark/parsers/xearley.py?line=118'>119</a>\u001b[0m     \u001b[39mraise\u001b[39;00m UnexpectedCharacters(stream, i, text_line, text_column, {item\u001b[39m.\u001b[39mexpect\u001b[39m.\u001b[39mname \u001b[39mfor\u001b[39;00m item \u001b[39min\u001b[39;00m to_scan},\n\u001b[1;32m    <a href='file:///home/elfnor/.cache/pypoetry/virtualenvs/eisenscript-to-xml-kiBzd_1a-py3.9/lib/python3.9/site-packages/lark/parsers/xearley.py?line=119'>120</a>\u001b[0m                                \u001b[39mset\u001b[39m(to_scan), state\u001b[39m=\u001b[39m\u001b[39mfrozenset\u001b[39m(i\u001b[39m.\u001b[39ms \u001b[39mfor\u001b[39;00m i \u001b[39min\u001b[39;00m to_scan),\n\u001b[1;32m    <a href='file:///home/elfnor/.cache/pypoetry/virtualenvs/eisenscript-to-xml-kiBzd_1a-py3.9/lib/python3.9/site-packages/lark/parsers/xearley.py?line=120'>121</a>\u001b[0m                                considered_rules\u001b[39m=\u001b[39mconsidered_rules\n\u001b[1;32m    <a href='file:///home/elfnor/.cache/pypoetry/virtualenvs/eisenscript-to-xml-kiBzd_1a-py3.9/lib/python3.9/site-packages/lark/parsers/xearley.py?line=121'>122</a>\u001b[0m                                )\n\u001b[1;32m    <a href='file:///home/elfnor/.cache/pypoetry/virtualenvs/eisenscript-to-xml-kiBzd_1a-py3.9/lib/python3.9/site-packages/lark/parsers/xearley.py?line=123'>124</a>\u001b[0m \u001b[39mreturn\u001b[39;00m next_to_scan\n",
      "\u001b[0;31mUnexpectedCharacters\u001b[0m: No terminal matches ' ' in the current parser context, at line 1 col 3\n\nab cd\n  ^\nExpected one of: \n\t* NAME\n"
     ]
    }
   ],
   "source": [
    "g = \"\"\"\n",
    "    start: NAME+\n",
    "    NAME: /[^\\W\\d]\\w*/  \n",
    "    %import common.NUMBER\"\"\"\n",
    "text = \"\"\"ab cd\"\"\"\n",
    "parser = Lark(g)\n",
    "print(parser.parse(text).pretty())\n"
   ]
  },
  {
   "cell_type": "code",
   "execution_count": 2,
   "metadata": {},
   "outputs": [],
   "source": [
    "from lark import Lark\n",
    "json_parser = Lark(r\"\"\"\n",
    "    start: value\n",
    "      ?value: dict\n",
    "          | list\n",
    "          | string\n",
    "          | SIGNED_NUMBER      -> number\n",
    "          | \"true\"             -> true\n",
    "          | \"false\"            -> false\n",
    "          | \"null\"             -> null\n",
    "\n",
    "    list : \"[\" [value (\",\" value)*] \"]\"\n",
    "\n",
    "    dict : \"{\" [pair (\",\" pair)*] \"}\"\n",
    "    pair : string \":\" value\n",
    "\n",
    "    string : ESCAPED_STRING\n",
    "\n",
    "    %import common.ESCAPED_STRING\n",
    "    %import common.SIGNED_NUMBER\n",
    "    %import common.WS\n",
    "    %ignore WS\n",
    "\n",
    "    \"\"\")"
   ]
  },
  {
   "cell_type": "code",
   "execution_count": 3,
   "metadata": {},
   "outputs": [
    {
     "data": {
      "text/plain": [
       "Tree(Token('RULE', 'start'), [Tree(Token('RULE', 'dict'), [Tree(Token('RULE', 'pair'), [Tree(Token('RULE', 'string'), [Token('ESCAPED_STRING', '\"key\"')]), Tree(Token('RULE', 'list'), [Tree(Token('RULE', 'string'), [Token('ESCAPED_STRING', '\"item0\"')]), Tree(Token('RULE', 'string'), [Token('ESCAPED_STRING', '\"item1\"')]), Tree('number', [Token('SIGNED_NUMBER', '3.14')])])])])])"
      ]
     },
     "execution_count": 3,
     "metadata": {},
     "output_type": "execute_result"
    }
   ],
   "source": [
    "t = json_parser.parse('{\"key\": [\"item0\", \"item1\", 3.14]}')\n",
    "t"
   ]
  },
  {
   "cell_type": "code",
   "execution_count": 4,
   "metadata": {},
   "outputs": [
    {
     "name": "stdout",
     "output_type": "stream",
     "text": [
      "start\n",
      "  dict\n",
      "    pair\n",
      "      string\t\"key\"\n",
      "      list\n",
      "        string\t\"item0\"\n",
      "        string\t\"item1\"\n",
      "        number\t3.14\n",
      "\n"
     ]
    }
   ],
   "source": [
    "print( t.pretty() )"
   ]
  },
  {
   "cell_type": "code",
   "execution_count": 6,
   "metadata": {},
   "outputs": [],
   "source": [
    "from lark import Transformer\n",
    "\n",
    "class TreeToJson(Transformer):\n",
    "    def string(self, s):\n",
    "        (s,) = s\n",
    "        return s[1:-1]\n",
    "    def number(self, n):\n",
    "        (n,) = n\n",
    "        return float(n)\n",
    "\n",
    "    list = list\n",
    "    pair = tuple\n",
    "    dict = dict\n",
    "\n",
    "    null = lambda self, _: None\n",
    "    true = lambda self, _: True\n",
    "    false = lambda self, _: False"
   ]
  },
  {
   "cell_type": "code",
   "execution_count": 10,
   "metadata": {},
   "outputs": [
    {
     "data": {
      "text/plain": [
       "Tree(Token('RULE', 'start'), [{'key': ['item0', 'item1', 3.14]}])"
      ]
     },
     "execution_count": 10,
     "metadata": {},
     "output_type": "execute_result"
    }
   ],
   "source": [
    "s = TreeToJson().transform(t)\n",
    "s"
   ]
  },
  {
   "cell_type": "code",
   "execution_count": 9,
   "metadata": {},
   "outputs": [
    {
     "name": "stdout",
     "output_type": "stream",
     "text": [
      "start\t{'key': ['item0', 'item1', 3.14]}\n",
      "\n"
     ]
    }
   ],
   "source": [
    "print(s.pretty())"
   ]
  }
 ],
 "metadata": {
  "interpreter": {
   "hash": "1e1bbae3ba3d2e4c66a80b70820b105edcd72f39a4efc614088476d9a3b19e8d"
  },
  "kernelspec": {
   "display_name": "Python 3.8.10 ('eisenscript-to-xml-kiBzd_1a-py3.8')",
   "language": "python",
   "name": "python3"
  },
  "language_info": {
   "codemirror_mode": {
    "name": "ipython",
    "version": 3
   },
   "file_extension": ".py",
   "mimetype": "text/x-python",
   "name": "python",
   "nbconvert_exporter": "python",
   "pygments_lexer": "ipython3",
   "version": "3.9.5"
  },
  "orig_nbformat": 4
 },
 "nbformat": 4,
 "nbformat_minor": 2
}
